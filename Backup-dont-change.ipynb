{
 "cells": [
  {
   "cell_type": "code",
   "execution_count": 47,
   "metadata": {},
   "outputs": [],
   "source": [
    "import numpy as np\n",
    "import matplotlib.pyplot as plt\n"
   ]
  },
  {
   "cell_type": "code",
   "execution_count": 48,
   "metadata": {},
   "outputs": [],
   "source": [
    "\n",
    "class MLFF(object):\n",
    "    def __init__(self,d1 = 27,weight_initializer = 'random'):\n",
    "        \"\"\"\n",
    "        a 3-layer MLFF network:  d input,  2*d+1 neuron in one hidden layer, 1 output neuron\n",
    "        \"\"\"\n",
    "        d2 = d1 * 2 + 1\n",
    "        self.d1 = d1\n",
    "        self.d2 = d2\n",
    "        # list of activation function\n",
    "        self.activate = [None]\n",
    "        # list of activation function derivative\n",
    "        self.derivative=[None]\n",
    "        # Layer 1\n",
    "        # w1: the weights between input layer and hidden layer\n",
    "        # with shape of d2 rows x d1 columns.\n",
    "        # Each row of w1 represents the weigths associated with a neuron in hidden layer\n",
    "        # After adding bias, there are  d2*(d1+1) weights connecting input layer to hidden layer\n",
    "        if weight_initializer == 'random':\n",
    "            nums = np.round(np.random.random((d1+1) * d2)-np.random.random((d1+1) * d2), 3)*10\n",
    "        else:\n",
    "            nums = [0.0] * ((d1 + 1) * d2)\n",
    "        self.w1 = np.array(nums).reshape([d2,(d1+1)])\n",
    "#         self.activate.append(self.logistic)\n",
    "#         self.derivative.append(self.derivative_logistic)\n",
    "        \n",
    "        self.activate.append(self.relu)\n",
    "        self.derivative.append(self.d_relu)\n",
    "        \n",
    "        \n",
    "        # Layer 2:\n",
    "        # w2: the weights between hidden layer and output layer\n",
    "        # there are d2 number of weight , plus one bias. Hence there are d2+1 weights\n",
    "        if weight_initializer == 'random':\n",
    "            nums = np.round(np.random.random(d2+1) - np.random.random(d2+1),3)*10\n",
    "        else:\n",
    "            nums = [0.0]*(d2+1)\n",
    "        self.w2 = np.array(nums)\n",
    "        self.activate.append(self.logistic)\n",
    "        self.derivative.append(self.d_logistic)\n",
    "\n",
    "    def logistic(self, net):\n",
    "        k = 0.01\n",
    "        return 1/(1+ np.exp(-k*net))\n",
    "    \n",
    "    def d_logistic(self,net,out):\n",
    "        \"\"\"\n",
    "        out: numpy array\n",
    "        \"\"\"\n",
    "        k = 0.01\n",
    "#         return k*np.exp(-k*net)/np.square(1+ np.exp(-k*net))\n",
    "        return k*out*(1.0- out)\n",
    "\n",
    "\n",
    "    def relu(self,net):\n",
    "        k =1.0\n",
    "        k1= 0.5\n",
    "        ma = k*np.maximum(net, np.zeros(np.shape(net)))\n",
    "        mi = k1*np.minimum(net, np.zeros(np.shape(net)))\n",
    "        return ma+mi\n",
    "\n",
    "    def d_relu(self, net,o):\n",
    "        k = 1.0\n",
    "        k1 = 0.5\n",
    "        z = np.zeros(np.shape(net))\n",
    "        m = np.maximum(z,net)\n",
    "        deriv = np.where(m>0.0,k,m)\n",
    "        deriv = np.where(deriv==0.0,k1,deriv)\n",
    "        return deriv\n",
    "\n",
    "    \n",
    "    def tanh(self,net):\n",
    "        return np.tanh(net)\n",
    "    \n",
    "    def d_tanh(self,net,o):\n",
    "        return 1.0-np.square(o)\n",
    "    \n",
    "def load_data():\n",
    "    fp = open('db4_Diff1f_100_128w_AEP2_gp2_ver1-1_ece856.txt','r+')\n",
    "    lines = fp.readlines()\n",
    "    input = []\n",
    "    target = []\n",
    "    for line in lines:\n",
    "        line = line.split('\\n')[0]\n",
    "\n",
    "        data=[float(s) for s in line.split(' ') if s!='']\n",
    "        input.append(data)\n",
    "        target.append(1)\n",
    "    fp.close()\n",
    "\n",
    "    fp = open('db4_Diff1f_100_128w_nonAEP2_gp2_ver1-1_ece856.txt', 'r+')\n",
    "    lines = fp.readlines()\n",
    "    for line in lines:\n",
    "        line = line.split('\\n')[0]\n",
    "        data=[float(s) for s in line.split(' ') if s != '']\n",
    "        input.append(data)\n",
    "        target.append(0)\n",
    "    fp.close()\n",
    "    print(\"shape\",np.shape(input),np.shape(target))\n",
    "    return np.array(target), np.array(input)\n",
    "\n"
   ]
  },
  {
   "cell_type": "code",
   "execution_count": 49,
   "metadata": {},
   "outputs": [],
   "source": [
    "import random\n",
    "from sklearn.neighbors import NearestNeighbors\n",
    "import numpy as np\n",
    "class Smote:\n",
    "    def __init__(self,samples,N=10,k=5):\n",
    "        self.n_samples,self.n_attrs=samples.shape\n",
    "        self.N=N\n",
    "        self.k=k\n",
    "        self.samples=samples\n",
    "        self.newindex=0\n",
    "\n",
    "    def over_sampling(self):\n",
    "        N=int(self.N/100)\n",
    "        self.synthetic = np.zeros((self.n_samples * N, self.n_attrs))\n",
    "        neighbors=NearestNeighbors(n_neighbors=self.k).fit(self.samples)  \n",
    "#         print ('neighbors',neighbors)\n",
    "        for i in range(len(self.samples)):\n",
    "#             print('samples',self.samples[i])\n",
    "            nnarray=neighbors.kneighbors(self.samples[i].reshape((1,-1)),return_distance=False)[0]  #Finds the K-neighbors of a point.\n",
    "#             print ('nna',nnarray)\n",
    "            self._populate(N,i,nnarray)\n",
    "        return self.synthetic\n",
    "\n",
    "\n",
    "    # for each minority class sample i ,choose N of the k nearest neighbors and generate N synthetic samples.\n",
    "    def _populate(self,N,i,nnarray):\n",
    "        for j in range(N):\n",
    "#             print('j',j)\n",
    "            nn=random.randint(0,self.k-1)  #包括end\n",
    "            dif=self.samples[nnarray[nn]]-self.samples[i]\n",
    "            gap=random.random()\n",
    "            self.synthetic[self.newindex]=self.samples[i]+gap*dif\n",
    "            self.newindex+=1\n",
    "#             print(self.synthetic)\n",
    "            \n",
    "# a=np.array([[1,2,3],[4,5,6],[2,3,1],[2,1,2],[2,3,4],[2,3,4]])\n",
    "# s=Smote(a,N=200)\n",
    "# n= s.over_sampling()\n",
    "# print(np.shape(n))"
   ]
  },
  {
   "cell_type": "code",
   "execution_count": 50,
   "metadata": {},
   "outputs": [],
   "source": [
    "\n",
    "def save_balanced_data( train_i,train_t,test_i,test_t):\n",
    "    fp = open('balanced_train_v2.txt','w+')\n",
    "    for i in range(len(train_i)):\n",
    "        d_str = str(train_t[i]) + '\\t' +str(train_i[i,:])[1:-1] +'\\n'\n",
    "        fp.write(d_str)\n",
    "    fp.close()\n",
    "\n",
    "    fp = open('testset_v2.txt', 'w+')\n",
    "    for i in range(len(test_i)):\n",
    "        d_str = str(test_t[i]) + '\\t' + str(test_i[i, :])[1:-1] + '\\n'\n",
    "        fp.write(d_str)\n",
    "    fp.close()\n",
    "\n",
    "    pass\n",
    "\n",
    "\n",
    "def balance_data(aep_i,aep_t, non_aep_i,non_aep_t,method ='downsampling', test_aep_sample= 30,test_nonaep_sample= 1200):\n",
    "    \"\"\"\n",
    "\n",
    "    :param aep_i:\n",
    "    :param aep_t:\n",
    "    :param non_aep_i:\n",
    "    :param non_aep_t:\n",
    "    :param method:\n",
    "    :param test_aep_sample:\n",
    "    :param test_nonaep_sample:\n",
    "    :return:\n",
    "    \"\"\"\n",
    "\n",
    "    # split test set and train set\n",
    "    test_aep_sample = int(0.3*len(aep_i))\n",
    "    \n",
    "    aep_test_i = aep_i[0:test_aep_sample,:]\n",
    "    aep_test_t = aep_t[0:test_aep_sample]\n",
    "    test_nonaep_sample = int(0.3*len(non_aep_i))\n",
    "    non_aep_test_i = non_aep_i[0:test_nonaep_sample,:]\n",
    "    non_aep_test_t = non_aep_t[0:test_nonaep_sample]\n",
    "\n",
    "    # test set\n",
    "    test_i = np.concatenate((aep_test_i,non_aep_test_i),axis=0)\n",
    "    test_t = []\n",
    "    test_t.extend(aep_test_t)\n",
    "    test_t.extend( non_aep_test_t)\n",
    "\n",
    "    # train set\n",
    "    aep_i =aep_i[test_aep_sample:,:]\n",
    "    aep_t = np.array(aep_t[test_aep_sample:])\n",
    "    non_aep_i = non_aep_i[test_nonaep_sample:, :]\n",
    "    non_aep_t = non_aep_t[test_nonaep_sample:]\n",
    "\n",
    " \n",
    "    # balance training set here\n",
    "    if method == 'oversampling':\n",
    "        sample_range = len(aep_i)\n",
    "        indices = np.random.randint(sample_range, size=len(non_aep_i))\n",
    "        new_aep_i = aep_i[indices,:]\n",
    "        new_aep_t = aep_t[indices]\n",
    "        \n",
    "        train_i = np.concatenate((new_aep_i, non_aep_i),axis=0)\n",
    "        train_t =[]\n",
    "        train_t.extend(new_aep_t)\n",
    "        train_t.extend(non_aep_t)\n",
    "\n",
    "\n",
    "    elif method == 'downsampling':\n",
    "        sample_range = len(non_aep_i)\n",
    "        indices = np.random.randint(sample_range, size=len(aep_i))\n",
    "        new_nonaep_i = non_aep_i[indices,:]\n",
    "        new_nonaep_t = non_aep_t[indices]\n",
    "        \n",
    "        train_i = np.concatenate((aep_i,new_nonaep_i),axis=0)\n",
    "        train_t =[]\n",
    "        train_t.extend(aep_t)\n",
    "        train_t.extend(new_nonaep_t)\n",
    "        pass\n",
    "    elif method == 'SMOTE':\n",
    "        \n",
    "        s= Smote(aep_i,N=10*int(5000/len(aep_i)))\n",
    "        new_aep_i = s.over_sampling()\n",
    "        new_aep_t = [1.0]*len(new_aep_i)\n",
    "        indices = np.random.randint(len(non_aep_i), size=len(new_aep_i))\n",
    "        new_nonaep_i = non_aep_i[indices,:]\n",
    "        new_nonaep_t = non_aep_t[indices]\n",
    "        \n",
    "        train_i = np.concatenate((new_aep_i,new_nonaep_i),axis=0)\n",
    "        train_t =[]\n",
    "        train_t.extend(new_aep_t)\n",
    "        train_t.extend(new_nonaep_t)\n",
    "    else:\n",
    "        sample_size = 500\n",
    "        indices = np.random.randint(len(non_aep_i), size=sample_size)\n",
    "        new_nonaep_i = non_aep_i[indices,:]\n",
    "        new_nonaep_t = non_aep_t[indices]\n",
    "        indices = np.random.randint(len(aep_i), size=sample_size)\n",
    "        new_aep_i = aep_i[indices,:]\n",
    "        new_aep_t = aep_t[indices]\n",
    "        \n",
    "        train_i = np.concatenate((new_aep_i,new_nonaep_i),axis=0)\n",
    "        train_t =[]\n",
    "        train_t.extend(new_aep_t)\n",
    "        train_t.extend(new_nonaep_t)\n",
    "        pass\n",
    "\n",
    "\n",
    "    return train_i,train_t,test_i,test_t\n",
    "\n",
    "\n",
    "\n",
    "def load_balanced_data(method='SMOTE'):\n",
    "    fp = open('db4_Diff1f_100_128w_AEP2_gp2_ver1-1_ece856.txt', 'r+')\n",
    "    lines = fp.readlines()\n",
    "    aep_i = []\n",
    "    aep_t = []\n",
    "    non_aep_i = []\n",
    "    non_aep_t = []\n",
    "\n",
    "    for line in lines:\n",
    "        line = line.split('\\n')[0]\n",
    "        data = [float(s) for s in line.split(' ') if s != '']\n",
    "        aep_i.append(data)\n",
    "        aep_t.append(1)\n",
    "    fp.close()\n",
    "\n",
    "    aep_i = np.array(aep_i)\n",
    "    aep_t = np.array(aep_t)\n",
    "\n",
    "    fp = open('db4_Diff1f_100_128w_nonAEP2_gp2_ver1-1_ece856.txt', 'r+')\n",
    "    lines = fp.readlines()\n",
    "    for line in lines:\n",
    "        line = line.split('\\n')[0]\n",
    "        data = [float(s) for s in line.split(' ') if s != '']\n",
    "        non_aep_i.append(data)\n",
    "        non_aep_t.append(0)\n",
    "    fp.close()\n",
    "    non_aep_i = np.array(non_aep_i)\n",
    "    non_aep_t = np.array(non_aep_t)\n",
    "\n",
    "#     train_i, train_t, test_i, test_t= balance_data(aep_i,aep_t,non_aep_i,non_aep_t,method='downsampling')\n",
    "    train_i, train_t, test_i, test_t= balance_data(aep_i,aep_t,non_aep_i,non_aep_t,method=method)\n",
    "    save_balanced_data(train_i, train_t, test_i, test_t)\n",
    "    train_i, train_t, test_i, test_t = np.array(train_i),np.array(train_t),np.array(test_i),np.array(test_t)\n",
    "    return train_i, train_t, test_i, test_t\n"
   ]
  },
  {
   "cell_type": "code",
   "execution_count": 51,
   "metadata": {},
   "outputs": [],
   "source": [
    "\n",
    "def feedforward(i,model,bias = False):\n",
    "    \"\"\"\n",
    "\n",
    "    :param i: a 1-D array input vector with shape (27,) \n",
    "    :param model: multi-layer feedforward network model\n",
    "    :param bias: a flag indicating if bias should be used\n",
    "    :return:\n",
    "        input: 1-D array, including bias\n",
    "        o1: 1-D array, intermmediate output from hidden layer, it includes the bias. o1 have shape\n",
    "        output:a scalar value,  the output of neural network, it is a scalar value.  \n",
    "        For this dx(2d+1)x 1 neural network, the output represents the possibility whether the input is AEP\n",
    "    \"\"\"\n",
    "    output = 0.0\n",
    "    input = np.zeros(len(i) + 1)\n",
    "    input[1:] = i\n",
    "    if bias:\n",
    "        input[0] = 1.0\n",
    "    i = input.reshape((len(i) + 1,1))\n",
    "    # i shape:  n x 1 , vector\n",
    "    net_1= np.matmul(model.w1, i)\n",
    "    # activation of hidden layer, s1: nx1 vector\n",
    "    s1 =model.activate[1](net_1)\n",
    "    \n",
    "    #print(\"s1 shape:\",np.shape(s1))\n",
    "\n",
    "    # add feature x0 =1 to intermediate output if bias is enabled\n",
    "    # o1 is 1-D array\n",
    "    o1= np.zeros(len(s1)+1)\n",
    "    #print(\"o1 shape:\",np.shape(o1))\n",
    "    o1[1:]= s1[:,0]\n",
    "    if bias:\n",
    "        o1[0] = 1.0\n",
    "\n",
    "    # output layer\n",
    "    net_2 = np.dot(o1, model.w2)\n",
    "    # output of MLFF\n",
    "    output = model.activate[2](net_2)\n",
    "\n",
    "    return input, o1, output\n",
    "\n",
    "\n",
    "def backforward(model,o0,o1,o2,t):\n",
    "    \"\"\"\n",
    "    :param model:  a model object storing all weights \n",
    "    :param o0: 1-D array\n",
    "    :param o1: 1-D array\n",
    "    :param o2: a scalar value from output layer\n",
    "    :param t: target, a scalar value\n",
    "    :return:\n",
    "        delta_1: a scalar value\n",
    "        delta_2: a 1-D array\n",
    "    \"\"\"\n",
    "    ## output layer:\n",
    "    # dE/do = (t-o)\n",
    "    diff = t-o2\n",
    "    dE_o2 = -diff\n",
    "    # do/dnet = o(1-o) for logistic function,  a scalar value\n",
    "    dO_net =model.derivative[2](None,o2)\n",
    "\n",
    "    # dnet/w = o1\n",
    "    # delta = (t-o)*f'(net)= - dE/do * f'(net), a scalar value\n",
    "    delta2 = -dE_o2 * dO_net\n",
    "\n",
    "    # hidden layer :\n",
    "    # Do not back-propagate bias in hidden layer,  to the last layer\n",
    "    # model.w2[0] is the bias between hidden layer and output layer\n",
    "    # model.w2[1:]: 1-D array\n",
    "    dE_o1 = -delta2 * model.w2\n",
    "    dE_o1 =  dE_o1[1:]\n",
    "    o1 = o1[1:]\n",
    "    \n",
    "    dO1_net = model.derivative[1](np.dot(model.w1,o0),o1)\n",
    "        \n",
    "    delta1 = -dE_o1* dO1_net\n",
    "    \n",
    "    return delta1,delta2\n",
    "\n",
    "\n",
    "\n",
    "def predict(inputs,model,bias=False):\n",
    "    pred = []\n",
    "    for i in range(len(inputs)):\n",
    "        _,_, o= feedforward(inputs[i,:],model,bias)\n",
    "        pred.append(1 if o>=0.5 else 0)\n",
    "\n",
    "    return  np.array(pred)\n"
   ]
  },
  {
   "cell_type": "code",
   "execution_count": 52,
   "metadata": {},
   "outputs": [],
   "source": [
    "def GDR_train(inputs,targets,model,bias=False,alpha0 = 1 , beta0 = 1,momentum= False,max_iter= 1000):\n",
    "    \"\"\"\n",
    "\n",
    "    :param inputs:  a matrix, i has shape nxm,  n is the number of sample,  m is the size of one sample\n",
    "    in this project, each sample has 27 features, hence m=27\n",
    "\n",
    "    :param targets:   a list of target with shape 1xn\n",
    "    :param model:   Multi-layer neural network model, containing weights, bias and other parameters. See class MLNN\n",
    "    :param bias:    a flag indicating if bias should be used\n",
    "    :param momentum:\n",
    "    :param alpha:  learning rate\n",
    "    :param beta: weight of momentum\n",
    "    :param max_iter:\n",
    "    :return:\n",
    "    \"\"\"\n",
    "    err_tss= []\n",
    "    sensitivity = []\n",
    "    specification = []\n",
    "    l = len(inputs)\n",
    "    delta_wn1 = None\n",
    "    delta_wn2 = None\n",
    "    delta_w1 = None\n",
    "    delta_w2 = None\n",
    "\n",
    "    for epoch in range(max_iter):\n",
    "        err =0.0\n",
    "        # update\n",
    "#         alpha = alpha0*(max_iter-epoch)/max_iter\n",
    "#         beta = beta0*(max_iter-epoch)/max_iter\n",
    "        alpha =alpha0/(float(0.1*epoch)+1)\n",
    "        beta = beta0/(float(0.1*epoch)+1)\n",
    "        # 1 epoch update\n",
    "        for i in range(l):\n",
    "            o0, o1, o2 =feedforward(inputs[i,:],model,bias)\n",
    "\n",
    "            diff =targets[i] - o2\n",
    "            err += np.square(diff)\n",
    "\n",
    "            # calculate Etss : Error = 0.5*(o-t)^2\n",
    "            # GDR update with backforward propagation\n",
    "            #delta1 and delta2 are either 1-D array /list, or a scalar value\n",
    "            delta1, delta2= backforward(model,o0,o1,o2,targets[i])\n",
    "\n",
    "            # update weights in layer 2\n",
    "            delta_w2 = alpha * delta2 * o1\n",
    "            model.w2 += delta_w2\n",
    "            # update weights in layer 1\n",
    "            delta1 = np.reshape(delta1,(len(delta1),1))\n",
    "            o0 = o0.reshape((1,len(o0)))\n",
    "            delta_w1 = alpha*delta1*o0\n",
    "            model.w1 += delta_w1\n",
    "#             print(\"delta w2:\",delta_w2)\n",
    "#             print(\"delta w1:\",delta_w1)\n",
    "            if momentum and epoch>0:\n",
    "                model.w2 += beta * delta_wn2\n",
    "                model.w1 += beta * delta_wn1    \n",
    "                            \n",
    "\n",
    "        if momentum:            \n",
    "            #update momentum\n",
    "            delta_wn1 = delta_w1.copy()\n",
    "            delta_wn2 = delta_w2.copy()\n",
    "\n",
    "        err= 0.5*err\n",
    "        if epoch%1000 ==0:\n",
    "            err_tss.append(err)\n",
    "            # Test sensitivity here\n",
    "            pred = predict(inputs, model)\n",
    "            pred = np.array([1 if p>=0.5 else 0 for p in pred])\n",
    "#             print(\"pred:\",pred[np.where(np.array(targets)>0)])\n",
    "            cnts = np.sum(targets)\n",
    "            TP= np.sum(pred[np.where(np.array(targets)>0)])\n",
    "            sens = TP / cnts\n",
    "            spec_cnts =  len(targets) - cnts\n",
    "            TN =len(pred[np.where(np.array(targets)==0)]) - np.sum(pred[np.where(np.array(targets)==0)])\n",
    "            specif = TN/spec_cnts\n",
    "            sensitivity.append(sens)\n",
    "            specification.append(specif)\n",
    "            print('Epoch:',epoch,\"Error: \",err,\"Sensitivity:\",sens,\"Specif:\",specif)\n",
    "\n",
    "    return  err_tss,sensitivity,specification\n"
   ]
  },
  {
   "cell_type": "code",
   "execution_count": 53,
   "metadata": {},
   "outputs": [
    {
     "name": "stdout",
     "output_type": "stream",
     "text": [
      "(944, 27) (944,) (768, 27) (768,)\n",
      "(27,)\n"
     ]
    }
   ],
   "source": [
    " # load data\n",
    "from sklearn.utils import shuffle\n",
    "x_train, t_train, x_test, y_test = load_balanced_data()\n",
    "print(np.shape(x_train),np.shape(t_train),np.shape(x_test),np.shape(y_test))\n",
    "print(np.shape(x_train[2,:]))"
   ]
  },
  {
   "cell_type": "code",
   "execution_count": 54,
   "metadata": {},
   "outputs": [],
   "source": [
    "x_train, t_train = shuffle(x_train, t_train)\n"
   ]
  },
  {
   "cell_type": "code",
   "execution_count": 55,
   "metadata": {},
   "outputs": [],
   "source": [
    "x_train = (x_train- np.min(x_train,axis=0))/(np.max(x_train,axis=0) - np.min(x_train,axis=0))    \n",
    "x_test = (x_test- np.min(x_test,axis=0))/(np.max(x_test,axis=0) - np.min(x_test,axis=0))    "
   ]
  },
  {
   "cell_type": "code",
   "execution_count": 56,
   "metadata": {},
   "outputs": [
    {
     "name": "stdout",
     "output_type": "stream",
     "text": [
      "Epoch: 0 Error:  118.5189836747274 Sensitivity: 0.2288135593220339 Specif: 0.8898305084745762\n",
      "Epoch: 1000 Error:  77.34683149798369 Sensitivity: 0.8538135593220338 Specif: 0.7584745762711864\n",
      "Epoch: 2000 Error:  74.69687175674777 Sensitivity: 0.8538135593220338 Specif: 0.7563559322033898\n",
      "Epoch: 3000 Error:  73.20376643519363 Sensitivity: 0.8538135593220338 Specif: 0.7584745762711864\n",
      "Epoch: 4000 Error:  72.18332678669927 Sensitivity: 0.8559322033898306 Specif: 0.7648305084745762\n",
      "Epoch: 5000 Error:  71.42008496325516 Sensitivity: 0.8622881355932204 Specif: 0.7711864406779662\n",
      "Epoch: 6000 Error:  70.81425307293684 Sensitivity: 0.864406779661017 Specif: 0.7690677966101694\n",
      "Epoch: 7000 Error:  70.31918404786613 Sensitivity: 0.8728813559322034 Specif: 0.7733050847457628\n",
      "Epoch: 8000 Error:  69.89913367149852 Sensitivity: 0.8686440677966102 Specif: 0.7817796610169492\n",
      "Epoch: 9000 Error:  69.53494332260446 Sensitivity: 0.8686440677966102 Specif: 0.7838983050847458\n"
     ]
    }
   ],
   "source": [
    "model_1 = MLFF(weight_initializer='random')\n",
    "w1_temp = model_1.w1.copy()\n",
    "w2_temp = model_1.w2.copy()\n",
    "\n",
    "err_tss_1, sensitivity_1,specification_1= GDR_train(x_train, t_train,model_1,\n",
    "                                                    bias=False,alpha0=1,beta0=1,momentum=False,max_iter=10000)\n"
   ]
  },
  {
   "cell_type": "code",
   "execution_count": 57,
   "metadata": {},
   "outputs": [
    {
     "name": "stdout",
     "output_type": "stream",
     "text": [
      "Model 1 acc: 0.6158854166666666\n"
     ]
    }
   ],
   "source": [
    "p = predict(x_test,model_1,bias=False)\n",
    "acc1=float(list(np.logical_xor(y_test,p)).count(False))/len(p)\n",
    "print(\"Model 1 acc:\",acc1)"
   ]
  },
  {
   "cell_type": "code",
   "execution_count": 60,
   "metadata": {},
   "outputs": [
    {
     "name": "stdout",
     "output_type": "stream",
     "text": [
      "Epoch: 0 Error:  111.93036893367764 Sensitivity: 0.1843220338983051 Specif: 0.9173728813559322\n",
      "Epoch: 1000 Error:  75.56783401675762 Sensitivity: 0.8601694915254238 Specif: 0.7415254237288136\n",
      "Epoch: 2000 Error:  72.61485845237901 Sensitivity: 0.8622881355932204 Specif: 0.760593220338983\n",
      "Epoch: 3000 Error:  71.02300689569863 Sensitivity: 0.8580508474576272 Specif: 0.7711864406779662\n",
      "Epoch: 4000 Error:  69.94514155674878 Sensitivity: 0.8622881355932204 Specif: 0.7796610169491526\n",
      "Epoch: 5000 Error:  69.13471980972417 Sensitivity: 0.8622881355932204 Specif: 0.7838983050847458\n",
      "Epoch: 6000 Error:  68.49519449652385 Sensitivity: 0.8622881355932204 Specif: 0.7860169491525424\n",
      "Epoch: 7000 Error:  67.97048002871595 Sensitivity: 0.8622881355932204 Specif: 0.7860169491525424\n",
      "Epoch: 8000 Error:  67.52564795302727 Sensitivity: 0.8601694915254238 Specif: 0.788135593220339\n",
      "Epoch: 9000 Error:  67.13966720843963 Sensitivity: 0.8622881355932204 Specif: 0.798728813559322\n"
     ]
    }
   ],
   "source": [
    "model_2 = MLFF(weight_initializer='random')\n",
    "m2_w1_temp = model_2.w1.copy()\n",
    "m2_w2_temp = model_2.w2.copy()\n",
    "err_tss_2, sensitivity_2,specification_2= GDR_train(x_train, t_train,model_2, bias=False,alpha0=1,beta0=1, momentum=False,max_iter=10000)\n",
    "# epochs = [i for i in range(len(err_tss))]"
   ]
  },
  {
   "cell_type": "code",
   "execution_count": 61,
   "metadata": {},
   "outputs": [
    {
     "name": "stdout",
     "output_type": "stream",
     "text": [
      "Model 2 acc: 0.5768229166666666\n"
     ]
    }
   ],
   "source": [
    "preds = predict(x_test,model_2,bias=False)\n",
    "acc = float(list(np.logical_xor(y_test,preds)).count(False))/len(y_test)\n",
    "print(\"Model 2 acc:\",acc)\n",
    "\n"
   ]
  },
  {
   "cell_type": "code",
   "execution_count": null,
   "metadata": {},
   "outputs": [
    {
     "name": "stdout",
     "output_type": "stream",
     "text": [
      "Epoch: 0 Error:  126.66923774157031 Sensitivity: 0.006355932203389831 Specif: 0.9533898305084746\n",
      "Epoch: 1000 Error:  82.95622808697247 Sensitivity: 0.13559322033898305 Specif: 0.9576271186440678\n",
      "Epoch: 2000 Error:  80.54718549688747 Sensitivity: 0.13771186440677965 Specif: 0.9576271186440678\n",
      "Epoch: 3000 Error:  79.18154621901965 Sensitivity: 0.163135593220339 Specif: 0.9576271186440678\n",
      "Epoch: 4000 Error:  78.23327008898661 Sensitivity: 0.1652542372881356 Specif: 0.9576271186440678\n",
      "Epoch: 5000 Error:  77.50598997975327 Sensitivity: 0.17372881355932204 Specif: 0.9576271186440678\n",
      "Epoch: 6000 Error:  76.91813566864931 Sensitivity: 0.17796610169491525 Specif: 0.9576271186440678\n",
      "Epoch: 7000 Error:  76.42303146282636 Sensitivity: 0.17796610169491525 Specif: 0.9576271186440678\n"
     ]
    }
   ],
   "source": [
    "model_2_b = MLFF(weight_initializer='random')\n",
    "model_2.w1 = m2_w1_temp.copy()\n",
    "model_2.w2 = m2_w2_temp.copy()\n",
    "err_tss_2_b, sensitivity_2_b,specification_2_b= GDR_train(x_train, t_train,model_2_b, bias=True,alpha0=1,beta0=1, momentum=False,max_iter=10000)\n"
   ]
  },
  {
   "cell_type": "code",
   "execution_count": null,
   "metadata": {},
   "outputs": [],
   "source": [
    "preds = predict(x_test,model_2_b,bias=False)\n",
    "acc = float(list(np.logical_xor(y_test,preds)).count(False))/len(y_test)\n",
    "print(\"Model 2 acc:\",acc)\n",
    "\n"
   ]
  },
  {
   "cell_type": "code",
   "execution_count": 43,
   "metadata": {},
   "outputs": [
    {
     "name": "stdout",
     "output_type": "stream",
     "text": [
      "Epoch: 0 Error:  118.81158255688679 Sensitivity: 0.9216101694915254 Specif: 0.2860169491525424\n",
      "Epoch: 1000 Error:  99.51820635384226 Sensitivity: 0.7690677966101694 Specif: 0.6694915254237288\n",
      "Epoch: 2000 Error:  96.05811847082315 Sensitivity: 0.8072033898305084 Specif: 0.6779661016949152\n",
      "Epoch: 3000 Error:  93.90265134960111 Sensitivity: 0.8177966101694916 Specif: 0.6885593220338984\n",
      "Epoch: 4000 Error:  92.30464226945998 Sensitivity: 0.8305084745762712 Specif: 0.684322033898305\n",
      "Epoch: 5000 Error:  91.14586659152096 Sensitivity: 0.8516949152542372 Specif: 0.690677966101695\n",
      "Epoch: 6000 Error:  90.29650730845597 Sensitivity: 0.8538135593220338 Specif: 0.684322033898305\n",
      "Epoch: 7000 Error:  89.62461852927012 Sensitivity: 0.8538135593220338 Specif: 0.6716101694915254\n",
      "Epoch: 8000 Error:  89.0610474889635 Sensitivity: 0.8559322033898306 Specif: 0.6716101694915254\n",
      "Epoch: 9000 Error:  88.57976015369265 Sensitivity: 0.8580508474576272 Specif: 0.6758474576271186\n"
     ]
    }
   ],
   "source": [
    "# case 3\n",
    "model_3 = MLFF()\n",
    "model_3.w1= w1_temp.copy()\n",
    "model_3.w2= w2_temp.copy()\n",
    "err_tss_3, sensitivity_3,specification_3= GDR_train(x_train, t_train,model_3, bias=False,alpha0=1,beta0=1, momentum=True,max_iter=10000)\n",
    "\n"
   ]
  },
  {
   "cell_type": "code",
   "execution_count": 44,
   "metadata": {},
   "outputs": [
    {
     "name": "stdout",
     "output_type": "stream",
     "text": [
      "Model 3 acc: 0.6614583333333334\n"
     ]
    }
   ],
   "source": [
    "preds = predict(x_test,model_3,bias=False)\n",
    "acc = float(list(np.logical_xor(y_test,preds)).count(False))/len(y_test)\n",
    "print(\"Model 3 acc:\",acc)"
   ]
  },
  {
   "cell_type": "code",
   "execution_count": 45,
   "metadata": {},
   "outputs": [
    {
     "name": "stdout",
     "output_type": "stream",
     "text": [
      "Epoch: 0 Error:  117.97138534808073 Sensitivity: 0.3326271186440678 Specif: 0.5423728813559322\n",
      "Epoch: 1000 Error:  96.59503667516766 Sensitivity: 0.11016949152542373 Specif: 0.940677966101695\n",
      "Epoch: 2000 Error:  94.05040885796177 Sensitivity: 0.1419491525423729 Specif: 0.9364406779661016\n",
      "Epoch: 3000 Error:  92.72042697311214 Sensitivity: 0.1504237288135593 Specif: 0.934322033898305\n",
      "Epoch: 4000 Error:  91.83236826992199 Sensitivity: 0.1504237288135593 Specif: 0.9300847457627118\n",
      "Epoch: 5000 Error:  91.16744070028646 Sensitivity: 0.1504237288135593 Specif: 0.9279661016949152\n",
      "Epoch: 6000 Error:  90.63655811401235 Sensitivity: 0.1504237288135593 Specif: 0.9258474576271186\n",
      "Epoch: 7000 Error:  90.19489259408108 Sensitivity: 0.1504237288135593 Specif: 0.923728813559322\n",
      "Epoch: 8000 Error:  89.81677691062409 Sensitivity: 0.15466101694915255 Specif: 0.923728813559322\n",
      "Epoch: 9000 Error:  89.4861847720269 Sensitivity: 0.15466101694915255 Specif: 0.923728813559322\n"
     ]
    }
   ],
   "source": [
    "# case 3\n",
    "model_4 = MLFF()\n",
    "model_4.w1= m2_w1_temp.copy()\n",
    "model_4.w2= m2_w2_temp.copy()\n",
    "err_tss_4, sensitivity_4,specification_4= GDR_train(x_train, t_train,model_4, bias=True,alpha0=1,beta0=1, momentum=True,max_iter=10000)\n"
   ]
  },
  {
   "cell_type": "code",
   "execution_count": 46,
   "metadata": {},
   "outputs": [
    {
     "name": "stdout",
     "output_type": "stream",
     "text": [
      "Model 4 acc: 0.65234375\n"
     ]
    }
   ],
   "source": [
    "preds = predict(x_test,model_4,bias=True)\n",
    "acc = float(list(np.logical_xor(y_test,preds)).count(False))/len(y_test)\n",
    "print(\"Model 4 acc:\",acc)"
   ]
  },
  {
   "cell_type": "code",
   "execution_count": 134,
   "metadata": {},
   "outputs": [],
   "source": [
    "# save weights\n",
    "def save_weights(w,i):\n",
    "    import json\n",
    "    fp = open(\"case_\"+str(i)+\"_v2.txt\",\"w+\")\n",
    "    fp.write(json.dumps(w))\n",
    "    fp.close()\n",
    "d1={'w1':w1_temp.tolist(),'w2':w2_temp.tolist()}\n",
    "d2= {'w1':m2_w1_temp.tolist(),'w2':m2_w2_temp.tolist()}\n",
    "save_weights( d1,1)\n",
    "save_weights( d2,2)\n",
    "\n"
   ]
  },
  {
   "cell_type": "code",
   "execution_count": 138,
   "metadata": {},
   "outputs": [],
   "source": [
    "#save error sensitivity \n",
    "dic_Err = {'1':err_tss_1,'2':err_tss_2,'3':err_tss_3,'4':err_tss_4}\n",
    "dic_Sen={'1':sensitivity_1,'2':sensitivity_2,'3':sensitivity_3,'4':sensitivity_4}\n",
    "dic_Spec={'1':specification_1,'2':specification_2,'3':specification_3,'4':specification_4}\n",
    "def save_curves(file_name,d):\n",
    "    import json\n",
    "    fp = open(file_name+\"_v2.txt\",\"w+\")\n",
    "    fp.write(json.dumps(d))\n",
    "    fp.close()\n",
    "    \n",
    "save_curves(\"Etss\",dic_Err)\n",
    "save_curves(\"Sensitivity\",dic_Sen)\n",
    "save_curves(\"Specification\",dic_Spec)\n"
   ]
  },
  {
   "cell_type": "code",
   "execution_count": 139,
   "metadata": {},
   "outputs": [],
   "source": [
    "%matplotlib inline"
   ]
  },
  {
   "cell_type": "code",
   "execution_count": 140,
   "metadata": {},
   "outputs": [
    {
     "data": {
      "text/plain": [
       "Text(0,0.5,'Sum square error')"
      ]
     },
     "execution_count": 140,
     "metadata": {},
     "output_type": "execute_result"
    },
    {
     "data": {
      "image/png": "[encoded data removed]",
      "text/plain": [
       "<Figure size 432x288 with 1 Axes>"
      ]
     },
     "metadata": {},
     "output_type": "display_data"
    }
   ],
   "source": [
    "#plot data\n",
    "epochs = [i for i in range(int(10000/1000))]\n",
    "plt.plot(epochs,err_tss_1,'r',label='case-1')\n",
    "plt.plot(epochs,err_tss_2,'g',label='case-2')\n",
    "plt.plot(epochs,err_tss_3,'b',label='case-3')\n",
    "plt.plot(epochs,err_tss_4,'y',label='case-4')\n",
    "plt.legend([\"case-1\",\"case-2\",\"case-3\",\"case-4\"])\n",
    "plt.xlabel(\"epochs (per 100 epochs)\")\n",
    "plt.ylabel(\"Sum square error\")"
   ]
  },
  {
   "cell_type": "code",
   "execution_count": 141,
   "metadata": {},
   "outputs": [
    {
     "data": {
      "text/plain": [
       "Text(0,0.5,'Sensitivity (TP)')"
      ]
     },
     "execution_count": 141,
     "metadata": {},
     "output_type": "execute_result"
    },
    {
     "data": {
      "image/png": "[encoded data removed]",
      "text/plain": [
       "<Figure size 432x288 with 1 Axes>"
      ]
     },
     "metadata": {},
     "output_type": "display_data"
    }
   ],
   "source": [
    "ind= np.argsort(specification_1)\n",
    "specification_1 = np.array(specification_1)[ind] \n",
    "sensitivity_1= np.array(sensitivity_1)[ind]\n",
    "\n",
    "ind= np.argsort(specification_2)\n",
    "specification_2 = np.array(specification_2)[ind] \n",
    "sensitivity_2= np.array(sensitivity_2)[ind]\n",
    "\n",
    "ind= np.argsort(specification_3)\n",
    "specification_3 = np.array(specification_3)[ind] \n",
    "sensitivity_3= np.array(sensitivity_3)[ind]\n",
    "\n",
    "ind= np.argsort(specification_4)\n",
    "specification_4 = np.array(specification_4)[ind] \n",
    "sensitivity_4= np.array(sensitivity_4)[ind]\n",
    "plt.plot(1-specification_1,sensitivity_1,'r',label='case-1')\n",
    "plt.plot(1-specification_2,sensitivity_2,'g',label='case-2')\n",
    "plt.plot(1-specification_3,sensitivity_3,'b',label='case-3')\n",
    "plt.plot(1-specification_4,sensitivity_4,'y',label='case-4')\n",
    "plt.legend([\"case-1\",\"case-2\",\"case-3\",\"case-4\"])\n",
    "plt.xlabel(\"False positive\")\n",
    "plt.ylabel(\"Sensitivity (TP)\")"
   ]
  },
  {
   "cell_type": "code",
   "execution_count": null,
   "metadata": {},
   "outputs": [],
   "source": []
  }
 ],
 "metadata": {
  "kernelspec": {
   "display_name": "Python 3 (my CI env)",
   "language": "python",
   "name": "myenv"
  },
  "language_info": {
   "codemirror_mode": {
    "name": "ipython",
    "version": 3
   },
   "file_extension": ".py",
   "mimetype": "text/x-python",
   "name": "python",
   "nbconvert_exporter": "python",
   "pygments_lexer": "ipython3",
   "version": "3.6.8"
  }
 },
 "nbformat": 4,
 "nbformat_minor": 2
}
