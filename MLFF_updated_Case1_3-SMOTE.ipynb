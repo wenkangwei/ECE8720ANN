{
 "cells": [
  {
   "cell_type": "code",
   "execution_count": 72,
   "metadata": {},
   "outputs": [],
   "source": [
    "import numpy as np\n",
    "import matplotlib.pyplot as plt\n"
   ]
  },
  {
   "cell_type": "code",
   "execution_count": 73,
   "metadata": {},
   "outputs": [],
   "source": [
    "import random\n",
    "from sklearn.neighbors import NearestNeighbors\n",
    "import numpy as np\n",
    "class Smote:\n",
    "    def __init__(self,samples,N=10,k=5):\n",
    "        self.n_samples,self.n_attrs=samples.shape\n",
    "        self.N=N\n",
    "        self.k=k\n",
    "        self.samples=samples\n",
    "        self.newindex=0\n",
    "\n",
    "    def over_sampling(self):\n",
    "        N=int(self.N)\n",
    "        self.synthetic = np.zeros((self.n_samples * N, self.n_attrs))\n",
    "        neighbors=NearestNeighbors(n_neighbors=self.k).fit(self.samples)  \n",
    "        for i in range(len(self.samples)):\n",
    "#             print('samples',self.samples[i])\n",
    "            nnarray=neighbors.kneighbors(self.samples[i].reshape((1,-1)),return_distance=False)[0]  #Finds the K-neighbors of a point.\n",
    "#             print ('nna',nnarray)\n",
    "            self._populate(N,i,nnarray)\n",
    "        return self.synthetic\n",
    "\n",
    "\n",
    "    # for each minority class sample i ,choose N of the k nearest neighbors and generate N synthetic samples.\n",
    "    def _populate(self,N,i,nnarray):\n",
    "        for j in range(N):\n",
    "            nn=random.randint(0,self.k-1)\n",
    "            dif=self.samples[nnarray[nn]]-self.samples[i]\n",
    "            gap=random.random()\n",
    "            self.synthetic[self.newindex]=self.samples[i]+gap*dif\n",
    "            self.newindex+=1\n",
    "#             print(self.synthetic)\n",
    "            \n",
    "# a=np.array([[1,2,3],[4,5,6],[2,3,1],[2,1,2],[2,3,4],[2,3,4]])\n",
    "# s=Smote(a,N=2)\n",
    "# n= s.over_sampling()\n",
    "# print(np.shape(n))"
   ]
  },
  {
   "cell_type": "code",
   "execution_count": 74,
   "metadata": {},
   "outputs": [],
   "source": [
    "\n",
    "def save_balanced_data( train_i,train_t,test_i,test_t,train_name=\"balanced_train\",test_name=\"test\"):\n",
    "    \n",
    "    fp = open('./Balanced-data/'+train_name+'.txt','w+')\n",
    "    for i in range(len(train_i)):\n",
    "        d_str = str(train_t[i]) + '\\t' +str(train_i[i,:].tolist())[1:-1].replace(',','') +'\\n'\n",
    "        fp.write(d_str)\n",
    "    fp.close()\n",
    "    \n",
    "    fp = open('./Balanced-data/'+test_name+'.txt', 'w+')\n",
    "    for i in range(len(test_i)):\n",
    "        d_str = str(test_t[i]) + '\\t' + str(test_i[i, :].tolist())[1:-1].replace(',','') + '\\n'\n",
    "        fp.write(d_str)\n",
    "    fp.close()\n",
    "\n",
    "    pass\n",
    "\n",
    "\n",
    "def balance_data(aep_i,aep_t, non_aep_i,non_aep_t,pattern_N= 450,method ='undersampling', test_aep_ratio= 0.3,test_nonaep_ratio= 0.3):\n",
    "    \"\"\"\n",
    "\n",
    "    :param aep_i:\n",
    "    :param aep_t:\n",
    "    :param non_aep_i:\n",
    "    :param non_aep_t:\n",
    "    :param pattern_N: the number of training input of each pattern\n",
    "    :param method:\n",
    "    :param test_aep_ratio:\n",
    "    :param test_nonaep_ratio:\n",
    "    :return:\n",
    "    \"\"\"\n",
    "\n",
    "    print(\"Original data size:\")\n",
    "    print(\"aep:\",len(aep_i),'non_aep:',len(non_aep_i))\n",
    "    # split test set and train set\n",
    "    test_aep_sample = int(test_aep_ratio*len(aep_i))\n",
    "    aep_test_i = aep_i[0:test_aep_sample,:]\n",
    "    aep_test_t = aep_t[0:test_aep_sample]\n",
    "    \n",
    "    test_nonaep_sample = int(test_nonaep_ratio*len(non_aep_i))\n",
    "    non_aep_test_i = non_aep_i[0:test_nonaep_sample,:]\n",
    "    non_aep_test_t = non_aep_t[0:test_nonaep_sample]\n",
    "\n",
    "    # test set\n",
    "    test_i = np.concatenate((aep_test_i,non_aep_test_i),axis=0)\n",
    "    test_t = []\n",
    "    test_t.extend(aep_test_t)\n",
    "    test_t.extend( non_aep_test_t)\n",
    "\n",
    "    # train set\n",
    "    aep_i =aep_i[test_aep_sample:,:]\n",
    "    aep_t = np.array(aep_t[test_aep_sample:])\n",
    "    non_aep_i = non_aep_i[test_nonaep_sample:, :]\n",
    "    non_aep_t = non_aep_t[test_nonaep_sample:]\n",
    "\n",
    " \n",
    "    # balance training set here\n",
    "    if method == 'oversampling':\n",
    "        print(\"Using oversampling...\")\n",
    "        sample_range = len(aep_i)\n",
    "        indices = np.random.randint(sample_range, size=len(non_aep_i))\n",
    "        new_aep_i = aep_i[indices,:]\n",
    "        new_aep_t = aep_t[indices]\n",
    "        \n",
    "        train_i = np.concatenate((new_aep_i, non_aep_i),axis=0)\n",
    "        train_t =[]\n",
    "        train_t.extend(new_aep_t)\n",
    "        train_t.extend(non_aep_t)\n",
    "\n",
    "\n",
    "    elif method == 'undersampling':\n",
    "        print(\"Using undersampling...\")\n",
    "        sample_range = len(non_aep_i)\n",
    "        indices = np.random.randint(sample_range, size=len(aep_i))\n",
    "        new_nonaep_i = non_aep_i[indices,:]\n",
    "        new_nonaep_t = non_aep_t[indices]\n",
    "        \n",
    "        train_i = np.concatenate((aep_i,new_nonaep_i),axis=0)\n",
    "        train_t =[]\n",
    "        train_t.extend(aep_t)\n",
    "        train_t.extend(new_nonaep_t)\n",
    "        pass\n",
    "    elif method == 'SMOTE':\n",
    "        print(\"Using SMOTE...\")\n",
    "        #generate new aep data\n",
    "        s= Smote(aep_i,N=10*len(aep_i))\n",
    "        new_aep_i = s.over_sampling()\n",
    "        indices = np.random.randint(len(new_aep_i), size=pattern_N)\n",
    "        new_aep_i = new_aep_i[indices,:]\n",
    "        new_aep_t = [1.0]*len(new_aep_i)\n",
    "        \n",
    "        #downsample non aep data and make aep and non_aep data have same size \n",
    "        indices = np.random.randint(len(non_aep_i), size=len(new_aep_i))\n",
    "        new_nonaep_i = non_aep_i[indices,:]\n",
    "        new_nonaep_t = non_aep_t[indices]\n",
    "        #first half of data is aep, second half of data is non_aep\n",
    "        train_i = np.concatenate((new_aep_i,new_nonaep_i),axis=0)\n",
    "        train_t =[]\n",
    "        train_t.extend(new_aep_t)\n",
    "        train_t.extend(new_nonaep_t)\n",
    "        \n",
    "    else:\n",
    "        print(\"Using undersampling+ oversampling...\")\n",
    "        #Default downsample non_aep data and oversample aep data randomly\n",
    "        #downsample non_aep data\n",
    "        sample_size = pattern_N\n",
    "        indices = np.random.randint(len(non_aep_i), size=sample_size)\n",
    "        new_nonaep_i = non_aep_i[indices,:]\n",
    "        new_nonaep_t = non_aep_t[indices]\n",
    "        #oversample aep data\n",
    "        indices = np.random.randint(len(aep_i), size=sample_size)\n",
    "        new_aep_i = aep_i[indices,:]\n",
    "        new_aep_t = aep_t[indices]\n",
    "        \n",
    "        train_i = np.concatenate((new_aep_i,new_nonaep_i),axis=0)\n",
    "        train_t =[]\n",
    "        train_t.extend(new_aep_t)\n",
    "        train_t.extend(new_nonaep_t)\n",
    "        pass\n",
    "\n",
    "\n",
    "    return train_i,train_t,test_i,test_t\n",
    "\n",
    "\n",
    "\n",
    "def load_balanced_data(train_name=\"balanced_train\",test_name=\"test\"):\n",
    "   \n",
    "    train_i = []\n",
    "    train_t = []\n",
    "    test_i = []\n",
    "    test_t = []\n",
    "    fp = open('./Balanced-data/'+train_name+'.txt','r')\n",
    "    lines= fp.readlines()\n",
    "    for line in lines:\n",
    "        line = line.split('\\n')[0]\n",
    "        target, inputs =line.split('\\t')[0],line.split('\\t')[1]\n",
    "        data = [float(s) for s in inputs.split(' ') if s != '']\n",
    "        train_t.append(float(target))\n",
    "        train_i.append(data)\n",
    "    fp.close()\n",
    "    \n",
    "    fp = open('./Balanced-data/'+test_name+'.txt','r')\n",
    "    lines= fp.readlines()\n",
    "    for line in lines:\n",
    "        line = line.split('\\n')[0]\n",
    "        target, inputs =line.split('\\t')[0],line.split('\\t')[1]\n",
    "        data = [float(s) for s in inputs.split(' ') if s != '']\n",
    "        test_t.append(float(target))\n",
    "        test_i.append(data)\n",
    "    fp.close()\n",
    "    \n",
    "    train_i, train_t, test_i, test_t = np.array(train_i),np.array(train_t),np.array(test_i),np.array(test_t)\n",
    "    \n",
    "    return train_i, train_t, test_i, test_t\n",
    "\n",
    "\n",
    "\n",
    "def create_balanced_data(method=\"SMOTE\"):\n",
    "    fp = open('db4_Diff1f_100_128w_AEP2_gp2_ver1-1_ece856.txt', 'r+')\n",
    "    lines = fp.readlines()\n",
    "    aep_i = []\n",
    "    aep_t = []\n",
    "    non_aep_i = []\n",
    "    non_aep_t = []\n",
    "\n",
    "    for line in lines:\n",
    "        line = line.split('\\n')[0]\n",
    "        data = [float(s) for s in line.split(' ') if s != '']\n",
    "        aep_i.append(data)\n",
    "        aep_t.append(1)\n",
    "    fp.close()\n",
    "\n",
    "    aep_i = np.array(aep_i)\n",
    "    aep_t = np.array(aep_t)\n",
    "\n",
    "    fp = open('db4_Diff1f_100_128w_nonAEP2_gp2_ver1-1_ece856.txt', 'r+')\n",
    "    lines = fp.readlines()\n",
    "    for line in lines:\n",
    "        line = line.split('\\n')[0]\n",
    "        data = [float(s) for s in line.split(' ') if s != '']\n",
    "        non_aep_i.append(data)\n",
    "        non_aep_t.append(0)\n",
    "    fp.close()\n",
    "    non_aep_i = np.array(non_aep_i)\n",
    "    non_aep_t = np.array(non_aep_t)\n",
    "\n",
    "    \n",
    "    \n",
    "    train_i, train_t, test_i, test_t= balance_data(aep_i,aep_t,non_aep_i,non_aep_t,method=method)\n",
    "    \n",
    "    train_i, train_t, test_i, test_t = np.array(train_i),np.array(train_t),np.array(test_i),np.array(test_t)\n",
    "    return train_i, train_t, test_i, test_t\n"
   ]
  },
  {
   "cell_type": "code",
   "execution_count": 171,
   "metadata": {},
   "outputs": [],
   "source": [
    "class MLFF():\n",
    "    def __init__(self,input_shape = 27, bias=False):\n",
    "#         np.random.seed(1)\n",
    "        self.weights = {}\n",
    "        self.bias_enabled = bias\n",
    "        self.weight_correction = {}\n",
    "        self.delta ={}\n",
    "        self.input_shape = input_shape\n",
    "        self.num_layer = 1 # initialize input layer\n",
    "        self.func_pair = {'logistic':(self.logistic,self.d_logistic),'relu':(self.relu,self.d_relu),'tanh':(self.tanh,self.d_tanh)}\n",
    "        self.activate = {}\n",
    "        self.derivative = {}\n",
    "        \n",
    "    def add_layer(self,shape, activation=None,initializer='random'):\n",
    "        if initializer =='zero':\n",
    "            # zero initializer\n",
    "            self.weights[self.num_layer] = np.vstack((np.zeros(shape[1]), np.zeros((shape))))\n",
    "        else:\n",
    "            #random initializer\n",
    "            # The first row is bias \n",
    "            self.weights[self.num_layer] = np.vstack((10*np.random.random(shape[1])-5, 10*np.random.random(shape)-5))\n",
    "        self.weight_correction[self.num_layer]= np.zeros((shape[0]+1, shape[1]))\n",
    "        \n",
    "        self.num_layer += 1\n",
    "        \n",
    "        # the address to activation function\n",
    "        if activation is not None and activation is not '':\n",
    "            self.activate[self.num_layer] = self.func_pair[activation][0]\n",
    "            self.derivative[self.num_layer] = self.func_pair[activation][1]\n",
    "        else:\n",
    "            self.activate[self.num_layer] = self.logistic\n",
    "            self.derivative[self.num_layer] = self.d_logistic\n",
    "            \n",
    "        \n",
    "    def logistic(self, net):\n",
    "        k = 0.01\n",
    "        return 1/(1+ np.exp(-k*net))\n",
    "    \n",
    "    def d_logistic(self,net,out):\n",
    "        \"\"\"\n",
    "        out: numpy array\n",
    "        \"\"\"\n",
    "        k = 0.01\n",
    "        return k*out*(1.0- out)\n",
    "\n",
    "    \n",
    "    def tanh(self,net):\n",
    "        return np.tanh(net)\n",
    "    \n",
    "    def d_tanh(self,net,o):\n",
    "        return 1.0-np.square(o)\n",
    "    \n",
    "    def relu(self,net):\n",
    "        k =1.0\n",
    "        k1= 0.1\n",
    "        ma = k*np.maximum(net, np.zeros(np.shape(net)))\n",
    "        mi = k1*np.minimum(net, np.zeros(np.shape(net)))\n",
    "        return ma+mi\n",
    "    \n",
    "    def d_relu(self, net,o):\n",
    "        k = 1.0\n",
    "        k1 = 0.1\n",
    "        z = np.zeros(np.shape(net))\n",
    "        m = np.maximum(z,net)\n",
    "        deriv = np.where(m>0.0,k,m)\n",
    "        deriv = np.where(deriv==0.0,k1,deriv)\n",
    "        return deriv\n",
    "    \n",
    "    \n",
    "    def feedforward(self,inputs,bias= False):\n",
    "        \"\"\"\n",
    "        input: 1-D array\n",
    "        \"\"\"\n",
    "        out = {}\n",
    "        out[1] = inputs\n",
    "        for i in range(self.num_layer-1):\n",
    "            layer = i+1\n",
    "            net = np.dot(out[layer], self.weights[layer][1:,:])\n",
    "            if bias:\n",
    "                net += self.weights[layer][0,:]\n",
    "            out[layer+1]= self.activate[layer+1](net)\n",
    "            \n",
    "        return out, out[self.num_layer]\n",
    "    \n",
    "        \n",
    "    def backforward(self,out, target,alpha,momentum_coeff, bias = False,momentum_enabled=False):\n",
    "        \"\"\"\n",
    "        Apply General delta rule to backforward\n",
    "        out: the dictionary storing all outputs in different layers\n",
    "        \"\"\"\n",
    "        pred = out[self.num_layer]\n",
    "        dE_o = -(target- pred)\n",
    "        prev_net = np.dot(out[self.num_layer-1], self.weights[self.num_layer-1][1:,:])\n",
    "        if bias:\n",
    "            prev_net += self.weights[self.num_layer-1][0,:]\n",
    "        \n",
    "        \n",
    "        \n",
    "        self.delta[self.num_layer] = -np.multiply(dE_o, self.derivative[self.num_layer](prev_net,pred) )\n",
    "        # calculate delta of each layer\n",
    "        # calculate delta from layer-2 to the last second layer,since the input layer doesn't have delta\n",
    "        # delta  of the output layer is determined by output\n",
    "        for layer in reversed(range(2, self.num_layer)):\n",
    "            last_delta = self.delta[layer+1] \n",
    "            \n",
    "            dE_o =np.dot(self.weights[layer][1:,:], last_delta)\n",
    "            prev_net = np.dot(out[layer-1], self.weights[layer-1][1:,:])\n",
    "            if bias:\n",
    "                prev_net += self.weights[layer-1][0,:]\n",
    "                \n",
    "            d_f =self.derivative[layer](prev_net,out[layer])\n",
    "            self.delta[layer] = -np.multiply(dE_o, d_f)\n",
    "            \n",
    "        #calculate and update weight correction\n",
    "        for layer in range(1, self.num_layer):\n",
    "            delta_p = np.multiply(self.delta[layer+1],np.reshape(out[layer], (len(out[layer]), 1)))\n",
    "            if momentum_enabled:\n",
    "                self.weight_correction[layer][1:,:] *= momentum_coeff\n",
    "                \n",
    "            self.weight_correction[layer][1:,:] += alpha*delta_p \n",
    "            #update bias if enabled\n",
    "            if bias:\n",
    "                if momentum_enabled:\n",
    "                    self.weight_correction[layer][0,:] *= momentum_coeff\n",
    "                self.weight_correction[layer][0,:] += alpha*self.delta[layer+1] \n",
    "                \n",
    "        return None\n",
    "    \n",
    "    def reset(self):\n",
    "         for layer in range(1, self.num_layer):\n",
    "            self.weights[layer] = np.zeros(self.weight_correction[layer].shape)\n",
    "            #reset weight correction after updating weights\n",
    "            self.weight_correction[layer]= np.zeros(np.shape(self.weight_correction[layer]))\n",
    "            \n",
    "\n",
    "    def predict(self, inputs,bias=False):\n",
    "        _, preds = self.feedforward(inputs,bias)\n",
    "        preds = np.array([1 if p>=0.5 else 0 for p in preds])\n",
    "        return preds\n",
    "        \n",
    "    def gradient_descent(self):\n",
    "        for layer in range(1, self.num_layer):\n",
    "            self.weights[layer] += self.weight_correction[layer]\n",
    "            #reset weight correction after updating weights\n",
    "            self.weight_correction[layer]= np.zeros(np.shape(self.weight_correction[layer]))\n",
    "\n",
    "        return None\n",
    "    \n",
    "    def train(self,inputs,targets,adaptive_rate=True,alpha0=0.9, beta0=0.99,\n",
    "              bias =False,momentum_enabled = False,max_iteration = 1000,interval =100,e_th=50):\n",
    "        pre_err= 0.0\n",
    "        sens = 0.0\n",
    "        spec =0.0\n",
    "\n",
    "        Etss = []\n",
    "        sensitivity = []\n",
    "        specificity = []\n",
    "        \n",
    "        alpha = alpha0\n",
    "        \n",
    "        for epoch in range(max_iteration):\n",
    "            err = 0.0\n",
    "            #need to decrease learning rate alpha, otherwise, it would not decrease error, error doesn't converge\n",
    "            if adaptive_rate:\n",
    "                    alpha = alpha0/(0.001*epoch+1.0)\n",
    "                \n",
    "            \n",
    "            beta = beta0\n",
    "\n",
    "            for i in range(len(inputs)):\n",
    "                outs, pred= self.feedforward(inputs[i,:],bias)\n",
    "                \n",
    "                err  += 0.5*pow(targets[i]-pred[0], 2)\n",
    "                self.backforward(outs,targets[i],alpha=alpha,\n",
    "                                 momentum_coeff=beta,\n",
    "                                 bias=bias,\n",
    "                                 momentum_enabled =momentum_enabled)\n",
    "        \n",
    "            \n",
    "            #trained by epoch\n",
    "            m = self.gradient_descent()\n",
    "\n",
    "            #save data every 10 epochs\n",
    "            if epoch % 100 == 0:\n",
    "                preds = self.predict(inputs,bias)\n",
    "                eap_cnts = float(np.sum(targets))\n",
    "                TP = np.sum(preds[np.where(targets == 1)])\n",
    "                sens = TP/eap_cnts\n",
    "                \n",
    "                noneap_cnts =float(len(targets) - float(np.sum(targets))) \n",
    "                TN = len(preds[np.where(targets == 0)])- np.sum(preds[np.where(targets == 0)])\n",
    "                spec = TN/noneap_cnts\n",
    "                sensitivity.append(sens)\n",
    "                \n",
    "                specificity.append(spec)\n",
    "                Etss.append(err)\n",
    "                #print data after every interval epochs pass\n",
    "                if  epoch%interval == 0:  \n",
    "                    print(\"Epoch:\", epoch,\"Error:\",err,\"Sensitivity:\",sens,\"specificity:\",spec)\n",
    "            \n",
    "            \n",
    "            if epoch>1 and ( int(err)<=e_th ):\n",
    "                break\n",
    "                pass\n",
    "            \n",
    "            else:\n",
    "                pre_err = err\n",
    "            \n",
    "        return Etss, specificity, sensitivity\n",
    "            "
   ]
  },
  {
   "cell_type": "code",
   "execution_count": 172,
   "metadata": {},
   "outputs": [],
   "source": [
    "## generate and save balanced data here\n",
    "# train_i, train_t, test_i, test_t = create_balanced_data(method=\"undersampling\")\n",
    "# save_balanced_data(train_i, train_t, test_i, test_t,train_name=\"under_sampling_train\",test_name=\"under_sampling_test\")\n",
    "# print(\"shape:\",np.shape(train_i),np.shape(train_t),np.shape(test_i))\n",
    "\n",
    "# train_i, train_t, test_i, test_t = create_balanced_data(method=\"SMOTE\")\n",
    "# save_balanced_data(train_i, train_t, test_i, test_t,train_name=\"SMOTE_train_v1\",test_name=\"SMOTE_test_v1\")\n",
    "\n"
   ]
  },
  {
   "cell_type": "code",
   "execution_count": 173,
   "metadata": {},
   "outputs": [],
   "source": [
    "# # load balanced data and shuffle them\n",
    "# train_i, train_t, test_i, test_t = load_balanced_data(train_name=\"SMOTE_train_v1\",test_name=\"SMOTE_test_v1\")\n",
    "# print(\"shape:\",np.shape(train_i),np.shape(train_t),np.shape(test_i),np.shape(test_t))\n",
    "# from sklearn.utils import shuffle\n",
    "# train_i, train_t = shuffle(train_i, train_t)"
   ]
  },
  {
   "cell_type": "code",
   "execution_count": 174,
   "metadata": {},
   "outputs": [],
   "source": [
    "# #normalize data\n",
    "# len_train = len(train_i)\n",
    "# len_test = len(test_i)\n",
    "# data = np.concatenate([train_i,test_i])\n",
    "# #normalize data to range [-1,1]\n",
    "# new_max =1.0\n",
    "# new_min = -1.0\n",
    "# norm_data = data\n",
    "# norm_data = ((data- np.min(data,axis=0))/(np.max(data,axis=0) - np.min(data,axis=0)))*(new_max-new_min)+new_min\n",
    "# norm_train_i = norm_data[0:len_train,:]\n",
    "# test_i = norm_data[len_train:,:]\n"
   ]
  },
  {
   "cell_type": "code",
   "execution_count": 175,
   "metadata": {},
   "outputs": [
    {
     "data": {
      "text/plain": [
       "((1668, 27), (1668, 27), (900, 27), (768, 27))"
      ]
     },
     "execution_count": 175,
     "metadata": {},
     "output_type": "execute_result"
    }
   ],
   "source": [
    "save_balanced_data(norm_train_i,train_t,test_i,test_t,train_name=\"normalized_train\",test_name=\"normalized_test\")\n",
    "norm_train_i,train_t,test_i,test_t= load_balanced_data(train_name=\"normalized_train\",test_name=\"normalized_test\")\n",
    "\n",
    "np.shape(norm_data), np.shape(data), np.shape(norm_train_i), np.shape(test_i)\n"
   ]
  },
  {
   "cell_type": "code",
   "execution_count": 176,
   "metadata": {},
   "outputs": [],
   "source": [
    "# save weights\n",
    "def save_weights(w,model):\n",
    "    import json\n",
    "    fp = open(\"weights/model_case_\"+str(model)+\".txt\",\"w+\")\n",
    "    fp.write(json.dumps(w))\n",
    "    fp.close()\n",
    "\n",
    "def load_weights(model,layer=3):\n",
    "    import json\n",
    "    fp = open(\"weights/model_case_\"+str(model)+\".txt\",\"r\")\n",
    "    line= fp.read()\n",
    "    w= json.loads(line)\n",
    "    d={}\n",
    "    for i in range(layer):\n",
    "        l= i+1\n",
    "        d[l]=np.array(w[str(l)])\n",
    "    \n",
    "    return d\n",
    "\n",
    "def save_curves(case,name,epoch,err, specif,sens):\n",
    "    import json\n",
    "    fp = open(\"Case-\"+str(case)+\"-data\"+\"/log_\"+name+\".txt\",\"w+\")\n",
    "    for i in range(len(epoch)):\n",
    "        fp.write(str(epoch[i])+\" \"+str(err[i])+\" \"+str(sens[i])+\" \"+str(specif[i])+\"\\n\")\n",
    "           \n",
    "    fp.close()"
   ]
  },
  {
   "cell_type": "code",
   "execution_count": 177,
   "metadata": {},
   "outputs": [],
   "source": [
    "#initialize weights of case 1 randomly\n",
    "d = 27\n",
    "model_1 = MLFF(input_shape  = d)\n",
    "model_1.add_layer((d,d),activation='relu')\n",
    "model_1.add_layer((d,2*d+1),activation='relu')\n",
    "model_1.add_layer((2*d+1,1),activation='')"
   ]
  },
  {
   "cell_type": "code",
   "execution_count": 181,
   "metadata": {
    "scrolled": true
   },
   "outputs": [
    {
     "name": "stdout",
     "output_type": "stream",
     "text": [
      "Epoch: 0 Error: 216.36152665838569 Sensitivity: 0.8822222222222222 specificity: 0.14666666666666667\n",
      "Epoch: 100 Error: 219.0110314294777 Sensitivity: 1.0 specificity: 0.024444444444444446\n",
      "Epoch: 200 Error: 130.75164891883819 Sensitivity: 0.2 specificity: 0.9488888888888889\n",
      "Epoch: 300 Error: 139.9885537567202 Sensitivity: 0.24222222222222223 specificity: 0.9133333333333333\n",
      "Epoch: 400 Error: 119.58981349514515 Sensitivity: 0.21333333333333335 specificity: 0.9111111111111111\n",
      "Epoch: 500 Error: 98.30877228011472 Sensitivity: 0.9866666666666667 specificity: 0.41555555555555557\n",
      "Epoch: 600 Error: 95.30871063834402 Sensitivity: 0.9777777777777777 specificity: 0.46\n",
      "Epoch: 700 Error: 91.46302942994367 Sensitivity: 0.98 specificity: 0.48444444444444446\n",
      "Epoch: 800 Error: 86.18012829752305 Sensitivity: 0.9688888888888889 specificity: 0.52\n",
      "Epoch: 900 Error: 78.07028317375465 Sensitivity: 0.9711111111111111 specificity: 0.5555555555555556\n",
      "Epoch: 1000 Error: 76.75019190387778 Sensitivity: 0.98 specificity: 0.54\n",
      "Epoch: 1100 Error: 71.4144048821381 Sensitivity: 0.9133333333333333 specificity: 0.6177777777777778\n",
      "Epoch: 1200 Error: 74.53616106349301 Sensitivity: 0.96 specificity: 0.5733333333333334\n",
      "Epoch: 1300 Error: 74.092045269723 Sensitivity: 0.9755555555555555 specificity: 0.5555555555555556\n",
      "Epoch: 1400 Error: 70.27806320908782 Sensitivity: 0.9622222222222222 specificity: 0.5866666666666667\n",
      "Epoch: 1500 Error: 65.84661061092467 Sensitivity: 0.9488888888888889 specificity: 0.6244444444444445\n",
      "Epoch: 1600 Error: 62.610370101343584 Sensitivity: 0.9511111111111111 specificity: 0.6377777777777778\n",
      "Epoch: 1700 Error: 59.506642563643695 Sensitivity: 0.9511111111111111 specificity: 0.6666666666666666\n",
      "Epoch: 1800 Error: 57.07561145206995 Sensitivity: 0.9511111111111111 specificity: 0.6955555555555556\n",
      "Epoch: 1900 Error: 56.2054914956558 Sensitivity: 0.9555555555555556 specificity: 0.6911111111111111\n",
      "Epoch: 2000 Error: 55.25243766597815 Sensitivity: 0.9555555555555556 specificity: 0.6822222222222222\n",
      "Epoch: 2100 Error: 53.711374552034556 Sensitivity: 0.9555555555555556 specificity: 0.6933333333333334\n",
      "Epoch: 2200 Error: 52.57081729027518 Sensitivity: 0.9555555555555556 specificity: 0.6866666666666666\n",
      "Epoch: 2300 Error: 52.20463954860994 Sensitivity: 0.9577777777777777 specificity: 0.6888888888888889\n",
      "Epoch: 2400 Error: 52.01719688963075 Sensitivity: 0.96 specificity: 0.6933333333333334\n",
      "Epoch: 2500 Error: 52.036820728126365 Sensitivity: 0.9555555555555556 specificity: 0.7\n",
      "Epoch: 2600 Error: 50.7234541216626 Sensitivity: 0.9555555555555556 specificity: 0.7266666666666667\n",
      "Epoch: 2700 Error: 50.64267899927352 Sensitivity: 0.9555555555555556 specificity: 0.7177777777777777\n",
      "Epoch: 2800 Error: 47.885804131112806 Sensitivity: 0.9511111111111111 specificity: 0.7488888888888889\n",
      "Epoch: 2900 Error: 46.64838156354727 Sensitivity: 0.9466666666666667 specificity: 0.7511111111111111\n",
      "Epoch: 3000 Error: 47.194491587751095 Sensitivity: 0.9555555555555556 specificity: 0.7377777777777778\n",
      "Epoch: 3100 Error: 44.17804564703663 Sensitivity: 0.9555555555555556 specificity: 0.7711111111111111\n",
      "Epoch: 3200 Error: 43.65842674876229 Sensitivity: 0.9555555555555556 specificity: 0.7644444444444445\n",
      "Epoch: 3300 Error: 42.801090648473156 Sensitivity: 0.9555555555555556 specificity: 0.7644444444444445\n",
      "Epoch: 3400 Error: 41.039282912629965 Sensitivity: 0.9488888888888889 specificity: 0.8066666666666666\n",
      "Epoch: 3500 Error: 39.70591764795827 Sensitivity: 0.9377777777777778 specificity: 0.8511111111111112\n",
      "Epoch: 3600 Error: 40.63943862349647 Sensitivity: 0.9466666666666667 specificity: 0.8244444444444444\n",
      "Epoch: 3700 Error: 41.747466823211845 Sensitivity: 0.9488888888888889 specificity: 0.7822222222222223\n",
      "Epoch: 3800 Error: 42.26300425445377 Sensitivity: 0.9577777777777777 specificity: 0.7777777777777778\n",
      "Epoch: 3900 Error: 40.936623409259234 Sensitivity: 0.9533333333333334 specificity: 0.8022222222222222\n"
     ]
    }
   ],
   "source": [
    "#case 1: determine learning rate\n",
    "model_1.reset()\n",
    "model_1.weights=load_weights(\"1\",layer=len(model_1.weights.keys()))\n",
    "Etss_1c, specif_1c, sens_1c = model_1.train(norm_train_i,train_t,adaptive_rate = True,alpha0= 0.017,\n",
    "                                   bias=False,momentum_enabled=False ,max_iteration = 4000,e_th=38)\n",
    "\n"
   ]
  },
  {
   "cell_type": "code",
   "execution_count": 182,
   "metadata": {},
   "outputs": [],
   "source": [
    "epochs_1c=  [i*100 for i in range(len(Etss_1c))]\n",
    "save_curves(1,\"adaptive_rate_0.017\",epochs_1c,Etss_1c, specif_1c, sens_1c )\n",
    "#save weights\n",
    "d1= {}\n",
    "for k in model_1.weights.keys():\n",
    "    d1[k]=model_1.weights[k].tolist()\n",
    "save_weights( d1,\"1_c\")"
   ]
  },
  {
   "cell_type": "code",
   "execution_count": 183,
   "metadata": {},
   "outputs": [
    {
     "name": "stdout",
     "output_type": "stream",
     "text": [
      "Model 1 acc: 0.88671875\n"
     ]
    }
   ],
   "source": [
    "preds = model_1.predict(test_i,bias=False)\n",
    "acc = float(list(np.logical_xor(test_t,preds)).count(False))/len(test_t)\n",
    "print(\"Model 1 acc:\",acc)\n"
   ]
  },
  {
   "cell_type": "code",
   "execution_count": 184,
   "metadata": {
    "scrolled": true
   },
   "outputs": [
    {
     "name": "stdout",
     "output_type": "stream",
     "text": [
      "Epoch: 0 Error: 216.36152665838569 Sensitivity: 0.9777777777777777 specificity: 0.02666666666666667\n",
      "Epoch: 100 Error: 135.12506521043755 Sensitivity: 0.5888888888888889 specificity: 0.5711111111111111\n",
      "Epoch: 200 Error: 120.97630716372754 Sensitivity: 0.5977777777777777 specificity: 0.6466666666666666\n",
      "Epoch: 300 Error: 108.29191062553117 Sensitivity: 0.6711111111111111 specificity: 0.6422222222222222\n",
      "Epoch: 400 Error: 97.17411811781368 Sensitivity: 0.7311111111111112 specificity: 0.6355555555555555\n",
      "Epoch: 500 Error: 93.07797146350585 Sensitivity: 0.7488888888888889 specificity: 0.6733333333333333\n",
      "Epoch: 600 Error: 92.36986479360075 Sensitivity: 0.72 specificity: 0.6377777777777778\n",
      "Epoch: 700 Error: 89.87663867510079 Sensitivity: 0.7311111111111112 specificity: 0.6488888888888888\n",
      "Epoch: 800 Error: 93.79788643932696 Sensitivity: 0.7088888888888889 specificity: 0.6244444444444445\n",
      "Epoch: 900 Error: 89.68175429450864 Sensitivity: 0.7288888888888889 specificity: 0.6666666666666666\n",
      "Epoch: 1000 Error: 86.6146019394359 Sensitivity: 0.7466666666666667 specificity: 0.6711111111111111\n",
      "Epoch: 1100 Error: 82.33155325478779 Sensitivity: 0.7733333333333333 specificity: 0.7133333333333334\n",
      "Epoch: 1200 Error: 81.00329760551259 Sensitivity: 0.7511111111111111 specificity: 0.7133333333333334\n",
      "Epoch: 1300 Error: 79.11097243194642 Sensitivity: 0.7866666666666666 specificity: 0.7377777777777778\n",
      "Epoch: 1400 Error: 77.68323907101396 Sensitivity: 0.7911111111111111 specificity: 0.7444444444444445\n",
      "Epoch: 1500 Error: 76.75972617549077 Sensitivity: 0.7822222222222223 specificity: 0.7333333333333333\n",
      "Epoch: 1600 Error: 76.45817396269419 Sensitivity: 0.7822222222222223 specificity: 0.7377777777777778\n",
      "Epoch: 1700 Error: 76.23660216483489 Sensitivity: 0.7866666666666666 specificity: 0.7311111111111112\n",
      "Epoch: 1800 Error: 75.79164178178614 Sensitivity: 0.7888888888888889 specificity: 0.7222222222222222\n",
      "Epoch: 1900 Error: 75.16101932195201 Sensitivity: 0.8022222222222222 specificity: 0.72\n",
      "Epoch: 2000 Error: 74.19166506819731 Sensitivity: 0.82 specificity: 0.7355555555555555\n",
      "Epoch: 2100 Error: 74.11337129073138 Sensitivity: 0.8133333333333334 specificity: 0.7444444444444445\n",
      "Epoch: 2200 Error: 77.50639885340225 Sensitivity: 0.7977777777777778 specificity: 0.7333333333333333\n",
      "Epoch: 2300 Error: 77.80284636699055 Sensitivity: 0.8044444444444444 specificity: 0.7177777777777777\n",
      "Epoch: 2400 Error: 79.4924909297578 Sensitivity: 0.7822222222222223 specificity: 0.7088888888888889\n",
      "Epoch: 2500 Error: 80.6366194418663 Sensitivity: 0.7866666666666666 specificity: 0.6955555555555556\n",
      "Epoch: 2600 Error: 95.63613404513549 Sensitivity: 0.48 specificity: 0.7866666666666666\n",
      "Epoch: 2700 Error: 166.31993858944315 Sensitivity: 0.34 specificity: 0.6533333333333333\n",
      "Epoch: 2800 Error: 144.8877159084574 Sensitivity: 0.45555555555555555 specificity: 0.5355555555555556\n",
      "Epoch: 2900 Error: 119.70835525516031 Sensitivity: 0.6133333333333333 specificity: 0.5355555555555556\n",
      "Epoch: 3000 Error: 111.93334660848478 Sensitivity: 0.6533333333333333 specificity: 0.5311111111111111\n",
      "Epoch: 3100 Error: 97.55687348106575 Sensitivity: 0.6688888888888889 specificity: 0.6511111111111111\n",
      "Epoch: 3200 Error: 88.00952582563029 Sensitivity: 0.72 specificity: 0.6777777777777778\n",
      "Epoch: 3300 Error: 86.61970749979479 Sensitivity: 0.72 specificity: 0.6733333333333333\n",
      "Epoch: 3400 Error: 88.6095292195803 Sensitivity: 0.7177777777777777 specificity: 0.6422222222222222\n",
      "Epoch: 3500 Error: 88.58917414785073 Sensitivity: 0.7288888888888889 specificity: 0.6311111111111111\n",
      "Epoch: 3600 Error: 84.09010094640759 Sensitivity: 0.7688888888888888 specificity: 0.6688888888888889\n",
      "Epoch: 3700 Error: 82.47156320041297 Sensitivity: 0.7777777777777778 specificity: 0.6688888888888889\n",
      "Epoch: 3800 Error: 80.78310409390802 Sensitivity: 0.8088888888888889 specificity: 0.6777777777777778\n",
      "Epoch: 3900 Error: 79.90356683288918 Sensitivity: 0.8244444444444444 specificity: 0.6777777777777778\n"
     ]
    }
   ],
   "source": [
    "#case 1: determine learning rate\n",
    "model_1.reset()\n",
    "model_1.weights=load_weights(\"1\",layer=len(model_1.weights.keys()))\n",
    "Etss_1a, specif_1a, sens_1a = model_1.train(norm_train_i,train_t,adaptive_rate = False,alpha0= 0.001,\n",
    "                                   bias=False,momentum_enabled=False ,max_iteration = 4000)\n"
   ]
  },
  {
   "cell_type": "code",
   "execution_count": 185,
   "metadata": {},
   "outputs": [],
   "source": [
    "\n",
    "epochs_1a = [i*100 for i in range(len(Etss_1a))]\n",
    "save_curves(1,\"rate_0.001\",epochs_1a,Etss_1a, specif_1a, sens_1a )\n",
    "#save weights\n",
    "d1= {}\n",
    "for k in model_1.weights.keys():\n",
    "    d1[k]=model_1.weights[k].tolist()\n",
    "    \n",
    "save_weights( d1,\"1_a\")"
   ]
  },
  {
   "cell_type": "code",
   "execution_count": 186,
   "metadata": {},
   "outputs": [
    {
     "name": "stdout",
     "output_type": "stream",
     "text": [
      "Model 1 acc: 0.7747395833333334\n"
     ]
    }
   ],
   "source": [
    "\n",
    "preds = model_1.predict(test_i,bias=False)\n",
    "acc = float(list(np.logical_xor(test_t,preds)).count(False))/len(test_t)\n",
    "print(\"Model 1 acc:\",acc)\n"
   ]
  },
  {
   "cell_type": "code",
   "execution_count": 187,
   "metadata": {
    "scrolled": true
   },
   "outputs": [
    {
     "name": "stdout",
     "output_type": "stream",
     "text": [
      "Epoch: 0 Error: 216.36152665838569 Sensitivity: 0.9777777777777777 specificity: 0.03111111111111111\n",
      "Epoch: 100 Error: 122.63364849407031 Sensitivity: 0.3244444444444444 specificity: 0.8444444444444444\n",
      "Epoch: 200 Error: 121.58359279200369 Sensitivity: 0.31333333333333335 specificity: 0.8644444444444445\n",
      "Epoch: 300 Error: 112.42643865007042 Sensitivity: 0.35777777777777775 specificity: 0.8666666666666667\n",
      "Epoch: 400 Error: 96.83070354607081 Sensitivity: 0.48 specificity: 0.82\n",
      "Epoch: 500 Error: 94.94336748981786 Sensitivity: 0.5688888888888889 specificity: 0.8177777777777778\n",
      "Epoch: 600 Error: 88.3643196362301 Sensitivity: 0.6022222222222222 specificity: 0.8044444444444444\n",
      "Epoch: 700 Error: 86.55530276291157 Sensitivity: 0.6088888888888889 specificity: 0.7777777777777778\n",
      "Epoch: 800 Error: 85.28619683818732 Sensitivity: 0.5955555555555555 specificity: 0.7733333333333333\n",
      "Epoch: 900 Error: 94.64390970140335 Sensitivity: 0.7577777777777778 specificity: 0.6\n",
      "Epoch: 1000 Error: 84.65010091854926 Sensitivity: 0.9155555555555556 specificity: 0.5444444444444444\n",
      "Epoch: 1100 Error: 75.21591468166771 Sensitivity: 0.96 specificity: 0.5688888888888889\n",
      "Epoch: 1200 Error: 73.24448412286459 Sensitivity: 0.9466666666666667 specificity: 0.6111111111111112\n",
      "Epoch: 1300 Error: 68.75353778356289 Sensitivity: 0.9355555555555556 specificity: 0.6533333333333333\n",
      "Epoch: 1400 Error: 66.7659539425621 Sensitivity: 0.8355555555555556 specificity: 0.7133333333333334\n",
      "Epoch: 1500 Error: 66.67709801511367 Sensitivity: 0.8444444444444444 specificity: 0.7244444444444444\n",
      "Epoch: 1600 Error: 66.62494978681167 Sensitivity: 0.86 specificity: 0.7244444444444444\n",
      "Epoch: 1700 Error: 66.24111805333081 Sensitivity: 0.86 specificity: 0.7311111111111112\n",
      "Epoch: 1800 Error: 64.34621948086024 Sensitivity: 0.8688888888888889 specificity: 0.72\n",
      "Epoch: 1900 Error: 65.69223297793748 Sensitivity: 0.8533333333333334 specificity: 0.7177777777777777\n",
      "Epoch: 2000 Error: 65.35220146883685 Sensitivity: 0.8311111111111111 specificity: 0.7466666666666667\n",
      "Epoch: 2100 Error: 70.21222052563678 Sensitivity: 0.7266666666666667 specificity: 0.8177777777777778\n",
      "Epoch: 2200 Error: 75.81884122065365 Sensitivity: 0.6733333333333333 specificity: 0.8511111111111112\n",
      "Epoch: 2300 Error: 70.52170170936967 Sensitivity: 0.7177777777777777 specificity: 0.8288888888888889\n",
      "Epoch: 2400 Error: 80.94784130304272 Sensitivity: 0.6533333333333333 specificity: 0.8444444444444444\n",
      "Epoch: 2500 Error: 93.63672673281856 Sensitivity: 0.6155555555555555 specificity: 0.8333333333333334\n",
      "Epoch: 2600 Error: 92.05266770853687 Sensitivity: 0.6177777777777778 specificity: 0.8466666666666667\n",
      "Epoch: 2700 Error: 69.6122881974928 Sensitivity: 0.8022222222222222 specificity: 0.7666666666666667\n",
      "Epoch: 2800 Error: 65.90949225921437 Sensitivity: 0.8622222222222222 specificity: 0.7466666666666667\n",
      "Epoch: 2900 Error: 63.57494204321496 Sensitivity: 0.8577777777777778 specificity: 0.74\n",
      "Epoch: 3000 Error: 64.07386411259776 Sensitivity: 0.84 specificity: 0.7711111111111111\n",
      "Epoch: 3100 Error: 69.87587988370184 Sensitivity: 0.8555555555555555 specificity: 0.7466666666666667\n",
      "Epoch: 3200 Error: 72.10360565935336 Sensitivity: 0.8622222222222222 specificity: 0.7177777777777777\n",
      "Epoch: 3300 Error: 70.89926871007727 Sensitivity: 0.8866666666666667 specificity: 0.7133333333333334\n",
      "Epoch: 3400 Error: 73.4374962743913 Sensitivity: 0.8911111111111111 specificity: 0.6933333333333334\n",
      "Epoch: 3500 Error: 71.042113141623 Sensitivity: 0.8533333333333334 specificity: 0.7466666666666667\n",
      "Epoch: 3600 Error: 67.08793894744812 Sensitivity: 0.8733333333333333 specificity: 0.7555555555555555\n",
      "Epoch: 3700 Error: 66.61338522789013 Sensitivity: 0.88 specificity: 0.7644444444444445\n",
      "Epoch: 3800 Error: 66.35316559445614 Sensitivity: 0.8933333333333333 specificity: 0.76\n",
      "Epoch: 3900 Error: 65.89984362779725 Sensitivity: 0.88 specificity: 0.7711111111111111\n"
     ]
    }
   ],
   "source": [
    "#case 1: determine learning rate\n",
    "model_1.reset()\n",
    "model_1.weights=load_weights(\"1\",layer=len(model_1.weights.keys()))\n",
    "Etss_1b, specif_1b, sens_1b = model_1.train(norm_train_i,train_t,adaptive_rate = False,alpha0= 0.003,\n",
    "                                   bias=False,momentum_enabled=False ,max_iteration = 4000,interval=100)\n",
    "epochs_1b=  [i*100 for i in range(len(Etss_1b))]\n",
    "save_curves(1,\"rate_0.003\",epochs_1b,Etss_1b, specif_1b, sens_1b )\n",
    "#save weights\n",
    "d1= {}\n",
    "for k in model_1.weights.keys():\n",
    "    d1[k]=model_1.weights[k].tolist()\n",
    "save_weights( d1,\"1_b\")"
   ]
  },
  {
   "cell_type": "code",
   "execution_count": 188,
   "metadata": {},
   "outputs": [
    {
     "name": "stdout",
     "output_type": "stream",
     "text": [
      "Model 1 acc: 0.8059895833333334\n"
     ]
    }
   ],
   "source": [
    "preds = model_1.predict(test_i,bias=False)\n",
    "acc = float(list(np.logical_xor(test_t,preds)).count(False))/len(test_t)\n",
    "print(\"Model 1 acc:\",acc)\n",
    "# print(Etss_1b, specif_1b, sens_1b )"
   ]
  },
  {
   "cell_type": "code",
   "execution_count": 189,
   "metadata": {},
   "outputs": [],
   "source": [
    "#case 3 uses the weights from case 1\n",
    "model_3 = MLFF(input_shape  = d)\n",
    "model_3.add_layer((d,d),activation='relu')\n",
    "model_3.add_layer((d,2*d+1),activation='relu')\n",
    "model_3.add_layer((2*d+1,1),activation='')\n",
    "\n",
    "#backup weights of case 1\n",
    "# model_1_weights = model_1.weights.copy()\n",
    "d3= {}\n",
    "for k in model_3.weights.keys():\n",
    "    d3[k]=model_3.weights[k].tolist()\n",
    "\n"
   ]
  },
  {
   "cell_type": "code",
   "execution_count": 190,
   "metadata": {
    "scrolled": true
   },
   "outputs": [
    {
     "name": "stdout",
     "output_type": "stream",
     "text": [
      "Epoch: 0 Error: 216.36152665838569 Sensitivity: 0.9777777777777777 specificity: 0.028888888888888888\n",
      "Epoch: 100 Error: 143.31599613066595 Sensitivity: 0.7044444444444444 specificity: 0.41555555555555557\n",
      "Epoch: 200 Error: 116.3531510174063 Sensitivity: 0.6711111111111111 specificity: 0.5622222222222222\n",
      "Epoch: 300 Error: 102.77597485655349 Sensitivity: 0.7622222222222222 specificity: 0.6022222222222222\n",
      "Epoch: 400 Error: 98.05597201928794 Sensitivity: 0.7066666666666667 specificity: 0.6377777777777778\n",
      "Epoch: 500 Error: 93.01042371963341 Sensitivity: 0.7355555555555555 specificity: 0.6622222222222223\n",
      "Epoch: 600 Error: 90.65490176802454 Sensitivity: 0.7422222222222222 specificity: 0.6822222222222222\n",
      "Epoch: 700 Error: 89.07208872609773 Sensitivity: 0.7622222222222222 specificity: 0.6888888888888889\n",
      "Epoch: 800 Error: 87.7953025580968 Sensitivity: 0.7755555555555556 specificity: 0.68\n",
      "Epoch: 900 Error: 86.2254058681618 Sensitivity: 0.78 specificity: 0.6955555555555556\n",
      "Epoch: 1000 Error: 85.1256031925224 Sensitivity: 0.76 specificity: 0.7088888888888889\n",
      "Epoch: 1100 Error: 84.04894213430629 Sensitivity: 0.76 specificity: 0.7022222222222222\n",
      "Epoch: 1200 Error: 83.68767137477263 Sensitivity: 0.7533333333333333 specificity: 0.7022222222222222\n",
      "Epoch: 1300 Error: 83.86503211393818 Sensitivity: 0.7533333333333333 specificity: 0.6977777777777778\n",
      "Epoch: 1400 Error: 82.96718757986449 Sensitivity: 0.76 specificity: 0.7044444444444444\n",
      "Epoch: 1500 Error: 81.51461851155614 Sensitivity: 0.78 specificity: 0.7066666666666667\n",
      "Epoch: 1600 Error: 81.13730444256495 Sensitivity: 0.7733333333333333 specificity: 0.7155555555555555\n",
      "Epoch: 1700 Error: 80.86884159535579 Sensitivity: 0.7755555555555556 specificity: 0.7155555555555555\n",
      "Epoch: 1800 Error: 80.82348564900153 Sensitivity: 0.7755555555555556 specificity: 0.7155555555555555\n",
      "Epoch: 1900 Error: 80.68860934775877 Sensitivity: 0.7733333333333333 specificity: 0.7177777777777777\n",
      "Epoch: 2000 Error: 80.79235668828026 Sensitivity: 0.7733333333333333 specificity: 0.7177777777777777\n",
      "Epoch: 2100 Error: 80.82438731229634 Sensitivity: 0.7733333333333333 specificity: 0.7155555555555555\n",
      "Epoch: 2200 Error: 80.63625218932644 Sensitivity: 0.7711111111111111 specificity: 0.7266666666666667\n",
      "Epoch: 2300 Error: 80.55018528091396 Sensitivity: 0.7777777777777778 specificity: 0.7133333333333334\n",
      "Epoch: 2400 Error: 80.52165820560926 Sensitivity: 0.7755555555555556 specificity: 0.7177777777777777\n",
      "Epoch: 2500 Error: 80.61578328435436 Sensitivity: 0.78 specificity: 0.7222222222222222\n",
      "Epoch: 2600 Error: 80.84153048575598 Sensitivity: 0.7733333333333333 specificity: 0.72\n",
      "Epoch: 2700 Error: 80.437637942496 Sensitivity: 0.7711111111111111 specificity: 0.7222222222222222\n",
      "Epoch: 2800 Error: 79.93743180737862 Sensitivity: 0.7711111111111111 specificity: 0.7244444444444444\n",
      "Epoch: 2900 Error: 80.38998314723173 Sensitivity: 0.78 specificity: 0.7222222222222222\n",
      "Epoch: 3000 Error: 80.70630096710126 Sensitivity: 0.7822222222222223 specificity: 0.7222222222222222\n",
      "Epoch: 3100 Error: 81.42585822175108 Sensitivity: 0.7777777777777778 specificity: 0.7177777777777777\n",
      "Epoch: 3200 Error: 82.57504961449862 Sensitivity: 0.7555555555555555 specificity: 0.72\n",
      "Epoch: 3300 Error: 83.30860550867347 Sensitivity: 0.7533333333333333 specificity: 0.7155555555555555\n",
      "Epoch: 3400 Error: 83.09244684749125 Sensitivity: 0.76 specificity: 0.7177777777777777\n",
      "Epoch: 3500 Error: 82.52369562331347 Sensitivity: 0.7733333333333333 specificity: 0.7133333333333334\n",
      "Epoch: 3600 Error: 81.79688118476541 Sensitivity: 0.7777777777777778 specificity: 0.7088888888888889\n",
      "Epoch: 3700 Error: 81.18055767657093 Sensitivity: 0.8044444444444444 specificity: 0.7155555555555555\n",
      "Epoch: 3800 Error: 81.8451689709517 Sensitivity: 0.8066666666666666 specificity: 0.7111111111111111\n",
      "Epoch: 3900 Error: 83.45403872769596 Sensitivity: 0.7933333333333333 specificity: 0.7088888888888889\n"
     ]
    }
   ],
   "source": [
    "model_3.reset()\n",
    "model_3.weights=load_weights(\"1\",layer=len(model_1.weights.keys()))\n",
    "Etss_3a, specif_3a, sens_3a = model_3.train(norm_train_i,train_t,adaptive_rate = True,alpha0= 0.01,\n",
    "                                            beta0=0.99,bias=False,momentum_enabled=True ,max_iteration = 4000)"
   ]
  },
  {
   "cell_type": "code",
   "execution_count": 191,
   "metadata": {},
   "outputs": [],
   "source": [
    "epochs_3a = [i*100 for i in range(len(Etss_3a))]\n",
    "save_curves(3,\"momentum\",epochs_3a,Etss_3a, specif_3a, sens_3a )\n",
    "#save weights\n",
    "d3= {}\n",
    "for k in model_3.weights.keys():\n",
    "    d3[k]=model_3.weights[k].tolist()\n",
    "save_weights( d3,\"3_a\")"
   ]
  },
  {
   "cell_type": "code",
   "execution_count": 192,
   "metadata": {},
   "outputs": [
    {
     "name": "stdout",
     "output_type": "stream",
     "text": [
      "Model 3 acc: 0.7604166666666666\n"
     ]
    }
   ],
   "source": [
    "preds = model_3.predict(test_i,bias=False)\n",
    "acc = float(list(np.logical_xor(test_t,preds)).count(False))/len(test_t)\n",
    "print(\"Model 3 acc:\",acc)\n",
    "# print(Etss_1b, specif_1b, sens_1b )"
   ]
  },
  {
   "cell_type": "code",
   "execution_count": 193,
   "metadata": {},
   "outputs": [
    {
     "data": {
      "text/plain": [
       "Text(0,0.5,'Etss')"
      ]
     },
     "execution_count": 193,
     "metadata": {},
     "output_type": "execute_result"
    },
    {
     "data": {
      "image/png": "[encoded data removed]",
      "text/plain": [
       "<Figure size 432x288 with 1 Axes>"
      ]
     },
     "metadata": {},
     "output_type": "display_data"
    }
   ],
   "source": [
    "\n",
    "plt.plot(epochs_1a, Etss_1a,'r')\n",
    "plt.plot(epochs_1b, Etss_1b,'b')\n",
    "plt.plot(epochs_1c, Etss_1c,'g')\n",
    "plt.legend([\"Case-1_rate_0.001\",\"Case-1_rate_0.003\",\"Case-1_adaptive_rate_0.015\"])\n",
    "plt.xlabel(\"epochs (each 100 epochs)\")\n",
    "plt.ylabel(\"Etss\")"
   ]
  },
  {
   "cell_type": "code",
   "execution_count": 194,
   "metadata": {},
   "outputs": [
    {
     "data": {
      "text/plain": [
       "Text(0,0.5,'Etss')"
      ]
     },
     "execution_count": 194,
     "metadata": {},
     "output_type": "execute_result"
    },
    {
     "data": {
      "image/png": "[encoded data removed]",
      "text/plain": [
       "<Figure size 432x288 with 1 Axes>"
      ]
     },
     "metadata": {},
     "output_type": "display_data"
    }
   ],
   "source": [
    "epochs = [i*100 for i in range(len(Etss_3a))]\n",
    "plt.plot(epochs_1c, Etss_1c,'r')\n",
    "plt.plot(epochs_3a, Etss_3a,'b')\n",
    "plt.legend([\"Case-1_no_momentum\",\"Case-3_momentum\"])\n",
    "plt.xlabel(\"epochs (each 100 epochs)\")\n",
    "plt.ylabel(\"Etss\")"
   ]
  },
  {
   "cell_type": "code",
   "execution_count": 195,
   "metadata": {},
   "outputs": [
    {
     "data": {
      "text/plain": [
       "Text(0,0.5,'Sensitivity')"
      ]
     },
     "execution_count": 195,
     "metadata": {},
     "output_type": "execute_result"
    },
    {
     "data": {
      "image/png": "[encoded data removed]",
      "text/plain": [
       "<Figure size 432x288 with 1 Axes>"
      ]
     },
     "metadata": {},
     "output_type": "display_data"
    }
   ],
   "source": [
    "ind= np.argsort(specif_1a)\n",
    "specif_1a = np.array(specif_1a)[ind]\n",
    "sens_1a = np.array(sens_1a)[ind]\n",
    "\n",
    "\n",
    "ind= np.argsort(specif_1b)\n",
    "specif_1b = np.array(specif_1b)[ind]\n",
    "sens_1b = np.array(sens_1b)[ind]\n",
    "\n",
    "ind= np.argsort(specif_1c)\n",
    "specif_1c = np.array(specif_1c)[ind]\n",
    "sens_1c = np.array(sens_1c)[ind]\n",
    "\n",
    "plt.plot(1-np.array(specif_1a), sens_1a,'r')\n",
    "plt.plot(1-np.array(specif_1b), sens_1b,'b')\n",
    "plt.plot(1-np.array(specif_1c), sens_1c,'g')\n",
    "plt.legend([\"Case-1_rate_0.001\",\"Case-1_rate_0.003\",\"Case-1_adaptive_rate_0.01\"])\n",
    "plt.xlabel(\"1-Specificity\")\n",
    "plt.ylabel(\"Sensitivity\")"
   ]
  },
  {
   "cell_type": "code",
   "execution_count": 196,
   "metadata": {},
   "outputs": [
    {
     "data": {
      "text/plain": [
       "Text(0,0.5,'Sensitivity')"
      ]
     },
     "execution_count": 196,
     "metadata": {},
     "output_type": "execute_result"
    },
    {
     "data": {
      "image/png": "[encoded data removed]",
      "text/plain": [
       "<Figure size 432x288 with 1 Axes>"
      ]
     },
     "metadata": {},
     "output_type": "display_data"
    }
   ],
   "source": [
    "\n",
    "ind= np.argsort(specif_3a)\n",
    "specif_3a = np.array(specif_3a)[ind]\n",
    "sens_3a = np.array(sens_3a)[ind]\n",
    "\n",
    "ind= np.argsort(specif_1c)\n",
    "specif_1c = np.array(specif_1c)[ind]\n",
    "sens_1c = np.array(sens_1c)[ind]\n",
    "\n",
    "\n",
    "plt.plot(1-np.array(specif_1c), sens_1c,'r')\n",
    "plt.plot(1-np.array(specif_3a), sens_3a,'b')\n",
    "plt.legend([\"Case-1_no_momentum\",\"Case-3_momentum\"])\n",
    "plt.xlabel(\"1-Specificity\")\n",
    "plt.ylabel(\"Sensitivity\")"
   ]
  },
  {
   "cell_type": "code",
   "execution_count": null,
   "metadata": {},
   "outputs": [],
   "source": []
  }
 ],
 "metadata": {
  "kernelspec": {
   "display_name": "Python 3 (my CI env)",
   "language": "python",
   "name": "myenv"
  },
  "language_info": {
   "codemirror_mode": {
    "name": "ipython",
    "version": 3
   },
   "file_extension": ".py",
   "mimetype": "text/x-python",
   "name": "python",
   "nbconvert_exporter": "python",
   "pygments_lexer": "ipython3",
   "version": "3.6.8"
  }
 },
 "nbformat": 4,
 "nbformat_minor": 2
}
