{
 "cells": [
  {
   "cell_type": "code",
   "execution_count": 74,
   "metadata": {},
   "outputs": [],
   "source": [
    "import numpy as np\n",
    "import matplotlib.pyplot as plt\n"
   ]
  },
  {
   "cell_type": "code",
   "execution_count": 75,
   "metadata": {},
   "outputs": [],
   "source": [
    "import random\n",
    "from sklearn.neighbors import NearestNeighbors\n",
    "import numpy as np\n",
    "class Smote:\n",
    "    def __init__(self,samples,N=10,k=5):\n",
    "        self.n_samples,self.n_attrs=samples.shape\n",
    "        self.N=N\n",
    "        self.k=k\n",
    "        self.samples=samples\n",
    "        self.newindex=0\n",
    "\n",
    "    def over_sampling(self):\n",
    "        N=int(self.N)\n",
    "        self.synthetic = np.zeros((self.n_samples * N, self.n_attrs))\n",
    "        neighbors=NearestNeighbors(n_neighbors=self.k).fit(self.samples)  \n",
    "        for i in range(len(self.samples)):\n",
    "#             print('samples',self.samples[i])\n",
    "            nnarray=neighbors.kneighbors(self.samples[i].reshape((1,-1)),return_distance=False)[0]  #Finds the K-neighbors of a point.\n",
    "#             print ('nna',nnarray)\n",
    "            self._populate(N,i,nnarray)\n",
    "        return self.synthetic\n",
    "\n",
    "\n",
    "    # for each minority class sample i ,choose N of the k nearest neighbors and generate N synthetic samples.\n",
    "    def _populate(self,N,i,nnarray):\n",
    "        for j in range(N):\n",
    "            nn=random.randint(0,self.k-1)\n",
    "            dif=self.samples[nnarray[nn]]-self.samples[i]\n",
    "            gap=random.random()\n",
    "            self.synthetic[self.newindex]=self.samples[i]+gap*dif\n",
    "            self.newindex+=1\n",
    "#             print(self.synthetic)\n",
    "            \n",
    "# a=np.array([[1,2,3],[4,5,6],[2,3,1],[2,1,2],[2,3,4],[2,3,4]])\n",
    "# s=Smote(a,N=2)\n",
    "# n= s.over_sampling()\n",
    "# print(np.shape(n))"
   ]
  },
  {
   "cell_type": "code",
   "execution_count": 76,
   "metadata": {},
   "outputs": [],
   "source": [
    "\n",
    "def save_balanced_data( train_i,train_t,test_i,test_t,train_name=\"balanced_train\",test_name=\"test\"):\n",
    "    \n",
    "    fp = open('./Balanced-data/'+train_name+'.txt','w+')\n",
    "    for i in range(len(train_i)):\n",
    "        d_str = str(train_t[i]) + '\\t' +str(train_i[i,:].tolist())[1:-1].replace(',','') +'\\n'\n",
    "        fp.write(d_str)\n",
    "    fp.close()\n",
    "    \n",
    "    fp = open('./Balanced-data/'+test_name+'.txt', 'w+')\n",
    "    for i in range(len(test_i)):\n",
    "        d_str = str(test_t[i]) + '\\t' + str(test_i[i, :].tolist())[1:-1].replace(',','') + '\\n'\n",
    "        fp.write(d_str)\n",
    "    fp.close()\n",
    "\n",
    "    pass\n",
    "\n",
    "\n",
    "def balance_data(aep_i,aep_t, non_aep_i,non_aep_t,pattern_N= 450,method ='undersampling', test_aep_ratio= 0.3,test_nonaep_ratio= 0.3):\n",
    "    \"\"\"\n",
    "\n",
    "    :param aep_i:\n",
    "    :param aep_t:\n",
    "    :param non_aep_i:\n",
    "    :param non_aep_t:\n",
    "    :param pattern_N: the number of training input of each pattern\n",
    "    :param method:\n",
    "    :param test_aep_ratio:\n",
    "    :param test_nonaep_ratio:\n",
    "    :return:\n",
    "    \"\"\"\n",
    "\n",
    "    print(\"Original data size:\")\n",
    "    print(\"aep:\",len(aep_i),'non_aep:',len(non_aep_i))\n",
    "    # split test set and train set\n",
    "    test_aep_sample = int(test_aep_ratio*len(aep_i))\n",
    "    aep_test_i = aep_i[0:test_aep_sample,:]\n",
    "    aep_test_t = aep_t[0:test_aep_sample]\n",
    "    \n",
    "    test_nonaep_sample = int(test_nonaep_ratio*len(non_aep_i))\n",
    "    non_aep_test_i = non_aep_i[0:test_nonaep_sample,:]\n",
    "    non_aep_test_t = non_aep_t[0:test_nonaep_sample]\n",
    "\n",
    "    # test set\n",
    "    test_i = np.concatenate((aep_test_i,non_aep_test_i),axis=0)\n",
    "    test_t = []\n",
    "    test_t.extend(aep_test_t)\n",
    "    test_t.extend( non_aep_test_t)\n",
    "\n",
    "    # train set\n",
    "    aep_i =aep_i[test_aep_sample:,:]\n",
    "    aep_t = np.array(aep_t[test_aep_sample:])\n",
    "    non_aep_i = non_aep_i[test_nonaep_sample:, :]\n",
    "    non_aep_t = non_aep_t[test_nonaep_sample:]\n",
    "\n",
    " \n",
    "    # balance training set here\n",
    "    if method == 'oversampling':\n",
    "        print(\"Using oversampling...\")\n",
    "        sample_range = len(aep_i)\n",
    "        indices = np.random.randint(sample_range, size=len(non_aep_i))\n",
    "        new_aep_i = aep_i[indices,:]\n",
    "        new_aep_t = aep_t[indices]\n",
    "        \n",
    "        train_i = np.concatenate((new_aep_i, non_aep_i),axis=0)\n",
    "        train_t =[]\n",
    "        train_t.extend(new_aep_t)\n",
    "        train_t.extend(non_aep_t)\n",
    "\n",
    "\n",
    "    elif method == 'undersampling':\n",
    "        print(\"Using undersampling...\")\n",
    "        sample_range = len(non_aep_i)\n",
    "        indices = np.random.randint(sample_range, size=len(aep_i))\n",
    "        new_nonaep_i = non_aep_i[indices,:]\n",
    "        new_nonaep_t = non_aep_t[indices]\n",
    "        \n",
    "        train_i = np.concatenate((aep_i,new_nonaep_i),axis=0)\n",
    "        train_t =[]\n",
    "        train_t.extend(aep_t)\n",
    "        train_t.extend(new_nonaep_t)\n",
    "        pass\n",
    "    elif method == 'SMOTE':\n",
    "        print(\"Using SMOTE...\")\n",
    "        #generate new aep data\n",
    "        s= Smote(aep_i,N=10*len(aep_i))\n",
    "        new_aep_i = s.over_sampling()\n",
    "        indices = np.random.randint(len(new_aep_i), size=pattern_N)\n",
    "        new_aep_i = new_aep_i[indices,:]\n",
    "        new_aep_t = [1.0]*len(new_aep_i)\n",
    "        \n",
    "        #downsample non aep data and make aep and non_aep data have same size \n",
    "        indices = np.random.randint(len(non_aep_i), size=len(new_aep_i))\n",
    "        new_nonaep_i = non_aep_i[indices,:]\n",
    "        new_nonaep_t = non_aep_t[indices]\n",
    "        #first half of data is aep, second half of data is non_aep\n",
    "        train_i = np.concatenate((new_aep_i,new_nonaep_i),axis=0)\n",
    "        train_t =[]\n",
    "        train_t.extend(new_aep_t)\n",
    "        train_t.extend(new_nonaep_t)\n",
    "        \n",
    "    else:\n",
    "        print(\"Using undersampling+ oversampling...\")\n",
    "        #Default downsample non_aep data and oversample aep data randomly\n",
    "        #downsample non_aep data\n",
    "        sample_size = pattern_N\n",
    "        indices = np.random.randint(len(non_aep_i), size=sample_size)\n",
    "        new_nonaep_i = non_aep_i[indices,:]\n",
    "        new_nonaep_t = non_aep_t[indices]\n",
    "        #oversample aep data\n",
    "        indices = np.random.randint(len(aep_i), size=sample_size)\n",
    "        new_aep_i = aep_i[indices,:]\n",
    "        new_aep_t = aep_t[indices]\n",
    "        \n",
    "        train_i = np.concatenate((new_aep_i,new_nonaep_i),axis=0)\n",
    "        train_t =[]\n",
    "        train_t.extend(new_aep_t)\n",
    "        train_t.extend(new_nonaep_t)\n",
    "        pass\n",
    "\n",
    "\n",
    "    return train_i,train_t,test_i,test_t\n",
    "\n",
    "\n",
    "\n",
    "def load_balanced_data(train_name=\"balanced_train\",test_name=\"test\"):\n",
    "   \n",
    "    train_i = []\n",
    "    train_t = []\n",
    "    test_i = []\n",
    "    test_t = []\n",
    "    fp = open('./Balanced-data/'+train_name+'.txt','r')\n",
    "    lines= fp.readlines()\n",
    "    for line in lines:\n",
    "        line = line.split('\\n')[0]\n",
    "        target, inputs =line.split('\\t')[0],line.split('\\t')[1]\n",
    "        data = [float(s) for s in inputs.split(' ') if s != '']\n",
    "        train_t.append(float(target))\n",
    "        train_i.append(data)\n",
    "    fp.close()\n",
    "    \n",
    "    fp = open('./Balanced-data/'+test_name+'.txt','r')\n",
    "    lines= fp.readlines()\n",
    "    for line in lines:\n",
    "        line = line.split('\\n')[0]\n",
    "        target, inputs =line.split('\\t')[0],line.split('\\t')[1]\n",
    "        data = [float(s) for s in inputs.split(' ') if s != '']\n",
    "        test_t.append(float(target))\n",
    "        test_i.append(data)\n",
    "    fp.close()\n",
    "    \n",
    "    train_i, train_t, test_i, test_t = np.array(train_i),np.array(train_t),np.array(test_i),np.array(test_t)\n",
    "    \n",
    "    return train_i, train_t, test_i, test_t\n",
    "\n",
    "\n",
    "\n",
    "def create_balanced_data(method=\"SMOTE\"):\n",
    "    fp = open('db4_Diff1f_100_128w_AEP2_gp2_ver1-1_ece856.txt', 'r+')\n",
    "    lines = fp.readlines()\n",
    "    aep_i = []\n",
    "    aep_t = []\n",
    "    non_aep_i = []\n",
    "    non_aep_t = []\n",
    "\n",
    "    for line in lines:\n",
    "        line = line.split('\\n')[0]\n",
    "        data = [float(s) for s in line.split(' ') if s != '']\n",
    "        aep_i.append(data)\n",
    "        aep_t.append(1)\n",
    "    fp.close()\n",
    "\n",
    "    aep_i = np.array(aep_i)\n",
    "    aep_t = np.array(aep_t)\n",
    "\n",
    "    fp = open('db4_Diff1f_100_128w_nonAEP2_gp2_ver1-1_ece856.txt', 'r+')\n",
    "    lines = fp.readlines()\n",
    "    for line in lines:\n",
    "        line = line.split('\\n')[0]\n",
    "        data = [float(s) for s in line.split(' ') if s != '']\n",
    "        non_aep_i.append(data)\n",
    "        non_aep_t.append(0)\n",
    "    fp.close()\n",
    "    non_aep_i = np.array(non_aep_i)\n",
    "    non_aep_t = np.array(non_aep_t)\n",
    "\n",
    "    \n",
    "    \n",
    "    train_i, train_t, test_i, test_t= balance_data(aep_i,aep_t,non_aep_i,non_aep_t,method=method)\n",
    "    \n",
    "    train_i, train_t, test_i, test_t = np.array(train_i),np.array(train_t),np.array(test_i),np.array(test_t)\n",
    "    return train_i, train_t, test_i, test_t\n"
   ]
  },
  {
   "cell_type": "code",
   "execution_count": 77,
   "metadata": {},
   "outputs": [],
   "source": [
    "class MLFF():\n",
    "    def __init__(self,input_shape = 27, bias=False):\n",
    "#         np.random.seed(1)\n",
    "        self.weights = {}\n",
    "        self.bias_enabled = bias\n",
    "        self.weight_correction = {}\n",
    "        self.delta ={}\n",
    "        self.input_shape = input_shape\n",
    "        self.num_layer = 1 # initialize input layer\n",
    "        self.func_pair = {'logistic':(self.logistic,self.d_logistic),'relu':(self.relu,self.d_relu),'tanh':(self.tanh,self.d_tanh)}\n",
    "        self.activate = {}\n",
    "        self.derivative = {}\n",
    "        \n",
    "    def add_layer(self,shape, activation=None,initializer='random'):\n",
    "        if initializer =='zero':\n",
    "            # zero initializer\n",
    "            self.weights[self.num_layer] = np.vstack((np.zeros(shape[1]), np.zeros((shape))))\n",
    "        else:\n",
    "            #random initializer\n",
    "            # The first row is bias \n",
    "            self.weights[self.num_layer] = np.vstack((10*np.random.random(shape[1])-5, 10*np.random.random(shape)-5))\n",
    "        self.weight_correction[self.num_layer]= np.zeros((shape[0]+1, shape[1]))\n",
    "        \n",
    "        self.num_layer += 1\n",
    "        \n",
    "        # the address to activation function\n",
    "        if activation is not None and activation is not '':\n",
    "            self.activate[self.num_layer] = self.func_pair[activation][0]\n",
    "            self.derivative[self.num_layer] = self.func_pair[activation][1]\n",
    "        else:\n",
    "            self.activate[self.num_layer] = self.logistic\n",
    "            self.derivative[self.num_layer] = self.d_logistic\n",
    "            \n",
    "        \n",
    "    def logistic(self, net):\n",
    "        k = 0.01\n",
    "        return 1/(1+ np.exp(-k*net))\n",
    "    \n",
    "    def d_logistic(self,net,out):\n",
    "        \"\"\"\n",
    "        out: numpy array\n",
    "        \"\"\"\n",
    "        k = 0.01\n",
    "        return k*out*(1.0- out)\n",
    "\n",
    "    \n",
    "    def tanh(self,net):\n",
    "        return np.tanh(net)\n",
    "    \n",
    "    def d_tanh(self,net,o):\n",
    "        return 1.0-np.square(o)\n",
    "    \n",
    "    def relu(self,net):\n",
    "        k =1.0\n",
    "        k1= 0.1\n",
    "        ma = k*np.maximum(net, np.zeros(np.shape(net)))\n",
    "        mi = k1*np.minimum(net, np.zeros(np.shape(net)))\n",
    "        return ma+mi\n",
    "    \n",
    "    def d_relu(self, net,o):\n",
    "        k = 1.0\n",
    "        k1 = 0.1\n",
    "        z = np.zeros(np.shape(net))\n",
    "        m = np.maximum(z,net)\n",
    "        deriv = np.where(m>0.0,k,m)\n",
    "        deriv = np.where(deriv==0.0,k1,deriv)\n",
    "        return deriv\n",
    "    \n",
    "    \n",
    "    def feedforward(self,inputs,bias= False):\n",
    "        \"\"\"\n",
    "        input: 1-D array\n",
    "        \"\"\"\n",
    "        out = {}\n",
    "        out[1] = inputs\n",
    "        for i in range(self.num_layer-1):\n",
    "            layer = i+1\n",
    "            net = np.dot(out[layer], self.weights[layer][1:,:])\n",
    "            if bias:\n",
    "                net += self.weights[layer][0,:]\n",
    "            out[layer+1]= self.activate[layer+1](net)\n",
    "            \n",
    "        return out, out[self.num_layer]\n",
    "    \n",
    "        \n",
    "    def backforward(self,out, target,alpha,momentum_coeff, bias = False,momentum_enabled=False):\n",
    "        \"\"\"\n",
    "        Apply General delta rule to backforward\n",
    "        out: the dictionary storing all outputs in different layers\n",
    "        \"\"\"\n",
    "        pred = out[self.num_layer]\n",
    "        dE_o = -(target- pred)\n",
    "        prev_net = np.dot(out[self.num_layer-1], self.weights[self.num_layer-1][1:,:])\n",
    "        if bias:\n",
    "            prev_net += self.weights[self.num_layer-1][0,:]\n",
    "        \n",
    "        \n",
    "        \n",
    "        self.delta[self.num_layer] = -np.multiply(dE_o, self.derivative[self.num_layer](prev_net,pred) )\n",
    "        # calculate delta of each layer\n",
    "        # calculate delta from layer-2 to the last second layer,since the input layer doesn't have delta\n",
    "        # delta  of the output layer is determined by output\n",
    "        for layer in reversed(range(2, self.num_layer)):\n",
    "            last_delta = self.delta[layer+1] \n",
    "            \n",
    "            dE_o =np.dot(self.weights[layer][1:,:], last_delta)\n",
    "            prev_net = np.dot(out[layer-1], self.weights[layer-1][1:,:])\n",
    "            if bias:\n",
    "                prev_net += self.weights[layer-1][0,:]\n",
    "                \n",
    "            d_f =self.derivative[layer](prev_net,out[layer])\n",
    "            self.delta[layer] = -np.multiply(dE_o, d_f)\n",
    "\n",
    "        #calculate weight correction\n",
    "        for layer in range(1, self.num_layer):\n",
    "            if not momentum_enabled:\n",
    "                momentum_coeff = 1.0\n",
    "            delta_p = np.multiply(self.delta[layer+1],np.reshape(out[layer], (len(out[layer]), 1)))\n",
    "            self.weight_correction[layer][1:,:] = alpha*delta_p + momentum_coeff* self.weight_correction[layer][1:,:]\n",
    "            #update bias if enabled\n",
    "            if bias:\n",
    "                self.weight_correction[layer][0,:] = alpha*self.delta[layer+1] \n",
    "                + momentum_coeff*self.weight_correction[layer][0,:]\n",
    "            \n",
    "        return None\n",
    "    \n",
    "    \n",
    "    def predict(self, inputs,bias=False):\n",
    "        _, preds = self.feedforward(inputs,bias)\n",
    "        preds = np.array([1 if p>=0.5 else 0 for p in preds])\n",
    "        return preds\n",
    "    \n",
    "#     def gradient_descent(self,alpha,beta,momentum= None):\n",
    "        \n",
    "#         new_momentum= self.weight_correction.copy()\n",
    "# #         print(\"old wc:\",self.weight_correction)\n",
    "#         for layer in range(1, self.num_layer):\n",
    "#             if momentum is not None:\n",
    "# #                 print(\"mm:\",beta* momentum[layer])\n",
    "#                 self.weight_correction[layer] = alpha*self.weight_correction[layer] + beta* momentum[layer]\n",
    "# #                 print(\"Update weigth with momentum\")\n",
    "            \n",
    "#             else:\n",
    "# #                 print(\"Without momentum\")\n",
    "#                 self.weight_correction[layer] = alpha*self.weight_correction[layer]\n",
    "#             self.weights[layer] += self.weight_correction[layer]\n",
    "#             #update momentum\n",
    "#             new_momentum[layer] = self.weight_correction[layer]\n",
    "# #         print(\"new wc:\",self.weight_correction)\n",
    "        \n",
    "#         for layer in range(1, self.num_layer):   \n",
    "#             #reset weight correction after updating weights\n",
    "#             self.weight_correction[layer]= np.zeros(np.shape(self.weight_correction[layer]))\n",
    "        \n",
    "#         return new_momentum\n",
    "        \n",
    "    \n",
    "    def gradient_descent(self):\n",
    "        for layer in range(1, self.num_layer):\n",
    "            self.weights[layer] += self.weight_correction[layer]\n",
    "            #reset weight correction after updating weights\n",
    "            self.weight_correction[layer]= np.zeros(np.shape(self.weight_correction[layer]))\n",
    "\n",
    "        return None\n",
    "    \n",
    "    def train(self,inputs,targets,adaptive_rate=True,alpha0=0.9, beta0=0.5,\n",
    "              bias =False,momentum_enabled = False,max_iteration = 1000,interval =100):\n",
    "        pre_err= 0.0\n",
    "        sens = 0.0\n",
    "        spec =0.0\n",
    "        e_th = 50.0\n",
    "        threshold = 1e-3\n",
    "        momentum  = None\n",
    "        Etss = []\n",
    "        sensitivity = []\n",
    "        specificity = []\n",
    "        \n",
    "        alpha = alpha0\n",
    "        \n",
    "        for epoch in range(max_iteration):\n",
    "            err = 0.0\n",
    "            #need to decrease learning rate alpha, otherwise, it would not decrease error, error doesn't converge\n",
    "            if adaptive_rate:\n",
    "                    alpha = alpha0/(0.001*epoch+1.0)\n",
    "                \n",
    "            \n",
    "            beta = beta0\n",
    "\n",
    "            for i in range(len(inputs)):\n",
    "                outs, pred= self.feedforward(inputs[i,:],bias)\n",
    "                \n",
    "                err  += 0.5*pow(targets[i]-pred[0], 2)\n",
    "                self.backforward(outs,targets[i],alpha=alpha,\n",
    "                                 momentum_coeff=beta,\n",
    "                                 bias=bias,\n",
    "                                 momentum_enabled =momentum_enabled)\n",
    "        \n",
    "            \n",
    "            #trained by epoch\n",
    "            m = self.gradient_descent()\n",
    "\n",
    "            #save data every 10 epochs\n",
    "            if epoch % 100 == 0:\n",
    "                preds = self.predict(inputs,bias)\n",
    "                eap_cnts = float(np.sum(targets))\n",
    "                TP = np.sum(preds[np.where(targets == 1)])\n",
    "                sens = TP/eap_cnts\n",
    "                \n",
    "                noneap_cnts =float(len(targets) - float(np.sum(targets))) \n",
    "                TN = len(preds[np.where(targets == 0)])- np.sum(preds[np.where(targets == 0)])\n",
    "                spec = TN/noneap_cnts\n",
    "                sensitivity.append(sens)\n",
    "                \n",
    "                specificity.append(spec)\n",
    "                Etss.append(err)\n",
    "                #print data after every interval epochs pass\n",
    "                if  epoch%interval == 0:  \n",
    "                    print(\"Epoch:\", epoch,\"Error:\",err,\"Sensitivity:\",sens,\"specificity:\",spec)\n",
    "            \n",
    "            \n",
    "            if epoch>1 and ( err<=e_th ):\n",
    "                break\n",
    "                pass\n",
    "            \n",
    "            else:\n",
    "                pre_err = err\n",
    "            \n",
    "        return Etss, specificity, sensitivity\n",
    "            "
   ]
  },
  {
   "cell_type": "code",
   "execution_count": 224,
   "metadata": {},
   "outputs": [
    {
     "name": "stdout",
     "output_type": "stream",
     "text": [
      "Original data size:\n",
      "aep: 83 non_aep: 2482\n",
      "Using SMOTE...\n"
     ]
    }
   ],
   "source": [
    "## generate and save balanced data here\n",
    "# train_i, train_t, test_i, test_t = create_balanced_data(method=\"undersampling\")\n",
    "# save_balanced_data(train_i, train_t, test_i, test_t,train_name=\"under_sampling_train\",test_name=\"under_sampling_test\")\n",
    "# print(\"shape:\",np.shape(train_i),np.shape(train_t),np.shape(test_i))\n",
    "\n",
    "train_i, train_t, test_i, test_t = create_balanced_data(method=\"SMOTE\")\n",
    "save_balanced_data(train_i, train_t, test_i, test_t,train_name=\"SMOTE_train_v1\",test_name=\"SMOTE_test_v1\")\n",
    "\n"
   ]
  },
  {
   "cell_type": "code",
   "execution_count": 78,
   "metadata": {},
   "outputs": [
    {
     "name": "stdout",
     "output_type": "stream",
     "text": [
      "shape: (900, 27) (900,) (768, 27) (768,)\n"
     ]
    }
   ],
   "source": [
    "# load balanced data and shuffle them\n",
    "# train_i, train_t, test_i, test_t = load_balanced_data(train_name=\"under_sampling_train\",test_name=\"under_sampling_test\")\n",
    "train_i, train_t, test_i, test_t = load_balanced_data(train_name=\"SMOTE_train_v1\",test_name=\"SMOTE_test_v1\")\n",
    "\n",
    "print(\"shape:\",np.shape(train_i),np.shape(train_t),np.shape(test_i),np.shape(test_t))\n",
    "# print((train_t[0:500]),(train_t[500:]))\n",
    "\n",
    "from sklearn.utils import shuffle\n",
    "train_i, train_t = shuffle(train_i, train_t)\n",
    "\n",
    "\n"
   ]
  },
  {
   "cell_type": "code",
   "execution_count": 79,
   "metadata": {},
   "outputs": [
    {
     "data": {
      "text/plain": [
       "((1668, 27), (1668, 27), (900, 27), (768, 27))"
      ]
     },
     "execution_count": 79,
     "metadata": {},
     "output_type": "execute_result"
    }
   ],
   "source": [
    "#normalize data\n",
    "len_train = len(train_i)\n",
    "len_test = len(test_i)\n",
    "data = np.concatenate([train_i,test_i])\n",
    "#normalize data to range [-1,1]\n",
    "new_max =1.0\n",
    "new_min = 0.0\n",
    "norm_data = ((data- np.min(data,axis=0))/(np.max(data,axis=0) - np.min(data,axis=0)))*(new_max-new_min)+new_min\n",
    "norm_train_i = norm_data[0:len_train,:]\n",
    "test_i = norm_data[len_train:,:]\n",
    "np.shape(norm_data), np.shape(data), np.shape(norm_train_i), np.shape(test_i)"
   ]
  },
  {
   "cell_type": "code",
   "execution_count": 80,
   "metadata": {},
   "outputs": [],
   "source": [
    "# save weights\n",
    "def save_weights(w,i):\n",
    "    import json\n",
    "    fp = open(\"weights/model_case_\"+str(i)+\".txt\",\"w+\")\n",
    "    fp.write(json.dumps(w))\n",
    "    fp.close()\n",
    "\n",
    "def load_weights(model,surfix='',layer=3):\n",
    "    import json\n",
    "    i =1 if model =='model_1' else 2\n",
    "    fp = open(\"weights/model_case_\"+surfix+\".txt\",\"r\")\n",
    "    line= fp.read()\n",
    "    w= json.loads(line)\n",
    "    d={}\n",
    "    for i in range(layer):\n",
    "        l= i+1\n",
    "        d[l]=np.array(w[str(l)])\n",
    "    \n",
    "    return d\n",
    "\n",
    "def save_curves(case,name,epoch,err, sens,specif):\n",
    "    import json\n",
    "    fp = open(\"Case-\"+str(case)+\"-data\"+\"/log_\"+name+\".txt\",\"w+\")\n",
    "    for i in range(len(epoch)):\n",
    "        fp.write(str(epoch[i])+\" \"+str(err[i])+\" \"+str(sens[i])+\" \"+str(specif[i])+\"\\n\")\n",
    "           \n",
    "    fp.close()"
   ]
  },
  {
   "cell_type": "code",
   "execution_count": 108,
   "metadata": {},
   "outputs": [],
   "source": [
    "#initialize weights of case 1 randomly\n",
    "# if using relu, max iteration =1000,  learning rate <=0.003\n",
    "# if learning rate is big, error is easy to rise up again\n",
    "\n",
    "d = 27\n",
    "model_1 = MLFF(input_shape  = d)\n",
    "model_1.add_layer((d,d),activation='relu')\n",
    "model_1.add_layer((d,2*d+1),activation='relu')\n",
    "model_1.add_layer((2*d+1,d),activation='relu')\n",
    "model_1.add_layer((d,1),activation='')\n",
    "#backup weights of case 1\n",
    "# model_1_weights = model_1.weights.copy()\n",
    "d1= {}\n",
    "for k in model_1.weights.keys():\n",
    "    d1[k]=model_1.weights[k].tolist()\n",
    "save_weights( d1,\"new_arch\")"
   ]
  },
  {
   "cell_type": "code",
   "execution_count": null,
   "metadata": {
    "scrolled": true
   },
   "outputs": [
    {
     "name": "stdout",
     "output_type": "stream",
     "text": [
      "Epoch: 0 Error: 224.99999999999778 Sensitivity: 1.0 specificity: 0.0\n",
      "Epoch: 100 Error: 224.99999999999778 Sensitivity: 1.0 specificity: 0.0\n",
      "Epoch: 200 Error: 224.99999999999778 Sensitivity: 1.0 specificity: 0.0\n",
      "Epoch: 300 Error: 224.99999999999778 Sensitivity: 1.0 specificity: 0.0\n"
     ]
    }
   ],
   "source": [
    "#case 1: determine learning rate\n",
    "model_1.weights=load_weights(\"model_1\",surfix=\"new_arch\",layer=len(model_1.weights.keys()))\n",
    "Etss_1a, specif_1a, sens_1a = model_1.train(norm_train_i,train_t,adaptive_rate = False,alpha0= 0.01,\n",
    "                                   bias=False,momentum_enabled=False ,max_iteration = 1000)\n"
   ]
  },
  {
   "cell_type": "code",
   "execution_count": null,
   "metadata": {},
   "outputs": [],
   "source": [
    "\n",
    "epochs = [i*100 for i in range(len(Etss_1a))]\n",
    "save_curves(1,\"rate_0.001\",epochs,Etss_1a, specif_1a, sens_1a )\n",
    "#save weights\n",
    "d1= {1:model_1.weights[1].tolist(),2:model_1.weights[2].tolist()}\n",
    "save_weights( d1,\"1_a\")"
   ]
  },
  {
   "cell_type": "code",
   "execution_count": 252,
   "metadata": {},
   "outputs": [
    {
     "name": "stdout",
     "output_type": "stream",
     "text": [
      "Model 1 acc: 0.83203125\n"
     ]
    }
   ],
   "source": [
    "\n",
    "preds = model_1.predict(test_i,bias=False)\n",
    "acc = float(list(np.logical_xor(test_t,preds)).count(False))/len(test_t)\n",
    "print(\"Model 1 acc:\",acc)\n"
   ]
  },
  {
   "cell_type": "code",
   "execution_count": 13,
   "metadata": {
    "scrolled": true
   },
   "outputs": [
    {
     "name": "stdout",
     "output_type": "stream",
     "text": [
      "Epoch: 0 Error: 128.6129211442303 Sensitivity: 0.0 specificity: 0.995\n",
      "Epoch: 100 Error: 119.78456248152408 Sensitivity: 0.0 specificity: 0.9875\n",
      "Epoch: 200 Error: 105.4687249510452 Sensitivity: 0.115 specificity: 0.7575\n",
      "Epoch: 300 Error: 104.59508716732734 Sensitivity: 0.4625 specificity: 0.5225\n",
      "Epoch: 400 Error: 105.07938787714538 Sensitivity: 0.495 specificity: 0.495\n",
      "Epoch: 500 Error: 105.36098020474162 Sensitivity: 0.5225 specificity: 0.475\n",
      "Epoch: 600 Error: 105.41307559577763 Sensitivity: 0.5 specificity: 0.49\n",
      "Epoch: 700 Error: 105.33207084245788 Sensitivity: 0.5025 specificity: 0.4925\n",
      "Epoch: 800 Error: 105.20421805038832 Sensitivity: 0.5125 specificity: 0.4975\n",
      "Epoch: 900 Error: 105.02606466832347 Sensitivity: 0.5175 specificity: 0.495\n",
      "Epoch: 1000 Error: 104.80239158400833 Sensitivity: 0.52 specificity: 0.485\n",
      "Epoch: 1100 Error: 104.61526530933153 Sensitivity: 0.53 specificity: 0.4825\n",
      "Epoch: 1200 Error: 104.46907117812042 Sensitivity: 0.5575 specificity: 0.475\n",
      "Epoch: 1300 Error: 104.23108626473226 Sensitivity: 0.5625 specificity: 0.4775\n",
      "Epoch: 1400 Error: 103.91400382480266 Sensitivity: 0.5725 specificity: 0.475\n",
      "Epoch: 1500 Error: 103.52053991802522 Sensitivity: 0.58 specificity: 0.4775\n",
      "Epoch: 1600 Error: 103.09547614611952 Sensitivity: 0.59 specificity: 0.4925\n",
      "Epoch: 1700 Error: 102.67517725052775 Sensitivity: 0.5975 specificity: 0.505\n",
      "Epoch: 1800 Error: 102.26024539097195 Sensitivity: 0.595 specificity: 0.51\n",
      "Epoch: 1900 Error: 101.84049898386135 Sensitivity: 0.5775 specificity: 0.5275\n",
      "Epoch: 2000 Error: 101.39787178954825 Sensitivity: 0.575 specificity: 0.54\n",
      "Epoch: 2100 Error: 100.95075014202617 Sensitivity: 0.5725 specificity: 0.5425\n",
      "Epoch: 2200 Error: 100.51007466027887 Sensitivity: 0.57 specificity: 0.55\n",
      "Epoch: 2300 Error: 100.07584871108516 Sensitivity: 0.5625 specificity: 0.5575\n",
      "Epoch: 2400 Error: 99.65305554060856 Sensitivity: 0.5575 specificity: 0.565\n",
      "Epoch: 2500 Error: 99.24512772548435 Sensitivity: 0.5525 specificity: 0.57\n",
      "Epoch: 2600 Error: 98.85774465962031 Sensitivity: 0.555 specificity: 0.5775\n",
      "Epoch: 2700 Error: 98.48770259780673 Sensitivity: 0.5475 specificity: 0.58\n",
      "Epoch: 2800 Error: 98.1324155266775 Sensitivity: 0.55 specificity: 0.5875\n",
      "Epoch: 2900 Error: 97.79148821287512 Sensitivity: 0.5525 specificity: 0.585\n",
      "Epoch: 3000 Error: 97.46974692707349 Sensitivity: 0.5525 specificity: 0.59\n",
      "Epoch: 3100 Error: 97.17167546274673 Sensitivity: 0.555 specificity: 0.5875\n",
      "Epoch: 3200 Error: 96.89650486937309 Sensitivity: 0.555 specificity: 0.5875\n",
      "Epoch: 3300 Error: 96.65166679287316 Sensitivity: 0.5525 specificity: 0.5975\n",
      "Epoch: 3400 Error: 96.4652859034905 Sensitivity: 0.54 specificity: 0.6025\n",
      "Epoch: 3500 Error: 96.34229879210105 Sensitivity: 0.535 specificity: 0.605\n",
      "Epoch: 3600 Error: 96.18527866924998 Sensitivity: 0.5325 specificity: 0.61\n",
      "Epoch: 3700 Error: 96.00789416263804 Sensitivity: 0.53 specificity: 0.61\n",
      "Epoch: 3800 Error: 95.84056561566925 Sensitivity: 0.525 specificity: 0.61\n",
      "Epoch: 3900 Error: 95.689403637965 Sensitivity: 0.52 specificity: 0.6125\n"
     ]
    }
   ],
   "source": [
    "#case 1: determine learning rate\n",
    "\n",
    "model_1.weights=load_weights(\"model_1\")\n",
    "Etss_1b, specif_1b, sens_1b = model_1.train(norm_train_i,train_t,adaptive_rate = False,alpha0= 0.003,\n",
    "                                   bias=False,momentum_enabled=False ,max_iteration = 4000,interval=100)\n",
    "\n",
    "save_curves(1,\"rate_0.003\",epochs,Etss_1b, specif_1b, sens_1b )\n",
    "#save weights\n",
    "d1= {1:model_1.weights[1].tolist(),2:model_1.weights[2].tolist()}\n",
    "save_weights( d1,\"1_b\")"
   ]
  },
  {
   "cell_type": "code",
   "execution_count": 14,
   "metadata": {},
   "outputs": [
    {
     "name": "stdout",
     "output_type": "stream",
     "text": [
      "Model 1 acc: 0.7122395833333334\n"
     ]
    }
   ],
   "source": [
    "preds = model_1.predict(test_i,bias=False)\n",
    "acc = float(list(np.logical_xor(test_t,preds)).count(False))/len(test_t)\n",
    "print(\"Model 1 acc:\",acc)\n",
    "# print(Etss_1b, specif_1b, sens_1b )"
   ]
  },
  {
   "cell_type": "code",
   "execution_count": 172,
   "metadata": {
    "scrolled": true
   },
   "outputs": [
    {
     "name": "stdout",
     "output_type": "stream",
     "text": [
      "Epoch: 0 Error: 122.83343214861941 Sensitivity: 1.0 specificity: 0.0\n",
      "Epoch: 100 Error: 114.52807237746129 Sensitivity: 0.6622222222222223 specificity: 0.25333333333333335\n",
      "Epoch: 200 Error: 114.57229786290539 Sensitivity: 0.4622222222222222 specificity: 0.4\n",
      "Epoch: 300 Error: 114.82594445828512 Sensitivity: 0.44222222222222224 specificity: 0.40444444444444444\n",
      "Epoch: 400 Error: 115.1582730323674 Sensitivity: 0.46 specificity: 0.4088888888888889\n",
      "Epoch: 500 Error: 115.46945713021485 Sensitivity: 0.44222222222222224 specificity: 0.42\n",
      "Epoch: 600 Error: 115.41502570773275 Sensitivity: 0.45555555555555555 specificity: 0.4266666666666667\n",
      "Epoch: 700 Error: 115.15938915001617 Sensitivity: 0.46 specificity: 0.43777777777777777\n",
      "Epoch: 800 Error: 114.94788368336422 Sensitivity: 0.47555555555555556 specificity: 0.4266666666666667\n",
      "Epoch: 900 Error: 114.67901428301954 Sensitivity: 0.48444444444444446 specificity: 0.44666666666666666\n",
      "Epoch: 1000 Error: 114.36337558371056 Sensitivity: 0.49777777777777776 specificity: 0.4622222222222222\n",
      "Epoch: 1100 Error: 114.05531855594292 Sensitivity: 0.49333333333333335 specificity: 0.4822222222222222\n",
      "Epoch: 1200 Error: 113.75929693633032 Sensitivity: 0.48 specificity: 0.5066666666666667\n",
      "Epoch: 1300 Error: 113.47857800619478 Sensitivity: 0.4688888888888889 specificity: 0.5355555555555556\n",
      "Epoch: 1400 Error: 113.20546560763486 Sensitivity: 0.47333333333333333 specificity: 0.5488888888888889\n",
      "Epoch: 1500 Error: 112.94654994216222 Sensitivity: 0.47555555555555556 specificity: 0.5622222222222222\n",
      "Epoch: 1600 Error: 112.70447015930452 Sensitivity: 0.47333333333333333 specificity: 0.5688888888888889\n",
      "Epoch: 1700 Error: 112.47647611491062 Sensitivity: 0.47555555555555556 specificity: 0.5755555555555556\n",
      "Epoch: 1800 Error: 112.26288092348423 Sensitivity: 0.4777777777777778 specificity: 0.5866666666666667\n",
      "Epoch: 1900 Error: 112.06316153492138 Sensitivity: 0.48444444444444446 specificity: 0.6\n",
      "Epoch: 2000 Error: 111.87878187229593 Sensitivity: 0.5044444444444445 specificity: 0.6\n",
      "Epoch: 2100 Error: 111.71453961908044 Sensitivity: 0.52 specificity: 0.5955555555555555\n",
      "Epoch: 2200 Error: 111.57063757842381 Sensitivity: 0.5244444444444445 specificity: 0.5888888888888889\n",
      "Epoch: 2300 Error: 111.44083299556509 Sensitivity: 0.5355555555555556 specificity: 0.58\n",
      "Epoch: 2400 Error: 111.31913702072396 Sensitivity: 0.5466666666666666 specificity: 0.5755555555555556\n",
      "Epoch: 2500 Error: 111.2064539174544 Sensitivity: 0.5511111111111111 specificity: 0.5844444444444444\n",
      "Epoch: 2600 Error: 111.0979799914957 Sensitivity: 0.5488888888888889 specificity: 0.5777777777777777\n",
      "Epoch: 2700 Error: 110.98995246386382 Sensitivity: 0.5511111111111111 specificity: 0.5777777777777777\n",
      "Epoch: 2800 Error: 110.87959683790216 Sensitivity: 0.5533333333333333 specificity: 0.5755555555555556\n",
      "Epoch: 2900 Error: 110.77280584483967 Sensitivity: 0.56 specificity: 0.5755555555555556\n"
     ]
    },
    {
     "ename": "IndexError",
     "evalue": "list index out of range",
     "output_type": "error",
     "traceback": [
      "\u001b[0;31m---------------------------------------------------------------------------\u001b[0m",
      "\u001b[0;31mIndexError\u001b[0m                                Traceback (most recent call last)",
      "\u001b[0;32m<ipython-input-172-bab9d6d3a5d4>\u001b[0m in \u001b[0;36m<module>\u001b[0;34m()\u001b[0m\n\u001b[1;32m      4\u001b[0m Etss_1c, specif_1c, sens_1c = model_1.train(norm_train_i,train_t,adaptive_rate = True,alpha0= 0.005,\n\u001b[1;32m      5\u001b[0m                                    bias=False,momentum_enabled=False ,max_iteration = 3000)\n\u001b[0;32m----> 6\u001b[0;31m \u001b[0msave_curves\u001b[0m\u001b[0;34m(\u001b[0m\u001b[0;36m1\u001b[0m\u001b[0;34m,\u001b[0m\u001b[0;34m\"adaptive_rate_0.01\"\u001b[0m\u001b[0;34m,\u001b[0m\u001b[0mepochs\u001b[0m\u001b[0;34m,\u001b[0m\u001b[0mEtss_1c\u001b[0m\u001b[0;34m,\u001b[0m \u001b[0mspecif_1c\u001b[0m\u001b[0;34m,\u001b[0m \u001b[0msens_1c\u001b[0m \u001b[0;34m)\u001b[0m\u001b[0;34m\u001b[0m\u001b[0;34m\u001b[0m\u001b[0m\n\u001b[0m\u001b[1;32m      7\u001b[0m \u001b[0;31m#save weights\u001b[0m\u001b[0;34m\u001b[0m\u001b[0;34m\u001b[0m\u001b[0;34m\u001b[0m\u001b[0m\n\u001b[1;32m      8\u001b[0m \u001b[0md1\u001b[0m\u001b[0;34m=\u001b[0m \u001b[0;34m{\u001b[0m\u001b[0;36m1\u001b[0m\u001b[0;34m:\u001b[0m\u001b[0mmodel_1\u001b[0m\u001b[0;34m.\u001b[0m\u001b[0mweights\u001b[0m\u001b[0;34m[\u001b[0m\u001b[0;36m1\u001b[0m\u001b[0;34m]\u001b[0m\u001b[0;34m.\u001b[0m\u001b[0mtolist\u001b[0m\u001b[0;34m(\u001b[0m\u001b[0;34m)\u001b[0m\u001b[0;34m,\u001b[0m\u001b[0;36m2\u001b[0m\u001b[0;34m:\u001b[0m\u001b[0mmodel_1\u001b[0m\u001b[0;34m.\u001b[0m\u001b[0mweights\u001b[0m\u001b[0;34m[\u001b[0m\u001b[0;36m2\u001b[0m\u001b[0;34m]\u001b[0m\u001b[0;34m.\u001b[0m\u001b[0mtolist\u001b[0m\u001b[0;34m(\u001b[0m\u001b[0;34m)\u001b[0m\u001b[0;34m}\u001b[0m\u001b[0;34m\u001b[0m\u001b[0;34m\u001b[0m\u001b[0m\n",
      "\u001b[0;32m<ipython-input-167-2c4e15de43b7>\u001b[0m in \u001b[0;36msave_curves\u001b[0;34m(case, name, epoch, err, sens, specif)\u001b[0m\n\u001b[1;32m     18\u001b[0m     \u001b[0mfp\u001b[0m \u001b[0;34m=\u001b[0m \u001b[0mopen\u001b[0m\u001b[0;34m(\u001b[0m\u001b[0;34m\"Case-\"\u001b[0m\u001b[0;34m+\u001b[0m\u001b[0mstr\u001b[0m\u001b[0;34m(\u001b[0m\u001b[0mcase\u001b[0m\u001b[0;34m)\u001b[0m\u001b[0;34m+\u001b[0m\u001b[0;34m\"-data\"\u001b[0m\u001b[0;34m+\u001b[0m\u001b[0;34m\"/log_\"\u001b[0m\u001b[0;34m+\u001b[0m\u001b[0mname\u001b[0m\u001b[0;34m+\u001b[0m\u001b[0;34m\".txt\"\u001b[0m\u001b[0;34m,\u001b[0m\u001b[0;34m\"w+\"\u001b[0m\u001b[0;34m)\u001b[0m\u001b[0;34m\u001b[0m\u001b[0;34m\u001b[0m\u001b[0m\n\u001b[1;32m     19\u001b[0m     \u001b[0;32mfor\u001b[0m \u001b[0mi\u001b[0m \u001b[0;32min\u001b[0m \u001b[0mrange\u001b[0m\u001b[0;34m(\u001b[0m\u001b[0mlen\u001b[0m\u001b[0;34m(\u001b[0m\u001b[0mepoch\u001b[0m\u001b[0;34m)\u001b[0m\u001b[0;34m)\u001b[0m\u001b[0;34m:\u001b[0m\u001b[0;34m\u001b[0m\u001b[0;34m\u001b[0m\u001b[0m\n\u001b[0;32m---> 20\u001b[0;31m         \u001b[0mfp\u001b[0m\u001b[0;34m.\u001b[0m\u001b[0mwrite\u001b[0m\u001b[0;34m(\u001b[0m\u001b[0mstr\u001b[0m\u001b[0;34m(\u001b[0m\u001b[0mepoch\u001b[0m\u001b[0;34m[\u001b[0m\u001b[0mi\u001b[0m\u001b[0;34m]\u001b[0m\u001b[0;34m)\u001b[0m\u001b[0;34m+\u001b[0m\u001b[0;34m\" \"\u001b[0m\u001b[0;34m+\u001b[0m\u001b[0mstr\u001b[0m\u001b[0;34m(\u001b[0m\u001b[0merr\u001b[0m\u001b[0;34m[\u001b[0m\u001b[0mi\u001b[0m\u001b[0;34m]\u001b[0m\u001b[0;34m)\u001b[0m\u001b[0;34m+\u001b[0m\u001b[0;34m\" \"\u001b[0m\u001b[0;34m+\u001b[0m\u001b[0mstr\u001b[0m\u001b[0;34m(\u001b[0m\u001b[0msens\u001b[0m\u001b[0;34m[\u001b[0m\u001b[0mi\u001b[0m\u001b[0;34m]\u001b[0m\u001b[0;34m)\u001b[0m\u001b[0;34m+\u001b[0m\u001b[0;34m\" \"\u001b[0m\u001b[0;34m+\u001b[0m\u001b[0mstr\u001b[0m\u001b[0;34m(\u001b[0m\u001b[0mspecif\u001b[0m\u001b[0;34m[\u001b[0m\u001b[0mi\u001b[0m\u001b[0;34m]\u001b[0m\u001b[0;34m)\u001b[0m\u001b[0;34m+\u001b[0m\u001b[0;34m\"\\n\"\u001b[0m\u001b[0;34m)\u001b[0m\u001b[0;34m\u001b[0m\u001b[0;34m\u001b[0m\u001b[0m\n\u001b[0m\u001b[1;32m     21\u001b[0m \u001b[0;34m\u001b[0m\u001b[0m\n\u001b[1;32m     22\u001b[0m     \u001b[0mfp\u001b[0m\u001b[0;34m.\u001b[0m\u001b[0mclose\u001b[0m\u001b[0;34m(\u001b[0m\u001b[0;34m)\u001b[0m\u001b[0;34m\u001b[0m\u001b[0;34m\u001b[0m\u001b[0m\n",
      "\u001b[0;31mIndexError\u001b[0m: list index out of range"
     ]
    }
   ],
   "source": [
    "#case 1: determine learning rate\n",
    "\n",
    "model_1.weights=load_weights(\"model_1\")\n",
    "Etss_1c, specif_1c, sens_1c = model_1.train(norm_train_i,train_t,adaptive_rate = True,alpha0= 0.005,\n",
    "                                   bias=False,momentum_enabled=False ,max_iteration = 3000)\n",
    "save_curves(1,\"adaptive_rate_0.01\",epochs,Etss_1c, specif_1c, sens_1c )\n",
    "#save weights\n",
    "d1= {1:model_1.weights[1].tolist(),2:model_1.weights[2].tolist()}\n",
    "save_weights( d1,\"1_c\")"
   ]
  },
  {
   "cell_type": "code",
   "execution_count": 173,
   "metadata": {},
   "outputs": [
    {
     "name": "stdout",
     "output_type": "stream",
     "text": [
      "Model 1 acc: 0.609375\n"
     ]
    }
   ],
   "source": [
    "preds = model_1.predict(test_i,bias=False)\n",
    "acc = float(list(np.logical_xor(test_t,preds)).count(False))/len(test_t)\n",
    "print(\"Model 1 acc:\",acc)\n"
   ]
  },
  {
   "cell_type": "code",
   "execution_count": 17,
   "metadata": {},
   "outputs": [
    {
     "name": "stdout",
     "output_type": "stream",
     "text": [
      "Epoch: 0 Error: 128.6129211442303 Sensitivity: 0.0 specificity: 0.995\n",
      "Epoch: 100 Error: 104.82618996423636 Sensitivity: 0.4875 specificity: 0.5075\n",
      "Epoch: 200 Error: 105.40868004643447 Sensitivity: 0.5025 specificity: 0.4975\n",
      "Epoch: 300 Error: 104.85440205139409 Sensitivity: 0.5225 specificity: 0.485\n",
      "Epoch: 400 Error: 104.19553346673496 Sensitivity: 0.5625 specificity: 0.4775\n",
      "Epoch: 500 Error: 102.86677749430798 Sensitivity: 0.605 specificity: 0.4975\n",
      "Epoch: 600 Error: 101.44312786679104 Sensitivity: 0.575 specificity: 0.5375\n",
      "Epoch: 700 Error: 99.96975847964639 Sensitivity: 0.565 specificity: 0.5625\n",
      "Epoch: 800 Error: 98.63869311344058 Sensitivity: 0.5475 specificity: 0.5775\n",
      "Epoch: 900 Error: 97.49216481314802 Sensitivity: 0.5525 specificity: 0.59\n",
      "Epoch: 1000 Error: 96.59738235186703 Sensitivity: 0.55 specificity: 0.6\n",
      "Epoch: 1100 Error: 96.0788979314691 Sensitivity: 0.53 specificity: 0.61\n",
      "Epoch: 1200 Error: 95.56384858726909 Sensitivity: 0.52 specificity: 0.625\n",
      "Epoch: 1300 Error: 95.20483187384656 Sensitivity: 0.53 specificity: 0.6425\n",
      "Epoch: 1400 Error: 95.01114650216077 Sensitivity: 0.5325 specificity: 0.6625\n",
      "Epoch: 1500 Error: 95.38531767965367 Sensitivity: 0.5125 specificity: 0.695\n",
      "Epoch: 1600 Error: 96.02352719702597 Sensitivity: 0.5475 specificity: 0.6575\n",
      "Epoch: 1700 Error: 96.24374924438114 Sensitivity: 0.54 specificity: 0.665\n",
      "Epoch: 1800 Error: 96.54435352611468 Sensitivity: 0.5175 specificity: 0.6625\n",
      "Epoch: 1900 Error: 96.99906824900799 Sensitivity: 0.4775 specificity: 0.6825\n",
      "Epoch: 2000 Error: 97.80748339240019 Sensitivity: 0.4725 specificity: 0.685\n",
      "Epoch: 2100 Error: 98.57893987664485 Sensitivity: 0.4725 specificity: 0.6875\n",
      "Epoch: 2200 Error: 99.27590900396581 Sensitivity: 0.4725 specificity: 0.665\n",
      "Epoch: 2300 Error: 99.84247119079214 Sensitivity: 0.465 specificity: 0.6525\n",
      "Epoch: 2400 Error: 100.21675064015997 Sensitivity: 0.4525 specificity: 0.6475\n",
      "Epoch: 2500 Error: 100.52879013856557 Sensitivity: 0.4475 specificity: 0.585\n",
      "Epoch: 2600 Error: 100.762309313708 Sensitivity: 0.45 specificity: 0.56\n",
      "Epoch: 2700 Error: 100.86830087962892 Sensitivity: 0.4425 specificity: 0.5725\n",
      "Epoch: 2800 Error: 101.12326743671083 Sensitivity: 0.4625 specificity: 0.565\n",
      "Epoch: 2900 Error: 101.73433861782746 Sensitivity: 0.4425 specificity: 0.5775\n",
      "Epoch: 3000 Error: 101.9832874622288 Sensitivity: 0.45 specificity: 0.55\n",
      "Epoch: 3100 Error: 102.0800744788871 Sensitivity: 0.4375 specificity: 0.57\n",
      "Epoch: 3200 Error: 101.87177270980769 Sensitivity: 0.43 specificity: 0.5625\n",
      "Epoch: 3300 Error: 101.8027513600344 Sensitivity: 0.44 specificity: 0.5625\n",
      "Epoch: 3400 Error: 100.83986850265221 Sensitivity: 0.46 specificity: 0.585\n",
      "Epoch: 3500 Error: 99.92957301037556 Sensitivity: 0.515 specificity: 0.6025\n",
      "Epoch: 3600 Error: 99.5476263931495 Sensitivity: 0.4775 specificity: 0.5975\n",
      "Epoch: 3700 Error: 98.71660367161509 Sensitivity: 0.4825 specificity: 0.5925\n",
      "Epoch: 3800 Error: 97.98704111448048 Sensitivity: 0.52 specificity: 0.61\n",
      "Epoch: 3900 Error: 97.40359692416831 Sensitivity: 0.55 specificity: 0.625\n"
     ]
    }
   ],
   "source": [
    "#case 1: determine learning rate\n",
    "model_1.weights=load_weights(\"model_1\")\n",
    "Etss_1d, specif_1d, sens_1d = model_1.train(norm_train_i,train_t,adaptive_rate = False,alpha0= 0.01,\n",
    "                                   bias=False,momentum_enabled=False ,max_iteration = 4000)\n",
    "save_curves(1,\"rate_0.01\",epochs,Etss_1d, specif_1d, sens_1d )\n",
    "#save weights\n",
    "d1= {1:model_1.weights[1].tolist(),2:model_1.weights[2].tolist()}\n",
    "save_weights( d1,\"1_d\")"
   ]
  },
  {
   "cell_type": "code",
   "execution_count": 18,
   "metadata": {},
   "outputs": [],
   "source": [
    "# epochs = [i*100 for i in range(len(Etss_1a))]\n",
    "# save_curves(1,\"rate_0.001\",epochs,Etss_1a, specif_1a, sens_1a )\n",
    "# save_curves(1,\"rate_0.003\",epochs,Etss_1b, specif_1b, sens_1b )\n",
    "# save_curves(1,\"rate_0.01\",epochs,Etss_1d, specif_1d, sens_1d )\n",
    "# save_curves(1,\"adaptive_rate_0.01\",epochs,Etss_1c, specif_1c, sens_1c )\n"
   ]
  },
  {
   "cell_type": "code",
   "execution_count": 19,
   "metadata": {},
   "outputs": [],
   "source": [
    "#case 3 uses the weights from case 1\n",
    "model_3 = MLFF(input_shape  = d)\n",
    "model_3.add_layer((d,2*d+1),activation='relu')\n",
    "model_3.add_layer((2*d+1,1),initializer='')\n",
    "\n"
   ]
  },
  {
   "cell_type": "code",
   "execution_count": 20,
   "metadata": {
    "scrolled": true
   },
   "outputs": [
    {
     "name": "stdout",
     "output_type": "stream",
     "text": [
      "Epoch: 0 Error: 128.6129211442303 Sensitivity: 0.0 specificity: 0.995\n",
      "Epoch: 100 Error: 128.06761329003555 Sensitivity: 0.0 specificity: 0.995\n",
      "Epoch: 200 Error: 124.70430118280125 Sensitivity: 0.0 specificity: 0.9925\n",
      "Epoch: 300 Error: 120.07676208252761 Sensitivity: 0.0 specificity: 0.9875\n",
      "Epoch: 400 Error: 114.92657989994665 Sensitivity: 0.0 specificity: 0.985\n",
      "Epoch: 500 Error: 110.57007527635834 Sensitivity: 0.0 specificity: 0.9525\n",
      "Epoch: 600 Error: 106.95424686713925 Sensitivity: 0.0125 specificity: 0.8675\n",
      "Epoch: 700 Error: 105.33554689018767 Sensitivity: 0.135 specificity: 0.755\n",
      "Epoch: 800 Error: 104.74149326120127 Sensitivity: 0.285 specificity: 0.675\n",
      "Epoch: 900 Error: 104.54397457775036 Sensitivity: 0.33 specificity: 0.6275\n",
      "Epoch: 1000 Error: 104.49400256842249 Sensitivity: 0.365 specificity: 0.61\n",
      "Epoch: 1100 Error: 104.50642146899969 Sensitivity: 0.3825 specificity: 0.5975\n",
      "Epoch: 1200 Error: 104.54180481925115 Sensitivity: 0.3825 specificity: 0.595\n",
      "Epoch: 1300 Error: 104.5989047604599 Sensitivity: 0.3825 specificity: 0.5825\n",
      "Epoch: 1400 Error: 104.65999642844325 Sensitivity: 0.3825 specificity: 0.575\n",
      "Epoch: 1500 Error: 104.69896898558449 Sensitivity: 0.3875 specificity: 0.5675\n",
      "Epoch: 1600 Error: 104.71588162374505 Sensitivity: 0.3875 specificity: 0.5675\n",
      "Epoch: 1700 Error: 104.72979037439232 Sensitivity: 0.385 specificity: 0.5675\n",
      "Epoch: 1800 Error: 104.74137209300774 Sensitivity: 0.3875 specificity: 0.5675\n",
      "Epoch: 1900 Error: 104.75402570772181 Sensitivity: 0.385 specificity: 0.5675\n",
      "Epoch: 2000 Error: 104.76686939138114 Sensitivity: 0.3925 specificity: 0.5675\n",
      "Epoch: 2100 Error: 104.77804166988444 Sensitivity: 0.3925 specificity: 0.565\n",
      "Epoch: 2200 Error: 104.7905976824349 Sensitivity: 0.3975 specificity: 0.565\n",
      "Epoch: 2300 Error: 104.80252764217285 Sensitivity: 0.3975 specificity: 0.565\n",
      "Epoch: 2400 Error: 104.81020771684221 Sensitivity: 0.4 specificity: 0.565\n",
      "Epoch: 2500 Error: 104.81491119080327 Sensitivity: 0.4 specificity: 0.5675\n",
      "Epoch: 2600 Error: 104.81449560550439 Sensitivity: 0.3975 specificity: 0.57\n",
      "Epoch: 2700 Error: 104.81285007753937 Sensitivity: 0.3975 specificity: 0.5725\n",
      "Epoch: 2800 Error: 104.81137263325783 Sensitivity: 0.3975 specificity: 0.5725\n",
      "Epoch: 2900 Error: 104.81006862022636 Sensitivity: 0.3975 specificity: 0.575\n",
      "Epoch: 3000 Error: 104.80602866184964 Sensitivity: 0.4 specificity: 0.575\n",
      "Epoch: 3100 Error: 104.80136969045665 Sensitivity: 0.4 specificity: 0.575\n",
      "Epoch: 3200 Error: 104.79691451203666 Sensitivity: 0.4 specificity: 0.575\n",
      "Epoch: 3300 Error: 104.791995551709 Sensitivity: 0.3975 specificity: 0.58\n",
      "Epoch: 3400 Error: 104.78704763943823 Sensitivity: 0.3975 specificity: 0.58\n",
      "Epoch: 3500 Error: 104.78065510167646 Sensitivity: 0.3975 specificity: 0.58\n",
      "Epoch: 3600 Error: 104.77290719097104 Sensitivity: 0.4 specificity: 0.58\n",
      "Epoch: 3700 Error: 104.76435855064395 Sensitivity: 0.4 specificity: 0.58\n",
      "Epoch: 3800 Error: 104.75508048019564 Sensitivity: 0.4025 specificity: 0.58\n",
      "Epoch: 3900 Error: 104.74526203826292 Sensitivity: 0.4025 specificity: 0.5775\n"
     ]
    }
   ],
   "source": [
    "model_3.weights=load_weights(\"model_1\")\n",
    "Etss_3a, specif_3a, sens_3a = model_3.train(norm_train_i,train_t,adaptive_rate = True,alpha0= 0.01,\n",
    "                                            beta0=0.99,bias=False,momentum_enabled=True ,max_iteration = 4000)"
   ]
  },
  {
   "cell_type": "code",
   "execution_count": 21,
   "metadata": {},
   "outputs": [],
   "source": [
    "epochs = [i*100 for i in range(len(Etss_3a))]\n",
    "save_curves(3,\"momentum\",epochs,Etss_3a, specif_3a, sens_3a )\n",
    "#save weights\n",
    "d3= {1:model_3.weights[1].tolist(),2:model_3.weights[2].tolist()}\n",
    "save_weights( d3,\"3_a\")"
   ]
  },
  {
   "cell_type": "code",
   "execution_count": 22,
   "metadata": {},
   "outputs": [
    {
     "name": "stdout",
     "output_type": "stream",
     "text": [
      "Model 3 acc: 0.5755208333333334\n"
     ]
    }
   ],
   "source": [
    "preds = model_3.predict(test_i,bias=False)\n",
    "acc = float(list(np.logical_xor(test_t,preds)).count(False))/len(test_t)\n",
    "print(\"Model 3 acc:\",acc)\n",
    "# print(Etss_1b, specif_1b, sens_1b )"
   ]
  },
  {
   "cell_type": "code",
   "execution_count": 23,
   "metadata": {},
   "outputs": [
    {
     "data": {
      "text/plain": [
       "Text(0,0.5,'Etss')"
      ]
     },
     "execution_count": 23,
     "metadata": {},
     "output_type": "execute_result"
    },
    {
     "data": {
      "image/png": "[encoded data removed]",
      "text/plain": [
       "<Figure size 432x288 with 1 Axes>"
      ]
     },
     "metadata": {},
     "output_type": "display_data"
    }
   ],
   "source": [
    "epochs = [i*100 for i in range(len(Etss_1b))]\n",
    "plt.plot(epochs, Etss_1a,'r')\n",
    "plt.plot(epochs, Etss_1b,'b')\n",
    "plt.plot(epochs, Etss_1d,'y')\n",
    "plt.plot(epochs, Etss_1c,'g')\n",
    "plt.legend([\"Case-1_rate_0.001\",\"Case-1_rate_0.003\",\"Case-1_rate_0.01\",\"Case-1_adaptive_rate_0.01\"])\n",
    "plt.xlabel(\"epochs (each 100 epochs)\")\n",
    "plt.ylabel(\"Etss\")"
   ]
  },
  {
   "cell_type": "code",
   "execution_count": 24,
   "metadata": {},
   "outputs": [
    {
     "data": {
      "text/plain": [
       "Text(0,0.5,'Etss')"
      ]
     },
     "execution_count": 24,
     "metadata": {},
     "output_type": "execute_result"
    },
    {
     "data": {
      "image/png": "[encoded data removed]",
      "text/plain": [
       "<Figure size 432x288 with 1 Axes>"
      ]
     },
     "metadata": {},
     "output_type": "display_data"
    }
   ],
   "source": [
    "epochs = [i*100 for i in range(len(Etss_3a))]\n",
    "plt.plot(epochs, Etss_1c[0:len(Etss_3a)],'r')\n",
    "plt.plot(epochs, Etss_3a,'b')\n",
    "plt.legend([\"Case-1_no_momentum\",\"Case-3_momentum\"])\n",
    "plt.xlabel(\"epochs (each 100 epochs)\")\n",
    "plt.ylabel(\"Etss\")"
   ]
  },
  {
   "cell_type": "code",
   "execution_count": 25,
   "metadata": {},
   "outputs": [
    {
     "data": {
      "text/plain": [
       "Text(0,0.5,'Sensitivity')"
      ]
     },
     "execution_count": 25,
     "metadata": {},
     "output_type": "execute_result"
    },
    {
     "data": {
      "image/png": "[encoded data removed]",
      "text/plain": [
       "<Figure size 432x288 with 1 Axes>"
      ]
     },
     "metadata": {},
     "output_type": "display_data"
    }
   ],
   "source": [
    "ind= np.argsort(specif_1a)\n",
    "specif_1a = np.array(specif_1a)[ind]\n",
    "sens_1a = np.array(sens_1a)[ind]\n",
    "\n",
    "\n",
    "ind= np.argsort(specif_1b)\n",
    "specif_1b = np.array(specif_1b)[ind]\n",
    "sens_1b = np.array(sens_1b)[ind]\n",
    "\n",
    "ind= np.argsort(specif_1c)\n",
    "specif_1c = np.array(specif_1c)[ind]\n",
    "sens_1c = np.array(sens_1c)[ind]\n",
    "\n",
    "plt.plot(1-np.array(specif_1a), sens_1a,'r')\n",
    "plt.plot(1-np.array(specif_1b), sens_1b,'b')\n",
    "plt.plot(1-np.array(specif_1d), sens_1d,'y')\n",
    "plt.plot(1-np.array(specif_1c), sens_1c,'g')\n",
    "plt.legend([\"Case-1_rate_0.001\",\"Case-1_rate_0.003\",\"Case-1_adaptive_rate_0.01\"])\n",
    "plt.xlabel(\"1-Specificity\")\n",
    "plt.ylabel(\"Sensitivity\")"
   ]
  },
  {
   "cell_type": "code",
   "execution_count": 26,
   "metadata": {},
   "outputs": [
    {
     "data": {
      "text/plain": [
       "Text(0,0.5,'Sensitivity')"
      ]
     },
     "execution_count": 26,
     "metadata": {},
     "output_type": "execute_result"
    },
    {
     "data": {
      "image/png": "[encoded data removed]",
      "text/plain": [
       "<Figure size 432x288 with 1 Axes>"
      ]
     },
     "metadata": {},
     "output_type": "display_data"
    }
   ],
   "source": [
    "\n",
    "ind= np.argsort(specif_3a)\n",
    "specif_3a = np.array(specif_3a)[ind]\n",
    "sens_3a = np.array(sens_3a)[ind]\n",
    "\n",
    "ind= np.argsort(specif_1c)\n",
    "specif_1c = np.array(specif_1c)[ind]\n",
    "sens_1c = np.array(sens_1c)[ind]\n",
    "\n",
    "\n",
    "plt.plot(1-np.array(specif_1c), sens_1c,'r')\n",
    "plt.plot(1-np.array(specif_3a), sens_3a,'b')\n",
    "plt.legend([\"Case-1_no_momentum\",\"Case-3_momentum\"])\n",
    "plt.xlabel(\"1-Specificity\")\n",
    "plt.ylabel(\"Sensitivity\")"
   ]
  },
  {
   "cell_type": "code",
   "execution_count": null,
   "metadata": {},
   "outputs": [],
   "source": []
  }
 ],
 "metadata": {
  "kernelspec": {
   "display_name": "Python 3 (my CI env)",
   "language": "python",
   "name": "myenv"
  },
  "language_info": {
   "codemirror_mode": {
    "name": "ipython",
    "version": 3
   },
   "file_extension": ".py",
   "mimetype": "text/x-python",
   "name": "python",
   "nbconvert_exporter": "python",
   "pygments_lexer": "ipython3",
   "version": "3.6.8"
  }
 },
 "nbformat": 4,
 "nbformat_minor": 2
}
