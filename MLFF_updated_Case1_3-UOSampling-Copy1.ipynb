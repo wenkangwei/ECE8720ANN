{
 "cells": [
  {
   "cell_type": "code",
   "execution_count": 1,
   "metadata": {},
   "outputs": [],
   "source": [
    "import numpy as np\n",
    "import matplotlib.pyplot as plt\n"
   ]
  },
  {
   "cell_type": "code",
   "execution_count": 2,
   "metadata": {},
   "outputs": [],
   "source": [
    "import random\n",
    "from sklearn.neighbors import NearestNeighbors\n",
    "import numpy as np\n",
    "class Smote:\n",
    "    def __init__(self,samples,N=10,k=5):\n",
    "        self.n_samples,self.n_attrs=samples.shape\n",
    "        self.N=N\n",
    "        self.k=k\n",
    "        self.samples=samples\n",
    "        self.newindex=0\n",
    "\n",
    "    def over_sampling(self):\n",
    "        N=int(self.N)\n",
    "        self.synthetic = np.zeros((self.n_samples * N, self.n_attrs))\n",
    "        neighbors=NearestNeighbors(n_neighbors=self.k).fit(self.samples)  \n",
    "        for i in range(len(self.samples)):\n",
    "#             print('samples',self.samples[i])\n",
    "            nnarray=neighbors.kneighbors(self.samples[i].reshape((1,-1)),return_distance=False)[0]  #Finds the K-neighbors of a point.\n",
    "#             print ('nna',nnarray)\n",
    "            self._populate(N,i,nnarray)\n",
    "        return self.synthetic\n",
    "\n",
    "\n",
    "    # for each minority class sample i ,choose N of the k nearest neighbors and generate N synthetic samples.\n",
    "    def _populate(self,N,i,nnarray):\n",
    "        for j in range(N):\n",
    "            nn=random.randint(0,self.k-1)\n",
    "            dif=self.samples[nnarray[nn]]-self.samples[i]\n",
    "            gap=random.random()\n",
    "            self.synthetic[self.newindex]=self.samples[i]+gap*dif\n",
    "            self.newindex+=1\n",
    "#             print(self.synthetic)\n",
    "            \n",
    "# a=np.array([[1,2,3],[4,5,6],[2,3,1],[2,1,2],[2,3,4],[2,3,4]])\n",
    "# s=Smote(a,N=10)\n",
    "# n= s.over_sampling()\n",
    "# print(np.shape(n))"
   ]
  },
  {
   "cell_type": "code",
   "execution_count": 3,
   "metadata": {},
   "outputs": [],
   "source": [
    "\n",
    "def save_balanced_data( train_i,train_t,test_i,test_t,train_name=\"balanced_train\",test_name=\"test\"):\n",
    "    \n",
    "    fp = open('./Balanced-data/'+train_name+'.txt','w+')\n",
    "    for i in range(len(train_i)):\n",
    "        d_str = str(train_t[i]) + '\\t' +str(train_i[i,:].tolist())[1:-1].replace(',','') +'\\n'\n",
    "        fp.write(d_str)\n",
    "    fp.close()\n",
    "    \n",
    "    fp = open('./Balanced-data/'+test_name+'.txt', 'w+')\n",
    "    for i in range(len(test_i)):\n",
    "        d_str = str(test_t[i]) + '\\t' + str(test_i[i, :].tolist())[1:-1].replace(',','') + '\\n'\n",
    "        fp.write(d_str)\n",
    "    fp.close()\n",
    "\n",
    "    pass\n",
    "\n",
    "\n",
    "def balance_data(aep_i,aep_t, non_aep_i,non_aep_t,pattern_N= 400,method ='undersampling', test_aep_ratio= 0.3,test_nonaep_ratio= 0.3):\n",
    "    \"\"\"\n",
    "\n",
    "    :param aep_i:\n",
    "    :param aep_t:\n",
    "    :param non_aep_i:\n",
    "    :param non_aep_t:\n",
    "    :param pattern_N: the number of training input of each pattern\n",
    "    :param method:\n",
    "    :param test_aep_ratio:\n",
    "    :param test_nonaep_ratio:\n",
    "    :return:\n",
    "    \"\"\"\n",
    "\n",
    "    print(\"Original data size:\")\n",
    "    print(\"aep:\",len(aep_i),'non_aep:',len(non_aep_i))\n",
    "    # split test set and train set\n",
    "    test_aep_sample = int(test_aep_ratio*len(aep_i))\n",
    "    aep_test_i = aep_i[0:test_aep_sample,:]\n",
    "    aep_test_t = aep_t[0:test_aep_sample]\n",
    "    \n",
    "    test_nonaep_sample = int(test_nonaep_ratio*len(non_aep_i))\n",
    "    non_aep_test_i = non_aep_i[0:test_nonaep_sample,:]\n",
    "    non_aep_test_t = non_aep_t[0:test_nonaep_sample]\n",
    "\n",
    "    # test set\n",
    "    test_i = np.concatenate((aep_test_i,non_aep_test_i),axis=0)\n",
    "    test_t = []\n",
    "    test_t.extend(aep_test_t)\n",
    "    test_t.extend( non_aep_test_t)\n",
    "\n",
    "    # train set\n",
    "    aep_i =aep_i[test_aep_sample:,:]\n",
    "    aep_t = np.array(aep_t[test_aep_sample:])\n",
    "    non_aep_i = non_aep_i[test_nonaep_sample:, :]\n",
    "    non_aep_t = non_aep_t[test_nonaep_sample:]\n",
    "\n",
    " \n",
    "    # balance training set here\n",
    "    if method == 'oversampling':\n",
    "        print(\"Using oversampling...\")\n",
    "        sample_range = len(aep_i)\n",
    "        indices = np.random.randint(sample_range, size=len(non_aep_i))\n",
    "        new_aep_i = aep_i[indices,:]\n",
    "        new_aep_t = aep_t[indices]\n",
    "        \n",
    "        train_i = np.concatenate((new_aep_i, non_aep_i),axis=0)\n",
    "        train_t =[]\n",
    "        train_t.extend(new_aep_t)\n",
    "        train_t.extend(non_aep_t)\n",
    "\n",
    "\n",
    "    elif method == 'undersampling':\n",
    "        print(\"Using undersampling...\")\n",
    "        sample_range = len(non_aep_i)\n",
    "        indices = np.random.randint(sample_range, size=len(aep_i))\n",
    "        new_nonaep_i = non_aep_i[indices,:]\n",
    "        new_nonaep_t = non_aep_t[indices]\n",
    "        \n",
    "        train_i = np.concatenate((aep_i,new_nonaep_i),axis=0)\n",
    "        train_t =[]\n",
    "        train_t.extend(aep_t)\n",
    "        train_t.extend(new_nonaep_t)\n",
    "        pass\n",
    "    elif method == 'SMOTE':\n",
    "        print(\"Using SMOTE...\")\n",
    "        #generate new aep data\n",
    "        s= Smote(aep_i,N=10*len(aep_i))\n",
    "        new_aep_i = s.over_sampling()\n",
    "        indices = np.random.randint(len(new_aep_i), size=pattern_N)\n",
    "        new_aep_i = new_aep_i[indices,:]\n",
    "        new_aep_t = [1.0]*len(new_aep_i)\n",
    "        \n",
    "        #downsample non aep data and make aep and non_aep data have same size \n",
    "        indices = np.random.randint(len(non_aep_i), size=len(new_aep_i))\n",
    "        new_nonaep_i = non_aep_i[indices,:]\n",
    "        new_nonaep_t = non_aep_t[indices]\n",
    "        #first half of data is aep, second half of data is non_aep\n",
    "        train_i = np.concatenate((new_aep_i,new_nonaep_i),axis=0)\n",
    "        train_t =[]\n",
    "        train_t.extend(new_aep_t)\n",
    "        train_t.extend(new_nonaep_t)\n",
    "        \n",
    "    else:\n",
    "        print(\"Using undersampling+ oversampling...\")\n",
    "        #Default downsample non_aep data and oversample aep data randomly\n",
    "        #downsample non_aep data\n",
    "        sample_size = pattern_N\n",
    "        indices = np.random.randint(len(non_aep_i), size=sample_size)\n",
    "        new_nonaep_i = non_aep_i[indices,:]\n",
    "        new_nonaep_t = non_aep_t[indices]\n",
    "        #oversample aep data\n",
    "        indices = np.random.randint(len(aep_i), size=sample_size)\n",
    "        new_aep_i = aep_i[indices,:]\n",
    "        new_aep_t = aep_t[indices]\n",
    "        \n",
    "        train_i = np.concatenate((new_aep_i,new_nonaep_i),axis=0)\n",
    "        train_t =[]\n",
    "        train_t.extend(new_aep_t)\n",
    "        train_t.extend(new_nonaep_t)\n",
    "        pass\n",
    "\n",
    "\n",
    "    return train_i,train_t,test_i,test_t\n",
    "\n",
    "\n",
    "\n",
    "def load_balanced_data(train_name=\"balanced_train\",test_name=\"test\"):\n",
    "   \n",
    "    train_i = []\n",
    "    train_t = []\n",
    "    test_i = []\n",
    "    test_t = []\n",
    "    fp = open('./Balanced-data/'+train_name+'.txt','r')\n",
    "    lines= fp.readlines()\n",
    "    for line in lines:\n",
    "        line = line.split('\\n')[0]\n",
    "        target, inputs =line.split('\\t')[0],line.split('\\t')[1]\n",
    "        data = [float(s) for s in inputs.split(' ') if s != '']\n",
    "        train_t.append(float(target))\n",
    "        train_i.append(data)\n",
    "    fp.close()\n",
    "    \n",
    "    fp = open('./Balanced-data/'+test_name+'.txt','r')\n",
    "    lines= fp.readlines()\n",
    "    for line in lines:\n",
    "        line = line.split('\\n')[0]\n",
    "        target, inputs =line.split('\\t')[0],line.split('\\t')[1]\n",
    "        data = [float(s) for s in inputs.split(' ') if s != '']\n",
    "        test_t.append(float(target))\n",
    "        test_i.append(data)\n",
    "    fp.close()\n",
    "    \n",
    "    train_i, train_t, test_i, test_t = np.array(train_i),np.array(train_t),np.array(test_i),np.array(test_t)\n",
    "    \n",
    "    return train_i, train_t, test_i, test_t\n",
    "\n",
    "\n",
    "\n",
    "def create_balanced_data(method=\"SMOTE\"):\n",
    "    fp = open('db4_Diff1f_100_128w_AEP2_gp2_ver1-1_ece856.txt', 'r+')\n",
    "    lines = fp.readlines()\n",
    "    aep_i = []\n",
    "    aep_t = []\n",
    "    non_aep_i = []\n",
    "    non_aep_t = []\n",
    "\n",
    "    for line in lines:\n",
    "        line = line.split('\\n')[0]\n",
    "        data = [float(s) for s in line.split(' ') if s != '']\n",
    "        aep_i.append(data)\n",
    "        aep_t.append(1)\n",
    "    fp.close()\n",
    "\n",
    "    aep_i = np.array(aep_i)\n",
    "    aep_t = np.array(aep_t)\n",
    "\n",
    "    fp = open('db4_Diff1f_100_128w_nonAEP2_gp2_ver1-1_ece856.txt', 'r+')\n",
    "    lines = fp.readlines()\n",
    "    for line in lines:\n",
    "        line = line.split('\\n')[0]\n",
    "        data = [float(s) for s in line.split(' ') if s != '']\n",
    "        non_aep_i.append(data)\n",
    "        non_aep_t.append(0)\n",
    "    fp.close()\n",
    "    non_aep_i = np.array(non_aep_i)\n",
    "    non_aep_t = np.array(non_aep_t)\n",
    "\n",
    "    \n",
    "    \n",
    "    train_i, train_t, test_i, test_t= balance_data(aep_i,aep_t,non_aep_i,non_aep_t,method=method)\n",
    "    \n",
    "    train_i, train_t, test_i, test_t = np.array(train_i),np.array(train_t),np.array(test_i),np.array(test_t)\n",
    "    return train_i, train_t, test_i, test_t\n"
   ]
  },
  {
   "cell_type": "code",
   "execution_count": 4,
   "metadata": {},
   "outputs": [],
   "source": [
    "class MLFF():\n",
    "    def __init__(self,input_shape = 27, bias=False):\n",
    "#         np.random.seed(1)\n",
    "        self.weights = {}\n",
    "        self.bias_enabled = bias\n",
    "        self.weight_correction = {}\n",
    "        self.delta ={}\n",
    "        self.input_shape = input_shape\n",
    "        self.num_layer = 1 # initialize input layer\n",
    "        self.func_pair = {'logistic':(self.logistic,self.d_logistic),'relu':(self.relu,self.d_relu),'tanh':(self.tanh,self.d_tanh)}\n",
    "        self.activate = {}\n",
    "        self.derivative = {}\n",
    "        \n",
    "    def add_layer(self,shape, activation=None,initializer='random'):\n",
    "        if initializer =='zero':\n",
    "            # zero initializer\n",
    "            self.weights[self.num_layer] = np.vstack((np.zeros(shape[1]), np.zeros((shape))))\n",
    "        else:\n",
    "            #random initializer\n",
    "            # The first row is bias \n",
    "            self.weights[self.num_layer] = np.vstack((10*np.random.random(shape[1])-5, 10*np.random.random(shape)-5))\n",
    "        self.weight_correction[self.num_layer]= np.zeros((shape[0]+1, shape[1]))\n",
    "        \n",
    "        self.num_layer += 1\n",
    "        \n",
    "        # the address to activation function\n",
    "        if activation is not None and activation is not '':\n",
    "            self.activate[self.num_layer] = self.func_pair[activation][0]\n",
    "            self.derivative[self.num_layer] = self.func_pair[activation][1]\n",
    "        else:\n",
    "            self.activate[self.num_layer] = self.logistic\n",
    "            self.derivative[self.num_layer] = self.d_logistic\n",
    "            \n",
    "        \n",
    "    def logistic(self, net):\n",
    "        k = 0.01\n",
    "        return 1/(1+ np.exp(-k*net))\n",
    "    \n",
    "    def d_logistic(self,net,out):\n",
    "        \"\"\"\n",
    "        out: numpy array\n",
    "        \"\"\"\n",
    "        k = 0.01\n",
    "        return k*out*(1.0- out)\n",
    "\n",
    "    \n",
    "    def tanh(self,net):\n",
    "        return np.tanh(net)\n",
    "    \n",
    "    def d_tanh(self,net,o):\n",
    "        return 1.0-np.square(o)\n",
    "    \n",
    "    def relu(self,net):\n",
    "        k =1.0\n",
    "        k1= 0.1\n",
    "        ma = k*np.maximum(net, np.zeros(np.shape(net)))\n",
    "        mi = k1*np.minimum(net, np.zeros(np.shape(net)))\n",
    "        return ma+mi\n",
    "    \n",
    "    def d_relu(self, net,o):\n",
    "        k = 1.0\n",
    "        k1 = 0.1\n",
    "        z = np.zeros(np.shape(net))\n",
    "        m = np.maximum(z,net)\n",
    "        deriv = np.where(m>0.0,k,m)\n",
    "        deriv = np.where(deriv==0.0,k1,deriv)\n",
    "        return deriv\n",
    "    \n",
    "    \n",
    "    def feedforward(self,inputs,bias= False):\n",
    "        \"\"\"\n",
    "        input: 1-D array\n",
    "        \"\"\"\n",
    "        out = {}\n",
    "        out[1] = inputs\n",
    "        for i in range(self.num_layer-1):\n",
    "            layer = i+1\n",
    "            net = np.dot(out[layer], self.weights[layer][1:,:])\n",
    "            if bias:\n",
    "                net += self.weights[layer][0,:]\n",
    "            out[layer+1]= self.activate[layer+1](net)\n",
    "            \n",
    "        return out, out[self.num_layer]\n",
    "    \n",
    "        \n",
    "    def backforward(self,out, target,alpha,momentum_coeff, bias = False,momentum_enabled=False):\n",
    "        \"\"\"\n",
    "        Apply General delta rule to backforward\n",
    "        out: the dictionary storing all outputs in different layers\n",
    "        \"\"\"\n",
    "        pred = out[self.num_layer]\n",
    "        dE_o = -(target- pred)\n",
    "        prev_net = np.dot(out[self.num_layer-1], self.weights[self.num_layer-1][1:,:])\n",
    "        if bias:\n",
    "            prev_net += self.weights[self.num_layer-1][0,:]\n",
    "        \n",
    "        \n",
    "        \n",
    "        self.delta[self.num_layer] = -np.multiply(dE_o, self.derivative[self.num_layer](prev_net,pred) )\n",
    "        # calculate delta of each layer\n",
    "        # calculate delta from layer-2 to the last second layer,since the input layer doesn't have delta\n",
    "        # delta  of the output layer is determined by output\n",
    "        for layer in reversed(range(2, self.num_layer)):\n",
    "            last_delta = self.delta[layer+1] \n",
    "            \n",
    "            dE_o =np.dot(self.weights[layer][1:,:], last_delta)\n",
    "            prev_net = np.dot(out[layer-1], self.weights[layer-1][1:,:])\n",
    "            if bias:\n",
    "                prev_net += self.weights[layer-1][0,:]\n",
    "                \n",
    "            d_f =self.derivative[layer](prev_net,out[layer])\n",
    "            self.delta[layer] = -np.multiply(dE_o, d_f)\n",
    "            \n",
    "#             print('last-delta:',np.shape(last_delta),last_delta, \"weights-\",layer,': ',self.weights[layer][1:,:])\n",
    "#             print('layer:',layer)\n",
    "#             print('prev_net:',prev_net)\n",
    "#             print('out:',out[layer])\n",
    "#             print('dE_o-',layer,\": \",dE_o,'d_f:',d_f,'delta:',np.shape(self.delta[layer]),self.delta[layer])\n",
    "        \n",
    "        #calculate weight correction\n",
    "        for layer in range(1, self.num_layer):\n",
    "            if not momentum_enabled:\n",
    "                momentum_coeff = 1.0\n",
    "            delta_p = np.multiply(self.delta[layer+1],np.reshape(out[layer], (len(out[layer]), 1)))\n",
    "            self.weight_correction[layer][1:,:] = alpha*delta_p + momentum_coeff* self.weight_correction[layer][1:,:]\n",
    "            #update bias if enabled\n",
    "            if bias:\n",
    "                self.weight_correction[layer][0,:] = alpha*self.delta[layer+1] \n",
    "                + momentum_coeff*self.weight_correction[layer][0,:]\n",
    "            \n",
    "        return None\n",
    "    \n",
    "    \n",
    "    def predict(self, inputs,bias=False):\n",
    "        _, preds = self.feedforward(inputs,bias)\n",
    "        preds = np.array([1 if p>=0.5 else 0 for p in preds])\n",
    "        return preds\n",
    "    \n",
    "#     def gradient_descent(self,alpha,beta,momentum= None):\n",
    "        \n",
    "#         new_momentum= self.weight_correction.copy()\n",
    "# #         print(\"old wc:\",self.weight_correction)\n",
    "#         for layer in range(1, self.num_layer):\n",
    "#             if momentum is not None:\n",
    "# #                 print(\"mm:\",beta* momentum[layer])\n",
    "#                 self.weight_correction[layer] = alpha*self.weight_correction[layer] + beta* momentum[layer]\n",
    "# #                 print(\"Update weigth with momentum\")\n",
    "            \n",
    "#             else:\n",
    "# #                 print(\"Without momentum\")\n",
    "#                 self.weight_correction[layer] = alpha*self.weight_correction[layer]\n",
    "#             self.weights[layer] += self.weight_correction[layer]\n",
    "#             #update momentum\n",
    "#             new_momentum[layer] = self.weight_correction[layer]\n",
    "# #         print(\"new wc:\",self.weight_correction)\n",
    "        \n",
    "#         for layer in range(1, self.num_layer):   \n",
    "#             #reset weight correction after updating weights\n",
    "#             self.weight_correction[layer]= np.zeros(np.shape(self.weight_correction[layer]))\n",
    "        \n",
    "#         return new_momentum\n",
    "        \n",
    "    \n",
    "    def gradient_descent(self):\n",
    "        for layer in range(1, self.num_layer):\n",
    "            self.weights[layer] += self.weight_correction[layer]\n",
    "            #reset weight correction after updating weights\n",
    "            self.weight_correction[layer]= np.zeros(np.shape(self.weight_correction[layer]))\n",
    "\n",
    "        return None\n",
    "    \n",
    "    def train(self,inputs,targets,adaptive_rate=True,alpha0=0.9, beta0=0.5,\n",
    "              bias =False,momentum_enabled = False,max_iteration = 1000,interval =100):\n",
    "        pre_err= 0.0\n",
    "        sens = 0.0\n",
    "        spec =0.0\n",
    "        e_th = 70.0\n",
    "        threshold = 1e-3\n",
    "        momentum  = None\n",
    "        Etss = []\n",
    "        sensitivity = []\n",
    "        specificity = []\n",
    "        \n",
    "        alpha = alpha0\n",
    "        \n",
    "        for epoch in range(max_iteration):\n",
    "            err = 0.0\n",
    "            #need to decrease learning rate alpha, otherwise, it would not decrease error, error doesn't converge\n",
    "            if adaptive_rate:\n",
    "                    alpha = alpha0/(0.001*epoch+1.0)\n",
    "                \n",
    "            \n",
    "            beta = beta0\n",
    "\n",
    "            for i in range(len(inputs)):\n",
    "                outs, pred= self.feedforward(inputs[i,:],bias)\n",
    "                \n",
    "                err  += 0.5*pow(targets[i]-pred[0], 2)\n",
    "                self.backforward(outs,targets[i],alpha=alpha,\n",
    "                                 momentum_coeff=beta,\n",
    "                                 bias=bias,\n",
    "                                 momentum_enabled =momentum_enabled)\n",
    "        \n",
    "            \n",
    "            #trained by epoch\n",
    "            m = self.gradient_descent()\n",
    "\n",
    "            #save data every 10 epochs\n",
    "            if epoch % 100 == 0:\n",
    "                preds = self.predict(inputs,bias)\n",
    "                eap_cnts = float(np.sum(targets))\n",
    "                TP = np.sum(preds[np.where(targets == 1)])\n",
    "                sens = TP/eap_cnts\n",
    "                \n",
    "                noneap_cnts =float(len(targets) - float(np.sum(targets))) \n",
    "                TN = len(preds[np.where(targets == 0)])- np.sum(preds[np.where(targets == 0)])\n",
    "                spec = TN/noneap_cnts\n",
    "                sensitivity.append(sens)\n",
    "                \n",
    "                specificity.append(spec)\n",
    "                Etss.append(err)\n",
    "                #print data after every interval epochs pass\n",
    "                if  epoch%interval == 0:  \n",
    "                    print(\"Epoch:\", epoch,\"Error:\",err,\"Sensitivity:\",sens,\"specificity:\",spec)\n",
    "            \n",
    "            \n",
    "            if epoch>1 and ( err<=e_th ):\n",
    "                break\n",
    "            \n",
    "            else:\n",
    "                pre_err = err\n",
    "            \n",
    "        return Etss, specificity, sensitivity\n",
    "            "
   ]
  },
  {
   "cell_type": "code",
   "execution_count": 5,
   "metadata": {},
   "outputs": [],
   "source": [
    "## generate and save balanced data here\n",
    "# train_i, train_t, test_i, test_t = create_balanced_data(method=\"\")\n",
    "# save_balanced_data(train_i, train_t, test_i, test_t)\n",
    "# print(\"shape:\",np.shape(train_i),np.shape(train_t),np.shape(test_i))\n"
   ]
  },
  {
   "cell_type": "code",
   "execution_count": 6,
   "metadata": {},
   "outputs": [
    {
     "name": "stdout",
     "output_type": "stream",
     "text": [
      "shape: (800, 27) (800,) (768, 27) (768,)\n"
     ]
    }
   ],
   "source": [
    "# load balanced data and shuffle them\n",
    "train_i, train_t, test_i, test_t = load_balanced_data()\n",
    "print(\"shape:\",np.shape(train_i),np.shape(train_t),np.shape(test_i),np.shape(test_t))\n",
    "# print((train_t[0:500]),(train_t[500:]))\n",
    "\n",
    "from sklearn.utils import shuffle\n",
    "train_i, train_t = shuffle(train_i, train_t)\n",
    "\n",
    "\n"
   ]
  },
  {
   "cell_type": "code",
   "execution_count": 7,
   "metadata": {},
   "outputs": [
    {
     "data": {
      "text/plain": [
       "((1568, 27), (1568, 27), (800, 27), (768, 27))"
      ]
     },
     "execution_count": 7,
     "metadata": {},
     "output_type": "execute_result"
    }
   ],
   "source": [
    "#normalize data\n",
    "len_train = len(train_i)\n",
    "len_test = len(test_i)\n",
    "data = np.concatenate([train_i,test_i])\n",
    "#normalize data to range [-1,1]\n",
    "new_max =1.0\n",
    "new_min = -1.0\n",
    "norm_data = ((data- np.min(data,axis=0))/(np.max(data,axis=0) - np.min(data,axis=0)))*(new_max-new_min)+new_min\n",
    "norm_train_i = norm_data[0:len_train,:]\n",
    "test_i = norm_data[len_train:,:]\n",
    "np.shape(norm_data), np.shape(data), np.shape(norm_train_i), np.shape(test_i)"
   ]
  },
  {
   "cell_type": "code",
   "execution_count": 8,
   "metadata": {},
   "outputs": [],
   "source": [
    "# save weights\n",
    "def save_weights(w,i):\n",
    "    import json\n",
    "    fp = open(\"weights/model_case_\"+str(i)+\".txt\",\"w+\")\n",
    "    fp.write(json.dumps(w))\n",
    "    fp.close()\n",
    "\n",
    "def load_weights(model):\n",
    "    import json\n",
    "    i =1 if model =='model_1' else 2\n",
    "    fp = open(\"weights/model_case_\"+str(i)+\".txt\",\"r\")\n",
    "    line= fp.read()\n",
    "    w= json.loads(line)\n",
    "    return {1:np.array(w['1']),2:np.array(w['2'])}\n",
    "\n",
    "def save_curves(case,name,epoch,err, sens,specif):\n",
    "    import json\n",
    "    fp = open(\"Case-\"+str(case)+\"-data\"+\"/log_\"+name+\".txt\",\"w+\")\n",
    "    for i in range(len(epoch)):\n",
    "        fp.write(str(epoch[i])+\" \"+str(err[i])+\" \"+str(sens[i])+\" \"+str(specif[i])+\"\\n\")\n",
    "           \n",
    "    fp.close()"
   ]
  },
  {
   "cell_type": "code",
   "execution_count": 9,
   "metadata": {},
   "outputs": [],
   "source": [
    "#initialize weights of case 1 randomly\n",
    "# if using relu, max iteration =1000,  learning rate <=0.003\n",
    "# if learning rate is big, error is easy to rise up again\n",
    "\n",
    "d = 27\n",
    "model_1 = MLFF(input_shape  = d)\n",
    "model_1.add_layer((d,2*d+1),activation='relu')\n",
    "model_1.add_layer((2*d+1,1),initializer='')\n",
    "#backup weights of case 1\n",
    "# model_1_weights = model_1.weights.copy()\n",
    "\n"
   ]
  },
  {
   "cell_type": "code",
   "execution_count": 10,
   "metadata": {
    "scrolled": true
   },
   "outputs": [
    {
     "name": "stdout",
     "output_type": "stream",
     "text": [
      "Epoch: 0 Error: 127.76428086786092 Sensitivity: 0.0 specificity: 0.9975\n",
      "Epoch: 100 Error: 125.90615048999562 Sensitivity: 0.0 specificity: 0.9975\n",
      "Epoch: 200 Error: 121.54520113677061 Sensitivity: 0.0 specificity: 0.9975\n",
      "Epoch: 300 Error: 115.83959625344403 Sensitivity: 0.0 specificity: 0.99\n",
      "Epoch: 400 Error: 109.86704220410351 Sensitivity: 0.0 specificity: 0.975\n",
      "Epoch: 500 Error: 104.83848396725531 Sensitivity: 0.0275 specificity: 0.925\n",
      "Epoch: 600 Error: 102.13263019711026 Sensitivity: 0.27 specificity: 0.795\n",
      "Epoch: 700 Error: 101.5489940736495 Sensitivity: 0.4175 specificity: 0.6925\n",
      "Epoch: 800 Error: 101.54170085131155 Sensitivity: 0.5 specificity: 0.64\n",
      "Epoch: 900 Error: 101.70760922222945 Sensitivity: 0.5 specificity: 0.5825\n",
      "Epoch: 1000 Error: 101.88624868445685 Sensitivity: 0.5 specificity: 0.5625\n",
      "Epoch: 1100 Error: 102.01511643693158 Sensitivity: 0.5 specificity: 0.555\n",
      "Epoch: 1200 Error: 102.13324368550009 Sensitivity: 0.5 specificity: 0.5525\n",
      "Epoch: 1300 Error: 102.18686877121917 Sensitivity: 0.5 specificity: 0.5525\n",
      "Epoch: 1400 Error: 102.23672061231291 Sensitivity: 0.5 specificity: 0.5525\n",
      "Epoch: 1500 Error: 102.24055598254851 Sensitivity: 0.5 specificity: 0.555\n",
      "Epoch: 1600 Error: 102.23379061447334 Sensitivity: 0.5 specificity: 0.5575\n",
      "Epoch: 1700 Error: 102.21495263252457 Sensitivity: 0.53 specificity: 0.545\n",
      "Epoch: 1800 Error: 102.1977521696645 Sensitivity: 0.53 specificity: 0.55\n",
      "Epoch: 1900 Error: 102.18238055379204 Sensitivity: 0.53 specificity: 0.5525\n",
      "Epoch: 2000 Error: 102.19019099965374 Sensitivity: 0.5475 specificity: 0.55\n",
      "Epoch: 2100 Error: 102.16275960591082 Sensitivity: 0.5475 specificity: 0.55\n",
      "Epoch: 2200 Error: 102.12361664435682 Sensitivity: 0.5475 specificity: 0.555\n",
      "Epoch: 2300 Error: 102.07103710559656 Sensitivity: 0.5525 specificity: 0.56\n",
      "Epoch: 2400 Error: 102.041607457634 Sensitivity: 0.5525 specificity: 0.555\n",
      "Epoch: 2500 Error: 102.02855693762638 Sensitivity: 0.5525 specificity: 0.55\n",
      "Epoch: 2600 Error: 101.99486893810068 Sensitivity: 0.555 specificity: 0.5525\n",
      "Epoch: 2700 Error: 101.991044206318 Sensitivity: 0.555 specificity: 0.5525\n",
      "Epoch: 2800 Error: 101.97159369953204 Sensitivity: 0.555 specificity: 0.5625\n",
      "Epoch: 2900 Error: 101.96801223823122 Sensitivity: 0.555 specificity: 0.5625\n",
      "Epoch: 3000 Error: 101.97755466817374 Sensitivity: 0.555 specificity: 0.5625\n",
      "Epoch: 3100 Error: 101.98544855771196 Sensitivity: 0.555 specificity: 0.5625\n",
      "Epoch: 3200 Error: 101.98583713308815 Sensitivity: 0.555 specificity: 0.5625\n",
      "Epoch: 3300 Error: 101.97656544655554 Sensitivity: 0.555 specificity: 0.5675\n",
      "Epoch: 3400 Error: 101.95123547003513 Sensitivity: 0.555 specificity: 0.565\n",
      "Epoch: 3500 Error: 101.91371580389152 Sensitivity: 0.555 specificity: 0.565\n",
      "Epoch: 3600 Error: 101.87692652661731 Sensitivity: 0.555 specificity: 0.565\n",
      "Epoch: 3700 Error: 101.84604386598201 Sensitivity: 0.57 specificity: 0.565\n",
      "Epoch: 3800 Error: 101.81839668853894 Sensitivity: 0.57 specificity: 0.5675\n",
      "Epoch: 3900 Error: 101.78793353866493 Sensitivity: 0.57 specificity: 0.5625\n"
     ]
    }
   ],
   "source": [
    "#case 1: determine learning rate\n",
    "w1= load_weights(\"model_1\")\n",
    "model_1.weights=w1.copy()\n",
    "Etss_1a, specif_1a, sens_1a = model_1.train(norm_train_i,train_t,adaptive_rate = False,alpha0= 0.001,\n",
    "                                   bias=False,momentum_enabled=False ,max_iteration = 4000)\n"
   ]
  },
  {
   "cell_type": "code",
   "execution_count": 27,
   "metadata": {},
   "outputs": [],
   "source": [
    "\n",
    "epochs = [i*100 for i in range(len(Etss_1a))]\n",
    "# save_curves(1,\"rate_0.001\",epochs,Etss_1a, specif_1a, sens_1a )"
   ]
  },
  {
   "cell_type": "code",
   "execution_count": 28,
   "metadata": {},
   "outputs": [
    {
     "name": "stdout",
     "output_type": "stream",
     "text": [
      "Model 1 acc: 0.5872395833333334\n"
     ]
    }
   ],
   "source": [
    "\n",
    "preds = model_1.predict(test_i,bias=False)\n",
    "acc = float(list(np.logical_xor(test_t,preds)).count(False))/len(test_t)\n",
    "print(\"Model 1 acc:\",acc)\n"
   ]
  },
  {
   "cell_type": "code",
   "execution_count": 13,
   "metadata": {
    "scrolled": true
   },
   "outputs": [
    {
     "name": "stdout",
     "output_type": "stream",
     "text": [
      "Epoch: 0 Error: 127.76428086786092 Sensitivity: 0.0 specificity: 0.9975\n",
      "Epoch: 100 Error: 115.84984422013112 Sensitivity: 0.0 specificity: 0.99\n",
      "Epoch: 200 Error: 102.1162008140725 Sensitivity: 0.27 specificity: 0.79\n",
      "Epoch: 300 Error: 101.70913742036349 Sensitivity: 0.5 specificity: 0.58\n",
      "Epoch: 400 Error: 102.13209598166581 Sensitivity: 0.5 specificity: 0.5525\n",
      "Epoch: 500 Error: 102.24929120846674 Sensitivity: 0.5 specificity: 0.555\n",
      "Epoch: 600 Error: 102.20589318890833 Sensitivity: 0.53 specificity: 0.55\n",
      "Epoch: 700 Error: 102.17237226477532 Sensitivity: 0.5475 specificity: 0.55\n",
      "Epoch: 800 Error: 102.05656149224238 Sensitivity: 0.5525 specificity: 0.5525\n",
      "Epoch: 900 Error: 102.0033188732971 Sensitivity: 0.555 specificity: 0.5525\n",
      "Epoch: 1000 Error: 101.98951672683671 Sensitivity: 0.555 specificity: 0.5625\n",
      "Epoch: 1100 Error: 101.98961666908151 Sensitivity: 0.555 specificity: 0.5675\n",
      "Epoch: 1200 Error: 101.89089304494277 Sensitivity: 0.555 specificity: 0.565\n",
      "Epoch: 1300 Error: 101.80245853093149 Sensitivity: 0.57 specificity: 0.5625\n",
      "Epoch: 1400 Error: 101.64811697694218 Sensitivity: 0.57 specificity: 0.565\n",
      "Epoch: 1500 Error: 101.40479479960607 Sensitivity: 0.57 specificity: 0.5675\n",
      "Epoch: 1600 Error: 101.1308170694129 Sensitivity: 0.57 specificity: 0.5625\n",
      "Epoch: 1700 Error: 100.83609059607156 Sensitivity: 0.535 specificity: 0.5725\n",
      "Epoch: 1800 Error: 100.52907638790347 Sensitivity: 0.535 specificity: 0.585\n",
      "Epoch: 1900 Error: 100.22036231981662 Sensitivity: 0.5175 specificity: 0.585\n",
      "Epoch: 2000 Error: 99.91378622371926 Sensitivity: 0.5175 specificity: 0.595\n",
      "Epoch: 2100 Error: 99.60538316075882 Sensitivity: 0.5325 specificity: 0.5925\n",
      "Epoch: 2200 Error: 99.32961846356193 Sensitivity: 0.545 specificity: 0.6025\n",
      "Epoch: 2300 Error: 99.11868839226473 Sensitivity: 0.545 specificity: 0.6075\n",
      "Epoch: 2400 Error: 98.97486128360784 Sensitivity: 0.545 specificity: 0.615\n",
      "Epoch: 2500 Error: 98.75732501292214 Sensitivity: 0.545 specificity: 0.6175\n",
      "Epoch: 2600 Error: 98.50399402934868 Sensitivity: 0.5275 specificity: 0.625\n",
      "Epoch: 2700 Error: 98.25093821754528 Sensitivity: 0.5275 specificity: 0.63\n",
      "Epoch: 2800 Error: 98.00783471542417 Sensitivity: 0.555 specificity: 0.635\n",
      "Epoch: 2900 Error: 97.7796931903469 Sensitivity: 0.555 specificity: 0.6375\n",
      "Epoch: 3000 Error: 97.55207978089533 Sensitivity: 0.53 specificity: 0.6375\n",
      "Epoch: 3100 Error: 97.33074923858508 Sensitivity: 0.5125 specificity: 0.6375\n",
      "Epoch: 3200 Error: 97.11843324127834 Sensitivity: 0.5125 specificity: 0.63\n",
      "Epoch: 3300 Error: 96.91543147148039 Sensitivity: 0.5125 specificity: 0.63\n",
      "Epoch: 3400 Error: 96.72832518377595 Sensitivity: 0.5125 specificity: 0.6325\n",
      "Epoch: 3500 Error: 96.54727362166457 Sensitivity: 0.5125 specificity: 0.6325\n",
      "Epoch: 3600 Error: 96.37862096289372 Sensitivity: 0.5125 specificity: 0.6275\n",
      "Epoch: 3700 Error: 96.22020199292012 Sensitivity: 0.5125 specificity: 0.6325\n",
      "Epoch: 3800 Error: 96.08861380320006 Sensitivity: 0.5125 specificity: 0.635\n",
      "Epoch: 3900 Error: 95.97363443728426 Sensitivity: 0.4975 specificity: 0.6375\n"
     ]
    }
   ],
   "source": [
    "#case 1: determine learning rate\n",
    "\n",
    "model_1.weights=load_weights(\"model_1\")\n",
    "Etss_1b, specif_1b, sens_1b = model_1.train(norm_train_i,train_t,adaptive_rate = False,alpha0= 0.003,\n",
    "                                   bias=False,momentum_enabled=False ,max_iteration = 4000,interval=100)\n",
    "\n",
    "# save_curves(1,\"rate_0.003\",epochs,Etss_1b, specif_1b, sens_1b )\n"
   ]
  },
  {
   "cell_type": "code",
   "execution_count": 14,
   "metadata": {},
   "outputs": [
    {
     "name": "stdout",
     "output_type": "stream",
     "text": [
      "Model 1 acc: 0.6979166666666666\n"
     ]
    }
   ],
   "source": [
    "preds = model_1.predict(test_i,bias=False)\n",
    "acc = float(list(np.logical_xor(test_t,preds)).count(False))/len(test_t)\n",
    "print(\"Model 1 acc:\",acc)\n",
    "# print(Etss_1b, specif_1b, sens_1b )"
   ]
  },
  {
   "cell_type": "code",
   "execution_count": 15,
   "metadata": {
    "scrolled": true
   },
   "outputs": [
    {
     "name": "stdout",
     "output_type": "stream",
     "text": [
      "Epoch: 0 Error: 127.76428086786092 Sensitivity: 0.0 specificity: 0.9975\n",
      "Epoch: 100 Error: 101.80879227465351 Sensitivity: 0.5 specificity: 0.565\n",
      "Epoch: 200 Error: 102.21688749641483 Sensitivity: 0.53 specificity: 0.5525\n",
      "Epoch: 300 Error: 102.03821398449746 Sensitivity: 0.555 specificity: 0.5525\n",
      "Epoch: 400 Error: 102.00782701035308 Sensitivity: 0.555 specificity: 0.5675\n",
      "Epoch: 500 Error: 101.78763029694953 Sensitivity: 0.57 specificity: 0.5625\n",
      "Epoch: 600 Error: 101.28004285718089 Sensitivity: 0.57 specificity: 0.5625\n",
      "Epoch: 700 Error: 100.68266362437379 Sensitivity: 0.535 specificity: 0.5825\n",
      "Epoch: 800 Error: 100.09566711999256 Sensitivity: 0.5175 specificity: 0.5875\n",
      "Epoch: 900 Error: 99.54515312660139 Sensitivity: 0.5325 specificity: 0.595\n",
      "Epoch: 1000 Error: 99.1483201937267 Sensitivity: 0.545 specificity: 0.6075\n",
      "Epoch: 1100 Error: 98.87154515354094 Sensitivity: 0.545 specificity: 0.6175\n",
      "Epoch: 1200 Error: 98.47713473180157 Sensitivity: 0.5275 specificity: 0.625\n",
      "Epoch: 1300 Error: 98.10440747658404 Sensitivity: 0.555 specificity: 0.6325\n",
      "Epoch: 1400 Error: 97.77692653830705 Sensitivity: 0.555 specificity: 0.6375\n",
      "Epoch: 1500 Error: 97.46587214523294 Sensitivity: 0.5125 specificity: 0.6375\n",
      "Epoch: 1600 Error: 97.18068227914785 Sensitivity: 0.5125 specificity: 0.63\n",
      "Epoch: 1700 Error: 96.92077949333304 Sensitivity: 0.5125 specificity: 0.63\n",
      "Epoch: 1800 Error: 96.69282665711964 Sensitivity: 0.5125 specificity: 0.635\n",
      "Epoch: 1900 Error: 96.48379183376363 Sensitivity: 0.5125 specificity: 0.6325\n",
      "Epoch: 2000 Error: 96.29851926965938 Sensitivity: 0.5125 specificity: 0.6275\n",
      "Epoch: 2100 Error: 96.14063533667577 Sensitivity: 0.5125 specificity: 0.635\n",
      "Epoch: 2200 Error: 96.01447029784633 Sensitivity: 0.4975 specificity: 0.6375\n",
      "Epoch: 2300 Error: 95.91083898285494 Sensitivity: 0.4975 specificity: 0.63\n",
      "Epoch: 2400 Error: 95.85384999644418 Sensitivity: 0.4975 specificity: 0.6375\n",
      "Epoch: 2500 Error: 95.99323979697468 Sensitivity: 0.4975 specificity: 0.6425\n",
      "Epoch: 2600 Error: 96.2747260562119 Sensitivity: 0.495 specificity: 0.6425\n",
      "Epoch: 2700 Error: 96.26762789197196 Sensitivity: 0.495 specificity: 0.65\n",
      "Epoch: 2800 Error: 96.25435800230156 Sensitivity: 0.495 specificity: 0.6525\n",
      "Epoch: 2900 Error: 96.27832689112223 Sensitivity: 0.495 specificity: 0.6525\n",
      "Epoch: 3000 Error: 96.30528271614995 Sensitivity: 0.495 specificity: 0.65\n",
      "Epoch: 3100 Error: 96.33993488546474 Sensitivity: 0.495 specificity: 0.6625\n",
      "Epoch: 3200 Error: 96.39230906770185 Sensitivity: 0.48 specificity: 0.675\n",
      "Epoch: 3300 Error: 96.44598675229669 Sensitivity: 0.43 specificity: 0.6725\n",
      "Epoch: 3400 Error: 96.49617545398421 Sensitivity: 0.3875 specificity: 0.6725\n",
      "Epoch: 3500 Error: 96.55100796785027 Sensitivity: 0.41 specificity: 0.67\n",
      "Epoch: 3600 Error: 96.61966230152949 Sensitivity: 0.41 specificity: 0.68\n",
      "Epoch: 3700 Error: 96.69305111949784 Sensitivity: 0.41 specificity: 0.685\n",
      "Epoch: 3800 Error: 96.77862238122714 Sensitivity: 0.4025 specificity: 0.69\n",
      "Epoch: 3900 Error: 96.87747224598847 Sensitivity: 0.42 specificity: 0.6975\n"
     ]
    }
   ],
   "source": [
    "#case 1: determine learning rate\n",
    "\n",
    "model_1.weights=load_weights(\"model_1\")\n",
    "Etss_1c, specif_1c, sens_1c = model_1.train(norm_train_i,train_t,adaptive_rate = True,alpha0= 0.01,\n",
    "                                   bias=False,momentum_enabled=False ,max_iteration = 4000)\n",
    "# save_curves(1,\"adaptive_rate_0.01\",epochs,Etss_1c, specif_1c, sens_1c )"
   ]
  },
  {
   "cell_type": "code",
   "execution_count": 16,
   "metadata": {},
   "outputs": [
    {
     "name": "stdout",
     "output_type": "stream",
     "text": [
      "Model 1 acc: 0.7421875\n"
     ]
    }
   ],
   "source": [
    "preds = model_1.predict(test_i,bias=False)\n",
    "acc = float(list(np.logical_xor(test_t,preds)).count(False))/len(test_t)\n",
    "print(\"Model 1 acc:\",acc)\n"
   ]
  },
  {
   "cell_type": "code",
   "execution_count": 17,
   "metadata": {},
   "outputs": [
    {
     "name": "stdout",
     "output_type": "stream",
     "text": [
      "Epoch: 0 Error: 127.76428086786092 Sensitivity: 0.0 specificity: 0.9975\n",
      "Epoch: 100 Error: 101.87914764146949 Sensitivity: 0.5 specificity: 0.5625\n",
      "Epoch: 200 Error: 102.23228928058042 Sensitivity: 0.5475 specificity: 0.55\n",
      "Epoch: 300 Error: 102.02486728948867 Sensitivity: 0.555 specificity: 0.5625\n",
      "Epoch: 400 Error: 101.81964967774181 Sensitivity: 0.57 specificity: 0.5625\n",
      "Epoch: 500 Error: 100.9991586174555 Sensitivity: 0.57 specificity: 0.565\n",
      "Epoch: 600 Error: 99.97433659333201 Sensitivity: 0.5175 specificity: 0.595\n",
      "Epoch: 700 Error: 99.10871786760103 Sensitivity: 0.545 specificity: 0.61\n",
      "Epoch: 800 Error: 98.38050316948299 Sensitivity: 0.5275 specificity: 0.6275\n",
      "Epoch: 900 Error: 97.58905155461566 Sensitivity: 0.53 specificity: 0.6375\n",
      "Epoch: 1000 Error: 96.87584638766229 Sensitivity: 0.5125 specificity: 0.63\n",
      "Epoch: 1100 Error: 96.28868211641077 Sensitivity: 0.5125 specificity: 0.63\n",
      "Epoch: 1200 Error: 95.88874647572186 Sensitivity: 0.4975 specificity: 0.6325\n",
      "Epoch: 1300 Error: 96.26943961090609 Sensitivity: 0.495 specificity: 0.6475\n",
      "Epoch: 1400 Error: 96.31458441058585 Sensitivity: 0.495 specificity: 0.6525\n",
      "Epoch: 1500 Error: 96.53318123286786 Sensitivity: 0.41 specificity: 0.67\n",
      "Epoch: 1600 Error: 96.92459741956071 Sensitivity: 0.405 specificity: 0.7075\n",
      "Epoch: 1700 Error: 97.68160932574597 Sensitivity: 0.4725 specificity: 0.705\n",
      "Epoch: 1800 Error: 98.75128787699695 Sensitivity: 0.4175 specificity: 0.6975\n",
      "Epoch: 1900 Error: 99.92716778202578 Sensitivity: 0.395 specificity: 0.67\n",
      "Epoch: 2000 Error: 101.32062857632008 Sensitivity: 0.4 specificity: 0.64\n",
      "Epoch: 2100 Error: 102.6134015063132 Sensitivity: 0.3825 specificity: 0.59\n",
      "Epoch: 2200 Error: 103.45155848559028 Sensitivity: 0.3825 specificity: 0.5625\n",
      "Epoch: 2300 Error: 103.7408817660258 Sensitivity: 0.355 specificity: 0.555\n",
      "Epoch: 2400 Error: 103.37464126527976 Sensitivity: 0.355 specificity: 0.59\n",
      "Epoch: 2500 Error: 102.50102858875827 Sensitivity: 0.385 specificity: 0.6225\n",
      "Epoch: 2600 Error: 101.53053654906508 Sensitivity: 0.425 specificity: 0.6675\n",
      "Epoch: 2700 Error: 100.7232640634145 Sensitivity: 0.4575 specificity: 0.655\n",
      "Epoch: 2800 Error: 100.72408050581757 Sensitivity: 0.4525 specificity: 0.6375\n",
      "Epoch: 2900 Error: 100.14880484351261 Sensitivity: 0.4575 specificity: 0.625\n",
      "Epoch: 3000 Error: 100.03025375798195 Sensitivity: 0.5125 specificity: 0.5875\n",
      "Epoch: 3100 Error: 99.83110432022576 Sensitivity: 0.5125 specificity: 0.59\n",
      "Epoch: 3200 Error: 100.31777396185336 Sensitivity: 0.5325 specificity: 0.56\n",
      "Epoch: 3300 Error: 99.84163301414385 Sensitivity: 0.535 specificity: 0.5475\n",
      "Epoch: 3400 Error: 99.24748819567695 Sensitivity: 0.535 specificity: 0.535\n",
      "Epoch: 3500 Error: 98.98911525103021 Sensitivity: 0.5575 specificity: 0.525\n",
      "Epoch: 3600 Error: 99.02500577220337 Sensitivity: 0.6125 specificity: 0.53\n",
      "Epoch: 3700 Error: 99.3614947895437 Sensitivity: 0.6125 specificity: 0.54\n",
      "Epoch: 3800 Error: 99.72142783426578 Sensitivity: 0.565 specificity: 0.52\n",
      "Epoch: 3900 Error: 100.008009377582 Sensitivity: 0.52 specificity: 0.555\n"
     ]
    }
   ],
   "source": [
    "#case 1: determine learning rate\n",
    "model_1.weights=load_weights(\"model_1\")\n",
    "Etss_1d, specif_1d, sens_1d = model_1.train(norm_train_i,train_t,adaptive_rate = False,alpha0= 0.01,\n",
    "                                   bias=False,momentum_enabled=False ,max_iteration = 4000)\n",
    "# save_curves(1,\"rate_0.01\",epochs,Etss_1d, specif_1d, sens_1d )"
   ]
  },
  {
   "cell_type": "code",
   "execution_count": 18,
   "metadata": {},
   "outputs": [],
   "source": [
    "# epochs = [i*100 for i in range(len(Etss_1a))]\n",
    "# save_curves(1,\"rate_0.001\",epochs,Etss_1a, specif_1a, sens_1a )\n",
    "# save_curves(1,\"rate_0.003\",epochs,Etss_1b, specif_1b, sens_1b )\n",
    "# save_curves(1,\"rate_0.01\",epochs,Etss_1d, specif_1d, sens_1d )\n",
    "# save_curves(1,\"adaptive_rate_0.01\",epochs,Etss_1c, specif_1c, sens_1c )\n"
   ]
  },
  {
   "cell_type": "code",
   "execution_count": 19,
   "metadata": {},
   "outputs": [],
   "source": [
    "#case 3 uses the weights from case 1\n",
    "model_3 = MLFF(input_shape  = d)\n",
    "model_3.add_layer((d,2*d+1),activation='relu')\n",
    "model_3.add_layer((2*d+1,1),initializer='')\n",
    "\n"
   ]
  },
  {
   "cell_type": "code",
   "execution_count": 20,
   "metadata": {
    "scrolled": true
   },
   "outputs": [
    {
     "name": "stdout",
     "output_type": "stream",
     "text": [
      "Epoch: 0 Error: 127.76428086786092 Sensitivity: 0.0 specificity: 0.9975\n",
      "Epoch: 100 Error: 101.71925861629146 Sensitivity: 0.3825 specificity: 0.7325\n",
      "Epoch: 200 Error: 102.11632810914864 Sensitivity: 0.5 specificity: 0.5625\n",
      "Epoch: 300 Error: 102.11331089957689 Sensitivity: 0.53 specificity: 0.575\n",
      "Epoch: 400 Error: 101.99552445364573 Sensitivity: 0.5525 specificity: 0.5725\n",
      "Epoch: 500 Error: 101.87737925118118 Sensitivity: 0.53 specificity: 0.5725\n",
      "Epoch: 600 Error: 101.99871444662902 Sensitivity: 0.53 specificity: 0.57\n",
      "Epoch: 700 Error: 101.93309949787114 Sensitivity: 0.53 specificity: 0.5725\n",
      "Epoch: 800 Error: 101.69393259455066 Sensitivity: 0.555 specificity: 0.57\n",
      "Epoch: 900 Error: 101.4040310884289 Sensitivity: 0.52 specificity: 0.565\n",
      "Epoch: 1000 Error: 101.09016833093337 Sensitivity: 0.5025 specificity: 0.5825\n",
      "Epoch: 1100 Error: 100.77073299885825 Sensitivity: 0.5025 specificity: 0.5875\n",
      "Epoch: 1200 Error: 100.46051634139177 Sensitivity: 0.5025 specificity: 0.5975\n",
      "Epoch: 1300 Error: 100.16673290694234 Sensitivity: 0.5175 specificity: 0.595\n",
      "Epoch: 1400 Error: 99.90179804744083 Sensitivity: 0.5175 specificity: 0.6\n",
      "Epoch: 1500 Error: 99.69282948438115 Sensitivity: 0.5175 specificity: 0.605\n",
      "Epoch: 1600 Error: 99.56429518610587 Sensitivity: 0.5175 specificity: 0.61\n",
      "Epoch: 1700 Error: 99.4208839190518 Sensitivity: 0.545 specificity: 0.6125\n",
      "Epoch: 1800 Error: 99.21598461759076 Sensitivity: 0.5275 specificity: 0.6175\n",
      "Epoch: 1900 Error: 99.02081251323558 Sensitivity: 0.5275 specificity: 0.62\n",
      "Epoch: 2000 Error: 98.83318316642374 Sensitivity: 0.5275 specificity: 0.63\n",
      "Epoch: 2100 Error: 98.65850300822777 Sensitivity: 0.51 specificity: 0.635\n",
      "Epoch: 2200 Error: 98.49538174102032 Sensitivity: 0.485 specificity: 0.64\n",
      "Epoch: 2300 Error: 98.33017489024165 Sensitivity: 0.485 specificity: 0.6425\n",
      "Epoch: 2400 Error: 98.16599576338955 Sensitivity: 0.485 specificity: 0.64\n",
      "Epoch: 2500 Error: 98.00762032187069 Sensitivity: 0.485 specificity: 0.64\n",
      "Epoch: 2600 Error: 97.8585500552714 Sensitivity: 0.5125 specificity: 0.645\n",
      "Epoch: 2700 Error: 97.71762775122504 Sensitivity: 0.5125 specificity: 0.6425\n",
      "Epoch: 2800 Error: 97.57865873996231 Sensitivity: 0.5125 specificity: 0.6375\n",
      "Epoch: 2900 Error: 97.4464665100759 Sensitivity: 0.5125 specificity: 0.64\n",
      "Epoch: 3000 Error: 97.32104845098203 Sensitivity: 0.5125 specificity: 0.6425\n",
      "Epoch: 3100 Error: 97.20314445000567 Sensitivity: 0.5125 specificity: 0.64\n",
      "Epoch: 3200 Error: 97.09154063521747 Sensitivity: 0.5125 specificity: 0.64\n",
      "Epoch: 3300 Error: 96.98584286684903 Sensitivity: 0.5125 specificity: 0.64\n",
      "Epoch: 3400 Error: 96.88455997126765 Sensitivity: 0.5125 specificity: 0.6375\n",
      "Epoch: 3500 Error: 96.78941002780472 Sensitivity: 0.5125 specificity: 0.64\n",
      "Epoch: 3600 Error: 96.70235038334546 Sensitivity: 0.5125 specificity: 0.645\n",
      "Epoch: 3700 Error: 96.62206201868777 Sensitivity: 0.5125 specificity: 0.645\n",
      "Epoch: 3800 Error: 96.54740028567088 Sensitivity: 0.5125 specificity: 0.645\n",
      "Epoch: 3900 Error: 96.47999343460393 Sensitivity: 0.5125 specificity: 0.65\n"
     ]
    }
   ],
   "source": [
    "model_3.weights=load_weights(\"model_1\")\n",
    "Etss_3a, specif_3a, sens_3a = model_3.train(norm_train_i,train_t,adaptive_rate = True,alpha0= 0.01,\n",
    "                                            beta0=0.999,bias=False,momentum_enabled=True ,max_iteration = 4000)"
   ]
  },
  {
   "cell_type": "code",
   "execution_count": 21,
   "metadata": {},
   "outputs": [],
   "source": [
    "epochs = [i*100 for i in range(len(Etss_3a))]\n",
    "# save_curves(3,\"momentum\",epochs,Etss_3a, specif_3a, sens_3a )"
   ]
  },
  {
   "cell_type": "code",
   "execution_count": 22,
   "metadata": {},
   "outputs": [
    {
     "name": "stdout",
     "output_type": "stream",
     "text": [
      "Model 3 acc: 0.6861979166666666\n"
     ]
    }
   ],
   "source": [
    "preds = model_3.predict(test_i,bias=False)\n",
    "acc = float(list(np.logical_xor(test_t,preds)).count(False))/len(test_t)\n",
    "print(\"Model 3 acc:\",acc)\n",
    "# print(Etss_1b, specif_1b, sens_1b )"
   ]
  },
  {
   "cell_type": "code",
   "execution_count": 23,
   "metadata": {},
   "outputs": [
    {
     "data": {
      "text/plain": [
       "Text(0,0.5,'Etss')"
      ]
     },
     "execution_count": 23,
     "metadata": {},
     "output_type": "execute_result"
    },
    {
     "data": {
      "image/png": "[encoded data removed]",
      "text/plain": [
       "<Figure size 432x288 with 1 Axes>"
      ]
     },
     "metadata": {},
     "output_type": "display_data"
    }
   ],
   "source": [
    "epochs = [i*100 for i in range(len(Etss_1b))]\n",
    "plt.plot(epochs, Etss_1a,'r')\n",
    "plt.plot(epochs, Etss_1b,'b')\n",
    "plt.plot(epochs, Etss_1d,'y')\n",
    "plt.plot(epochs, Etss_1c,'g')\n",
    "plt.legend([\"Case-1_rate_0.001\",\"Case-1_rate_0.003\",\"Case-1_rate_0.01\",\"Case-1_adaptive_rate_0.01\"])\n",
    "plt.xlabel(\"epochs (each 100 epochs)\")\n",
    "plt.ylabel(\"Etss\")"
   ]
  },
  {
   "cell_type": "code",
   "execution_count": 24,
   "metadata": {},
   "outputs": [
    {
     "data": {
      "text/plain": [
       "Text(0,0.5,'Etss')"
      ]
     },
     "execution_count": 24,
     "metadata": {},
     "output_type": "execute_result"
    },
    {
     "data": {
      "image/png": "[encoded data removed]",
      "text/plain": [
       "<Figure size 432x288 with 1 Axes>"
      ]
     },
     "metadata": {},
     "output_type": "display_data"
    }
   ],
   "source": [
    "epochs = [i*100 for i in range(len(Etss_3a))]\n",
    "plt.plot(epochs, Etss_1c[0:len(Etss_3a)],'r')\n",
    "plt.plot(epochs, Etss_3a,'b')\n",
    "plt.legend([\"Case-1_no_momentum\",\"Case-3_momentum\"])\n",
    "plt.xlabel(\"epochs (each 100 epochs)\")\n",
    "plt.ylabel(\"Etss\")"
   ]
  },
  {
   "cell_type": "code",
   "execution_count": 25,
   "metadata": {},
   "outputs": [
    {
     "data": {
      "text/plain": [
       "Text(0,0.5,'Sensitivity')"
      ]
     },
     "execution_count": 25,
     "metadata": {},
     "output_type": "execute_result"
    },
    {
     "data": {
      "image/png": "[encoded data removed]",
      "text/plain": [
       "<Figure size 432x288 with 1 Axes>"
      ]
     },
     "metadata": {},
     "output_type": "display_data"
    }
   ],
   "source": [
    "ind= np.argsort(specif_1a)\n",
    "specif_1a = np.array(specif_1a)[ind]\n",
    "sens_1a = np.array(sens_1a)[ind]\n",
    "\n",
    "\n",
    "ind= np.argsort(specif_1b)\n",
    "specif_1b = np.array(specif_1b)[ind]\n",
    "sens_1b = np.array(sens_1b)[ind]\n",
    "\n",
    "ind= np.argsort(specif_1c)\n",
    "specif_1c = np.array(specif_1c)[ind]\n",
    "sens_1c = np.array(sens_1c)[ind]\n",
    "\n",
    "plt.plot(1-np.array(specif_1a), sens_1a,'r')\n",
    "plt.plot(1-np.array(specif_1b), sens_1b,'b')\n",
    "plt.plot(1-np.array(specif_1d), sens_1d,'y')\n",
    "plt.plot(1-np.array(specif_1c), sens_1c,'g')\n",
    "plt.legend([\"Case-1_rate_0.001\",\"Case-1_rate_0.003\",\"Case-1_adaptive_rate_0.01\"])\n",
    "plt.xlabel(\"1-Specificity\")\n",
    "plt.ylabel(\"Sensitivity\")"
   ]
  },
  {
   "cell_type": "code",
   "execution_count": 26,
   "metadata": {},
   "outputs": [
    {
     "data": {
      "text/plain": [
       "Text(0,0.5,'Sensitivity')"
      ]
     },
     "execution_count": 26,
     "metadata": {},
     "output_type": "execute_result"
    },
    {
     "data": {
      "image/png": "[encoded data removed]",
      "text/plain": [
       "<Figure size 432x288 with 1 Axes>"
      ]
     },
     "metadata": {},
     "output_type": "display_data"
    }
   ],
   "source": [
    "\n",
    "ind= np.argsort(specif_3a)\n",
    "specif_3a = np.array(specif_3a)[ind]\n",
    "sens_3a = np.array(sens_3a)[ind]\n",
    "\n",
    "ind= np.argsort(specif_1c)\n",
    "specif_1c = np.array(specif_1c)[ind]\n",
    "sens_1c = np.array(sens_1c)[ind]\n",
    "\n",
    "\n",
    "plt.plot(1-np.array(specif_1c), sens_1c,'r')\n",
    "plt.plot(1-np.array(specif_3a), sens_3a,'b')\n",
    "plt.legend([\"Case-1_no_momentum\",\"Case-3_momentum\"])\n",
    "plt.xlabel(\"1-Specificity\")\n",
    "plt.ylabel(\"Sensitivity\")"
   ]
  },
  {
   "cell_type": "code",
   "execution_count": null,
   "metadata": {},
   "outputs": [],
   "source": []
  }
 ],
 "metadata": {
  "kernelspec": {
   "display_name": "Python 3 (my CI env)",
   "language": "python",
   "name": "myenv"
  },
  "language_info": {
   "codemirror_mode": {
    "name": "ipython",
    "version": 3
   },
   "file_extension": ".py",
   "mimetype": "text/x-python",
   "name": "python",
   "nbconvert_exporter": "python",
   "pygments_lexer": "ipython3",
   "version": "3.6.8"
  }
 },
 "nbformat": 4,
 "nbformat_minor": 2
}
